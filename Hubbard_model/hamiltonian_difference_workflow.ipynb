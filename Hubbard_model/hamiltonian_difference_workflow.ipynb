{
 "cells": [
  {
   "cell_type": "code",
   "id": "initial_id",
   "metadata": {
    "collapsed": true,
    "ExecuteTime": {
     "end_time": "2024-06-04T18:15:16.381610Z",
     "start_time": "2024-06-04T18:15:16.375849Z"
    }
   },
   "source": [
    "import numpy as np\n",
    "\n",
    "import CAS.dmrghandler.src.dmrghandler as dmrghandler\n",
    "from CAS.dmrghandler.src.dmrghandler import dmrg_calc_prepare\n",
    "from pathlib import Path\n",
    "import scipy\n",
    "import pandas as pd\n",
    "import os\n",
    "import itertools\n",
    "import xlsxwriter"
   ],
   "outputs": [],
   "execution_count": 42
  },
  {
   "metadata": {},
   "cell_type": "markdown",
   "source": "### Spatial to Spin orbitals transformations",
   "id": "7ff3c1b627ec9bdc"
  },
  {
   "metadata": {
    "ExecuteTime": {
     "end_time": "2024-06-04T18:15:18.091723Z",
     "start_time": "2024-06-04T18:15:18.087304Z"
    }
   },
   "cell_type": "code",
   "source": [
    "def orb_to_spin_orbital_obt(obt):\n",
    "    n = obt.shape[0]\n",
    "    obt_spin = np.zeros((2 * n, 2 * n))\n",
    "    for p in range(n):\n",
    "        for q in range(n):\n",
    "            obt_spin[2 * p, 2 * q] = obt[p, q]\n",
    "            obt_spin[2 * p + 1, 2 * q + 1] = obt[p, q]\n",
    "    \n",
    "    return obt_spin\n",
    "\n",
    "def otb_to_spin_orbital_tbt(tbt):\n",
    "    n = tbt.shape[0]\n",
    "    tbt_spin = np.zeros((2 * n, 2 * n, 2 * n, 2 * n))\n",
    "    for p in range(n):\n",
    "        for q in range(n):\n",
    "            for r in range(n):\n",
    "                for s in range(n):\n",
    "                    tbt_spin[2 * p, 2 * q, 2 * r, 2 * s] = tbt[p, q, r, s]\n",
    "                    tbt_spin[2 * p + 1, 2 * q + 1, 2 * r, 2 * s] = tbt[p, q, r, s]\n",
    "                    tbt_spin[2 * p, 2 * q, 2 * r + 1, 2 * s + 1] = tbt[p, q, r, s]\n",
    "                    tbt_spin[2 * p + 1, 2 * q + 1, 2 * r + 1, 2 * s + 1] = tbt[p, q, r, s]\n",
    "    \n",
    "    return tbt_spin\n",
    "\n",
    "def otb_to_spin_orbital(tensor):\n",
    "    if len(tensor.shape) == 2:\n",
    "        return orb_to_spin_orbital_obt(tensor)\n",
    "    elif len(tensor.shape) == 4:\n",
    "        return otb_to_spin_orbital_tbt(tensor)"
   ],
   "id": "ebddfe6e6b02e566",
   "outputs": [],
   "execution_count": 46
  },
  {
   "metadata": {},
   "cell_type": "markdown",
   "source": "### Hubbard terms definitions",
   "id": "9d8503983326a3bb"
  },
  {
   "metadata": {
    "ExecuteTime": {
     "end_time": "2024-06-04T18:15:18.834654Z",
     "start_time": "2024-06-04T18:15:18.829978Z"
    }
   },
   "cell_type": "code",
   "source": [
    "def hubbard_epsilon(obt_spatial):\n",
    "    n = obt_spatial.shape[0]\n",
    "    total = 0\n",
    "    for i in range(n):\n",
    "        total += obt_spatial[i, i]\n",
    "    return total / n\n",
    "\n",
    "def hubbard_negative_t(obt_spatial):\n",
    "    n = obt_spatial.shape[0]\n",
    "    total = 0\n",
    "    for p in range(1, n-1):\n",
    "        total += obt_spatial[p - 1, p]\n",
    "        total += obt_spatial[p, p + 1]\n",
    "    return total / (2 * (n - 1))\n",
    "\n",
    "def hubbard_u(tbt_spatial):\n",
    "    n = tbt_spatial.shape[0]\n",
    "    total = 0\n",
    "    for p in range(n):\n",
    "        total += tbt_spatial[p, p, p, p]\n",
    "    return total / n"
   ],
   "id": "1f46b56adfd80afa",
   "outputs": [],
   "execution_count": 49
  },
  {
   "metadata": {
    "ExecuteTime": {
     "end_time": "2024-06-04T18:22:39.347040Z",
     "start_time": "2024-06-04T18:22:39.334632Z"
    }
   },
   "cell_type": "code",
   "source": [
    "def hubbard_epsilon_term(obt_spatial, obt_spin):\n",
    "    nspin = obt_spin.shape[0]\n",
    "    norb = obt_spin.shape[0] // 2\n",
    "    epsilon_term = np.zeros((nspin, nspin))\n",
    "    epsilon = hubbard_epsilon(obt_spatial)\n",
    "    for i in range(norb):\n",
    "        epsilon_term[2 * i, 2 * i] = epsilon\n",
    "        epsilon_term[2 * i + 1, 2 * i + 1] = epsilon\n",
    "    return epsilon_term\n",
    "\n",
    "def hubbard_t_term(obt_spatial, obt_spin):\n",
    "    nspin = obt_spin.shape[0]\n",
    "    norb = obt_spin.shape[0] // 2\n",
    "    t_term = np.zeros((nspin, nspin))\n",
    "    t = hubbard_negative_t(obt_spatial)\n",
    "    for i in range(norb-1):\n",
    "        j = i + 1\n",
    "        t_term[2 * j, 2 * i] = t\n",
    "        t_term[2 * j + 1, 2 * i + 1] = t\n",
    "        t_term[2 * i, 2 * j] = t\n",
    "        t_term[2 * i + 1, 2 * j + 1] = t\n",
    "    return t_term\n",
    "\n",
    "def hubbard_u_term(tbt_spatial, tbt_spin):\n",
    "    nspin = tbt_spin.shape[0]\n",
    "    norb = tbt_spin.shape[0] // 2\n",
    "    u_term = np.zeros((nspin, nspin, nspin, nspin))\n",
    "    u = hubbard_u(tbt_spatial)\n",
    "    for i in range(norb):\n",
    "        u_term[2 * i, 2 * i, 2 * i + 1, 2 * i + 1] = u\n",
    "    \n",
    "    return u_term\n"
   ],
   "id": "3c262264af11bcf9",
   "outputs": [],
   "execution_count": 101
  },
  {
   "metadata": {},
   "cell_type": "markdown",
   "source": "### Tests for Hubbard model Hamiltonian construction",
   "id": "cbe8f651915025dc"
  },
  {
   "metadata": {},
   "cell_type": "code",
   "outputs": [],
   "execution_count": null,
   "source": [
    "def test_epsilon_term(epsilon_term):\n",
    "    indices = [i for i in range(epsilon_term.shape[0])]\n",
    "    for pair in itertools.product(indices, indices):\n",
    "        if pair[0] != pair[1]:\n",
    "            assert epsilon_term[pair[0], pair[1]] == 0, \"epsilon term not correct symmetry\"\n",
    "\n",
    "def test_t_term(t_term):\n",
    "    indices = [i for i in range(t_term.shape[0])]\n",
    "    for pair in itertools.product(indices, indices):\n",
    "        if pair[0] == pair[1]:\n",
    "            assert t_term[pair[0], pair[1]] == 0, \"t term not correct symmetry\"\n",
    "        elif pair[0] == pair[1] + 1:\n",
    "            assert t_term[pair[0], pair[1]] == t_term[pair[1], pair[0]], \"t term not correct symmetry\"\n",
    "\n",
    "def test_U_term(U_term):\n",
    "    indices = [i for i in range(U_term.shape[0])]\n",
    "    for pair in itertools.product(indices, indices, indices, indices):\n",
    "        if pair[0] % 2 == 0 and  pair[0] == pair[1] and pair[2] == pair[0] + 1 and pair[2] == pair[3]:\n",
    "            assert U_term[pair[0], pair[1], pair[2], pair[3]] != 0, \"U term not correct symmetry\"\n",
    "        else:\n",
    "            assert U_term[pair[0], pair[1], pair[2], pair[3]] == 0, \"U term not correct symmetry\""
   ],
   "id": "2e72096974982808"
  },
  {
   "metadata": {},
   "cell_type": "markdown",
   "source": "### Iterate through the FCIDUMP file directory",
   "id": "3dc1ddc9b054e02d"
  },
  {
   "metadata": {
    "ExecuteTime": {
     "end_time": "2024-06-04T18:22:39.703831Z",
     "start_time": "2024-06-04T18:22:39.700159Z"
    }
   },
   "cell_type": "code",
   "source": [
    "fcidump_path =Path(\"small_catalysts\")\n",
    "# Create Excel writer object\n",
    "writer = pd.ExcelWriter(\"nearness_to_hubbard_june4.xlsx\", engine='xlsxwriter')"
   ],
   "id": "2402fbc9b46ee541",
   "outputs": [],
   "execution_count": 104
  },
  {
   "metadata": {
    "ExecuteTime": {
     "end_time": "2024-06-04T18:22:39.832825Z",
     "start_time": "2024-06-04T18:22:39.819445Z"
    }
   },
   "cell_type": "code",
   "source": [
    "\n",
    "column_names = [\"FCIDUMP file\", \"L2 norm difference for obt\", \"L2 norm difference for tbt\", \"F\"]\n",
    "data_to_be_added = []\n",
    "for filename in os.listdir(fcidump_path):\n",
    "    print(f\"Current file: {filename}\")\n",
    "    (\n",
    "    one_body_tensor,\n",
    "    two_body_tensor,\n",
    "    nuc_rep_energy,\n",
    "    num_orbitals,\n",
    "    num_spin_orbitals,\n",
    "    num_electrons,\n",
    "    two_S,\n",
    "    two_Sz,\n",
    "    orb_sym,\n",
    "    extra_attributes,\n",
    "    ) = dmrg_calc_prepare.load_tensors_from_fcidump(data_file_path=Path(fcidump_path)/Path(filename), molpro_orbsym_convention=True)\n",
    "    \n",
    "    obt_spin = otb_to_spin_orbital(one_body_tensor)\n",
    "    tbt_spin = otb_to_spin_orbital(two_body_tensor)\n",
    "    print(\"Orb to spin done\")\n",
    "    epsilon_term = hubbard_epsilon_term(one_body_tensor.copy(), obt_spin.copy()) \n",
    "    test_epsilon_term(epsilon_term)\n",
    "    t_term = hubbard_t_term(one_body_tensor.copy(), obt_spin.copy())\n",
    "    test_t_term(t_term)\n",
    "    H_hubbard_obt = epsilon_term + t_term\n",
    "    print(\"Hubbard one body done\")\n",
    "    U_term = hubbard_u_term(two_body_tensor.copy(), tbt_spin.copy())\n",
    "    test_U_term(U_term)\n",
    "    H_hubbard_tbt = U_term\n",
    "    \n",
    "    \n",
    "    print(\"Hubbard done\")\n",
    "    l2_diff_obt = scipy.linalg.norm(obt_spin - H_hubbard_obt, ord=None)\n",
    "    l2_diff_tbt = scipy.linalg.norm(tbt_spin - H_hubbard_tbt, ord=None)\n",
    "    \n",
    "    F = l2_diff_obt + l2_diff_tbt\n",
    "    print(f\"FCIDUMP file: {filename}\")\n",
    "    print(f\"L2 norm difference for obt: {l2_diff_obt}\")\n",
    "    print(f\"L2 norm difference for tbt: {l2_diff_tbt}\")\n",
    "    print(f\"F: {F}\")\n",
    "    data_to_be_added.append([filename, l2_diff_obt, l2_diff_tbt, F])\n"
   ],
   "id": "706fa549ee5943e5",
   "outputs": [
    {
     "name": "stdout",
     "output_type": "stream",
     "text": [
      "Current file: fcidump.2_co2_6-311++G__\n",
      "Parsing small_catalysts/fcidump.2_co2_6-311++G__\n",
      "Orb to spin done\n",
      "Hubbard one body done\n",
      "Hubbard done\n",
      "FCIDUMP file: fcidump.2_co2_6-311++G__\n",
      "L2 norm difference for obt: 3.208107750755828\n",
      "L2 norm difference for tbt: 6.411064467593759\n",
      "F: 9.619172218349586\n"
     ]
    }
   ],
   "execution_count": 105
  },
  {
   "metadata": {
    "ExecuteTime": {
     "end_time": "2024-06-04T18:22:39.971551Z",
     "start_time": "2024-06-04T18:22:39.955147Z"
    }
   },
   "cell_type": "code",
   "source": [
    "df_1 = pd.DataFrame()\n",
    "#Iteratively add data to new columns\n",
    "for column_name, column_data in zip(column_names, data_to_be_added):\n",
    "    df_1[column_name] = column_data\n",
    "\n",
    "df_1.to_excel(writer, sheet_name=\"Hubbard distance result\", index=False)"
   ],
   "id": "4f3afd103ace6cc4",
   "outputs": [],
   "execution_count": 106
  },
  {
   "metadata": {
    "ExecuteTime": {
     "end_time": "2024-06-04T18:22:40.389190Z",
     "start_time": "2024-06-04T18:22:40.384663Z"
    }
   },
   "cell_type": "code",
   "source": [
    "correct = []\n",
    "column1 = []\n",
    "column2 = []\n",
    "column3 = []\n",
    "column4 = []\n",
    "for q in data_to_be_added:\n",
    "    column1.append(q[0])\n",
    "    column2.append(q[1])\n",
    "    column3.append(q[2])\n",
    "    column4.append(q[3])"
   ],
   "id": "fdbf264dffd97942",
   "outputs": [],
   "execution_count": 107
  },
  {
   "metadata": {
    "ExecuteTime": {
     "end_time": "2024-06-04T18:22:40.734749Z",
     "start_time": "2024-06-04T18:22:40.732305Z"
    }
   },
   "cell_type": "code",
   "source": [
    "correct.append(column1)\n",
    "correct.append(column2)\n",
    "correct.append(column3)\n",
    "correct.append(column4)"
   ],
   "id": "b38432d089bb5a2b",
   "outputs": [],
   "execution_count": 108
  },
  {
   "metadata": {
    "ExecuteTime": {
     "end_time": "2024-06-04T18:22:41.307798Z",
     "start_time": "2024-06-04T18:22:41.304880Z"
    }
   },
   "cell_type": "code",
   "source": "print(correct)",
   "id": "30171774b686a2e",
   "outputs": [
    {
     "name": "stdout",
     "output_type": "stream",
     "text": [
      "[['fcidump.2_co2_6-311++G__'], [3.208107750755828], [6.411064467593759], [9.619172218349586]]\n"
     ]
    }
   ],
   "execution_count": 109
  }
 ],
 "metadata": {
  "kernelspec": {
   "display_name": "Python 3",
   "language": "python",
   "name": "python3"
  },
  "language_info": {
   "codemirror_mode": {
    "name": "ipython",
    "version": 2
   },
   "file_extension": ".py",
   "mimetype": "text/x-python",
   "name": "python",
   "nbconvert_exporter": "python",
   "pygments_lexer": "ipython2",
   "version": "2.7.6"
  }
 },
 "nbformat": 4,
 "nbformat_minor": 5
}
