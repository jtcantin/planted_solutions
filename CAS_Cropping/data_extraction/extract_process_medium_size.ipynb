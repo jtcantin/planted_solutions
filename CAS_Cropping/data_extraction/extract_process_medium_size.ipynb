{
 "cells": [
  {
   "cell_type": "code",
   "id": "initial_id",
   "metadata": {
    "collapsed": true,
    "ExecuteTime": {
     "end_time": "2024-06-13T16:12:23.463733Z",
     "start_time": "2024-06-13T16:12:21.747533Z"
    }
   },
   "source": [
    "import numpy as np\n",
    "import h5py\n",
    "import CAS.dmrghandler.src.dmrghandler.hdf5_io as hdf5_io\n",
    "import CAS.dmrghandler.src.dmrghandler.dmrg_processing as dp\n",
    "from pathlib import Path\n",
    "import openpyxl as px\n",
    "import openpyxl.chart as px_chart\n",
    "import pandas as pd"
   ],
   "outputs": [],
   "execution_count": 2
  },
  {
   "metadata": {},
   "cell_type": "code",
   "outputs": [],
   "execution_count": null,
   "source": [
    "\"\"\"\n",
    "# fcidumps_blocksize5/fcidump.23_pc-_{'Mo'_'def2-SVP''I'_'def2-SVP''Cl'_'def2-SVP''default'_'6-311_G(dp)'}_tbt_1_size5\n",
    "sbatch ../8eeb7874-4212-49d0-920a-8d7fc7ddb16b/submit_8eeb7874-4212-49d0-920a-8d7fc7ddb16b.sh\n",
    "# fcidumps_blocksize5/fcidump.23_pc-_{'Mo'_'def2-SVP''I'_'def2-SVP''Cl'_'def2-SVP''default'_'6-311_G(dp)'}_tbt_3_size5\n",
    "sbatch ../2bc57fb8-9d5b-4a81-a2d2-f1b6b235cdd8/submit_2bc57fb8-9d5b-4a81-a2d2-f1b6b235cdd8.sh\n",
    "# fcidumps_blocksize5/fcidump.23_pc-_{'Mo'_'def2-SVP''I'_'def2-SVP''Cl'_'def2-SVP''default'_'6-311_G(dp)'}_tbt_1_hidden_size5\n",
    "sbatch ../85e89faf-4541-48f8-92ee-025b54010a08/submit_85e89faf-4541-48f8-92ee-025b54010a08.sh\n",
    "# fcidumps_blocksize5/fcidump.23_pc-_{'Mo'_'def2-SVP''I'_'def2-SVP''Cl'_'def2-SVP''default'_'6-311_G(dp)'}_tbt_3_hidden_size5\n",
    "sbatch ../9ca318c0-348c-4bd9-be8d-0c13d66f35d6/submit_9ca318c0-348c-4bd9-be8d-0c13d66f35d6.sh\n",
    "# fcidumps_blocksize5/fcidump.27_pc_{'Mo'_'def2-SVP''I'_'def2-SVP''Cl'_'def2-SVP''default'_'6-311_G(dp)'}_tbt_1_hidden_size5\n",
    "sbatch ../c772afcc-15ab-407b-94f7-55728306578b/submit_c772afcc-15ab-407b-94f7-55728306578b.sh\n",
    "# fcidumps_blocksize5/fcidump.27_pc_{'Mo'_'def2-SVP''I'_'def2-SVP''Cl'_'def2-SVP''default'_'6-311_G(dp)'}_tbt_3_hidden_size5\n",
    "sbatch ../df6bde80-8319-47c3-8c67-f0f0386446bb/submit_df6bde80-8319-47c3-8c67-f0f0386446bb.sh\n",
    "# fcidumps_blocksize5/fcidump.27_pc_{'Mo'_'def2-SVP''I'_'def2-SVP''Cl'_'def2-SVP''default'_'6-311_G(dp)'}_tbt_3_size5\n",
    "sbatch ../bed5b6b3-d02e-4bb0-8791-698084863f17/submit_bed5b6b3-d02e-4bb0-8791-698084863f17.sh\n",
    "\n",
    "# fcidumps_blocksize3/fcidump.27_pc_{'Mo'_'def2-SVP''I'_'def2-SVP''Cl'_'def2-SVP''default'_'6-311_G(dp)'}_tbt_3_hidden_size3\n",
    "sbatch ../175ab035-f0bd-4182-a7cd-48e392d6717b/submit_175ab035-f0bd-4182-a7cd-48e392d6717b.sh\n",
    "\n",
    "\n",
    "# fcidumps_blocksize3_5/fcidump.23_pc-_{'Mo'_'def2-SVP''I'_'def2-SVP''Cl'_'def2-SVP''default'_'6-311_G(dp)'}_tbt_1_hidden_size3_5\n",
    "sbatch ../e5abaaa0-e6b0-4859-bf0e-977fa234d7de/submit_e5abaaa0-e6b0-4859-bf0e-977fa234d7de.sh\n",
    "# fcidumps_blocksize3_5/fcidump.23_pc-_{'Mo'_'def2-SVP''I'_'def2-SVP''Cl'_'def2-SVP''default'_'6-311_G(dp)'}_tbt_3_hidden_size3_5\n",
    "sbatch ../279f5661-549f-447c-8dd2-fba4bbc45e74/submit_279f5661-549f-447c-8dd2-fba4bbc45e74.sh\n",
    "# fcidumps_blocksize3_5/fcidump.23_pc-_{'Mo'_'def2-SVP''I'_'def2-SVP''Cl'_'def2-SVP''default'_'6-311_G(dp)'}_tbt_3_size3_5\n",
    "sbatch ../d00b2cc1-e5c3-4955-9239-00e6cd0e42b8/submit_d00b2cc1-e5c3-4955-9239-00e6cd0e42b8.sh\n",
    "# fcidumps_blocksize3_5/fcidump.27_pc_{'Mo'_'def2-SVP''I'_'def2-SVP''Cl'_'def2-SVP''default'_'6-311_G(dp)'}_tbt_1_hidden_size3_5\n",
    "sbatch ../4d6bfae1-47fc-43e9-8e77-090c97d6c38b/submit_4d6bfae1-47fc-43e9-8e77-090c97d6c38b.sh\n",
    "# fcidumps_blocksize3_5/fcidump.27_pc_{'Mo'_'def2-SVP''I'_'def2-SVP''Cl'_'def2-SVP''default'_'6-311_G(dp)'}_tbt_3_hidden_size3_5\n",
    "sbatch ../479f0d62-f1e9-45f8-ae1d-268515beef70/submit_479f0d62-f1e9-45f8-ae1d-268515beef70.sh\n",
    "# fcidumps_blocksize3_5/fcidump.27_pc_{'Mo'_'def2-SVP''I'_'def2-SVP''Cl'_'def2-SVP''default'_'6-311_G(dp)'}_tbt_3_size3_5\n",
    "sbatch ../dc828757-5382-465f-9f93-97e755b29468/submit_dc828757-5382-465f-9f93-97e755b29468.sh\n",
    "\n",
    "\"\"\""
   ],
   "id": "f8107c7bad4d13d6"
  },
  {
   "metadata": {
    "ExecuteTime": {
     "end_time": "2024-06-13T16:12:25.515434Z",
     "start_time": "2024-06-13T16:12:25.509723Z"
    }
   },
   "cell_type": "code",
   "source": [
    "catalyst_meta_data_path=Path('../catalysis_instances.csv')\n",
    "excel_name=Path('20240613_var_size55.xlsx')\n",
    "data_file_path = Path(\"../dmrg_data/data_storage_size_51\")\n",
    "\n",
    "run_commands = \\\n",
    "\"\"\"\n",
    "# up to 20 log10 hilbert space\n",
    "#######################\n",
    "# fcidumps_blocksize_55/fcidump.26_pc_{'Mo'_'def2-SVP''I'_'def2-SVP''Cl'_'def2-SVP''default'_'6-311_G(dp)'}_tbt_1_size551\n",
    "sbatch ../f5754056-a677-4e36-90bd-d95379839df3/submit_f5754056-a677-4e36-90bd-d95379839df3.sh\n",
    "# fcidumps_blocksize_55/fcidump.26_pc_{'Mo'_'def2-SVP''I'_'def2-SVP''Cl'_'def2-SVP''default'_'6-311_G(dp)'}_tbt_1_size552\n",
    "sbatch ../b924927e-0e93-478d-865f-988e21f7454c/submit_b924927e-0e93-478d-865f-988e21f7454c.sh\n",
    "# fcidumps_blocksize_55/fcidump.26_pc_{'Mo'_'def2-SVP''I'_'def2-SVP''Cl'_'def2-SVP''default'_'6-311_G(dp)'}_tbt_1_size553\n",
    "sbatch ../e33b33e7-268b-4887-8f71-4c84c2beaad8/submit_e33b33e7-268b-4887-8f71-4c84c2beaad8.sh\n",
    "# fcidumps_blocksize_55/fcidump.26_pc_{'Mo'_'def2-SVP''I'_'def2-SVP''Cl'_'def2-SVP''default'_'6-311_G(dp)'}_tbt_1_size554\n",
    "sbatch ../72be5500-1cea-4942-b05a-654ccf60223b/submit_72be5500-1cea-4942-b05a-654ccf60223b.sh\n",
    "\n",
    "\"\"\""
   ],
   "id": "52911b9e383c0eb8",
   "outputs": [],
   "execution_count": 3
  },
  {
   "metadata": {
    "ExecuteTime": {
     "end_time": "2024-06-13T16:12:29.395356Z",
     "start_time": "2024-06-13T16:12:29.387855Z"
    }
   },
   "cell_type": "code",
   "source": [
    "slurm_emails_folder = Path('../slurm_emails/slurm_emails_size5')\n",
    "fci_dump_folder  = Path(\"../fcidumps_directory/fcidumps_blocksize_51\")\n",
    "excel_storage_path = Path(\"../excel_data_storage\")\n",
    "csv_storage_path = excel_storage_path/Path(\"20240613performance_metrics_blocksize55\")"
   ],
   "id": "bbee64444e7c0e04",
   "outputs": [],
   "execution_count": 5
  },
  {
   "metadata": {
    "ExecuteTime": {
     "end_time": "2024-06-13T16:12:29.829018Z",
     "start_time": "2024-06-13T16:12:29.809776Z"
    }
   },
   "cell_type": "code",
   "source": "catalyst_meta_data = pd.read_csv(catalyst_meta_data_path)",
   "id": "fe1d7fa217f5c697",
   "outputs": [],
   "execution_count": 6
  },
  {
   "metadata": {
    "ExecuteTime": {
     "end_time": "2024-06-13T16:12:30.244597Z",
     "start_time": "2024-06-13T16:12:30.235679Z"
    }
   },
   "cell_type": "code",
   "source": [
    "cc_wall_time_dict = {}\n",
    "# Get all eml files in the folder\n",
    "slurm_email_files = list(slurm_emails_folder.glob('*.eml'))\n",
    "for email_file in slurm_email_files:\n",
    "    with open(email_file, 'r') as f:\n",
    "        use_next_line_subject = False\n",
    "        obtained_run_time = False\n",
    "        for line in f:\n",
    "            if use_next_line_subject:\n",
    "                line = line.strip()\n",
    "                run_time = line.split(', ')[0].split(' ')[-1]\n",
    "                # print(run_time)\n",
    "                obtained_run_time = True\n",
    "                use_next_line_subject = False\n",
    "            if line.startswith('Subject: '):\n",
    "                use_next_line_subject = True\n",
    "                # print(line)\n",
    "            elif line.startswith('   Command=../'):\n",
    "                line = line.strip()\n",
    "                uuid = line.split('/')[1]\n",
    "                # print(uuid)\n",
    "                assert obtained_run_time, 'Run time not yet obtained'\n",
    "                cc_wall_time_dict[uuid] = run_time\n",
    "                \n",
    "print(cc_wall_time_dict)"
   ],
   "id": "e1ca27d87e34572d",
   "outputs": [
    {
     "name": "stdout",
     "output_type": "stream",
     "text": [
      "{'e15ea3e4-d312-4df3-afd6-5925a1012f4f': '00:03:07', '475d062c-b6f4-461a-aaac-1fb709544a80': '00:02:22', 'b924927e-0e93-478d-865f-988e21f7454c': '00:09:07', 'aa795cfe-1b10-4982-aa83-6241c04e0bc5': '00:02:49', '246fcbb7-d062-4781-8411-9526f2693e3d': '00:03:17', '4930391a-809d-4dbe-bd8f-c2be3ce68214': '00:08:00', '72be5500-1cea-4942-b05a-654ccf60223b': '00:10:31', '1b0b89c4-656c-4d01-9781-551c73dbfa03': '00:02:53', '6cbe0ecf-bad6-4737-9a81-4811dea0352b': '00:02:53', 'e3556631-b2ae-4d65-9a5f-096b02112366': '00:02:19', 'f5754056-a677-4e36-90bd-d95379839df3': '00:02:49', 'e33b33e7-268b-4887-8f71-4c84c2beaad8': '00:03:22', '4556cfff-fcc7-4d01-a051-02a4c66e7349': '00:02:22', '8dfda386-e4ae-4063-855a-456831cc5369': '00:07:17'}\n"
     ]
    }
   ],
   "execution_count": 7
  },
  {
   "metadata": {
    "ExecuteTime": {
     "end_time": "2024-06-13T16:12:31.121434Z",
     "start_time": "2024-06-13T16:12:31.114156Z"
    }
   },
   "cell_type": "code",
   "source": [
    "#Load all fcidump file names\n",
    "fcidump_files = [filename.name for filename in list(fci_dump_folder.glob('fcidump.*'))]\n",
    "# fcidump_files"
   ],
   "id": "21225563b05e5d5a",
   "outputs": [],
   "execution_count": 8
  },
  {
   "metadata": {
    "ExecuteTime": {
     "end_time": "2024-06-13T16:12:34.406123Z",
     "start_time": "2024-06-13T16:12:34.388512Z"
    }
   },
   "cell_type": "code",
   "source": [
    "import io\n",
    "buf = io.StringIO(run_commands)\n",
    "orig_data_dict_list = []\n",
    "for line in buf.readlines():\n",
    "    # print(line)\n",
    "    if line.startswith('### '):\n",
    "        continue\n",
    "    if line.startswith('# fcidumps_blocksize_55/'):\n",
    "        fcidump_name_temp = line.split('fcidumps_blocksize_55/')[1].strip()\n",
    "        dict_entry = {}\n",
    "        # print(fcidump_name_temp)\n",
    "        # if fcidump_name.endswith('}'):\n",
    "        #     fcidump_test_string = fcidump_name.split('{')[0]\n",
    "        # else:\n",
    "        #     basis_end = fcidump_name.split('_')[-1]\n",
    "        #     fcidump_test_string = fcidump_name.split('_'+basis_end)[0]+'_'\n",
    "        fcidump_test_string = fcidump_name_temp.split('_')[0]+'_'\n",
    "        # print(fcidump_test_string)\n",
    "        for fcidump_name in fcidump_files:\n",
    "            if fcidump_name.startswith(fcidump_test_string):\n",
    "                break\n",
    "        print(fcidump_name_temp)\n",
    "        dict_entry['fcidump'] = fcidump_name_temp\n",
    "        dict_entry['fcidump_test_string'] = fcidump_test_string\n",
    "    if line.startswith('sbatch ../'):\n",
    "        calc_uuid = line.split('sbatch ../')[1].split('/')[0]\n",
    "        # print(calc_uuid)\n",
    "        dict_entry['Calc UUID'] = calc_uuid\n",
    "        dict_entry['CC Wall Time'] = cc_wall_time_dict[calc_uuid]\n",
    "        dict_entry['Attempt Result'] = \"\"\n",
    "        orig_data_dict_list.append(dict_entry)\n",
    "\n",
    "print(orig_data_dict_list)  "
   ],
   "id": "46d380092328e9e6",
   "outputs": [
    {
     "name": "stdout",
     "output_type": "stream",
     "text": [
      "fcidump.26_pc_{'Mo'_'def2-SVP''I'_'def2-SVP''Cl'_'def2-SVP''default'_'6-311_G(dp)'}_tbt_1_size551\n",
      "fcidump.26_pc_{'Mo'_'def2-SVP''I'_'def2-SVP''Cl'_'def2-SVP''default'_'6-311_G(dp)'}_tbt_1_size552\n",
      "fcidump.26_pc_{'Mo'_'def2-SVP''I'_'def2-SVP''Cl'_'def2-SVP''default'_'6-311_G(dp)'}_tbt_1_size553\n",
      "fcidump.26_pc_{'Mo'_'def2-SVP''I'_'def2-SVP''Cl'_'def2-SVP''default'_'6-311_G(dp)'}_tbt_1_size554\n",
      "[{'fcidump': \"fcidump.26_pc_{'Mo'_'def2-SVP''I'_'def2-SVP''Cl'_'def2-SVP''default'_'6-311_G(dp)'}_tbt_1_size551\", 'fcidump_test_string': 'fcidump.26_', 'Calc UUID': 'f5754056-a677-4e36-90bd-d95379839df3', 'CC Wall Time': '00:02:49', 'Attempt Result': ''}, {'fcidump': \"fcidump.26_pc_{'Mo'_'def2-SVP''I'_'def2-SVP''Cl'_'def2-SVP''default'_'6-311_G(dp)'}_tbt_1_size552\", 'fcidump_test_string': 'fcidump.26_', 'Calc UUID': 'b924927e-0e93-478d-865f-988e21f7454c', 'CC Wall Time': '00:09:07', 'Attempt Result': ''}, {'fcidump': \"fcidump.26_pc_{'Mo'_'def2-SVP''I'_'def2-SVP''Cl'_'def2-SVP''default'_'6-311_G(dp)'}_tbt_1_size553\", 'fcidump_test_string': 'fcidump.26_', 'Calc UUID': 'e33b33e7-268b-4887-8f71-4c84c2beaad8', 'CC Wall Time': '00:03:22', 'Attempt Result': ''}, {'fcidump': \"fcidump.26_pc_{'Mo'_'def2-SVP''I'_'def2-SVP''Cl'_'def2-SVP''default'_'6-311_G(dp)'}_tbt_1_size554\", 'fcidump_test_string': 'fcidump.26_', 'Calc UUID': '72be5500-1cea-4942-b05a-654ccf60223b', 'CC Wall Time': '00:10:31', 'Attempt Result': ''}]\n"
     ]
    }
   ],
   "execution_count": 9
  },
  {
   "metadata": {
    "ExecuteTime": {
     "end_time": "2024-06-13T16:13:58.993322Z",
     "start_time": "2024-06-13T16:13:58.945975Z"
    }
   },
   "cell_type": "code",
   "source": [
    "data_dict_list = []\n",
    "for data_dict in orig_data_dict_list:\n",
    "    new_data_dict = {}\n",
    "    fcidump_test_string = data_dict['fcidump_test_string']\n",
    "    #Get metadata row\n",
    "    data_row = catalyst_meta_data[catalyst_meta_data['fcidump'].str.contains(fcidump_test_string)]\n",
    "    new_data_dict['instance ID'] = data_row['instance ID'].values[0]\n",
    "    new_data_dict['molecule'] = data_row['molecule'].values[0]\n",
    "    new_data_dict['charge'] = data_row['charge'].values[0]\n",
    "    new_data_dict['multiplicity'] = data_row['multiplicity'].values[0]\n",
    "    new_data_dict['fcidump'] = data_dict['fcidump']\n",
    "    new_data_dict['log10_hilbert_space_size'] = data_row['log10_hilbert_space_size'].values[0]\n",
    "    new_data_dict['Attempt Result'] = data_dict['Attempt Result']\n",
    "    new_data_dict['Calc UUID'] = data_dict['Calc UUID']\n",
    "    new_data_dict['CC Wall Time'] = data_dict['CC Wall Time']\n",
    "    if 'Calc UUID Small BD' in data_dict:\n",
    "        new_data_dict['Calc UUID Small BD'] = data_dict['Calc UUID Small BD']\n",
    "        new_data_dict['CC Wall Time Small BD'] = data_dict['CC Wall Time Small BD']\n",
    "    data_dict_list.append(new_data_dict)\n"
   ],
   "id": "a9829a11777b1877",
   "outputs": [],
   "execution_count": 12
  },
  {
   "metadata": {
    "ExecuteTime": {
     "end_time": "2024-06-13T16:14:00.073051Z",
     "start_time": "2024-06-13T16:13:59.898554Z"
    }
   },
   "cell_type": "code",
   "source": [
    "wb = px.Workbook()\n",
    "\n",
    "dp.setup_workbook(data_file_path=data_file_path,data_dict_list=data_dict_list,workbook=wb,csv_storage_path=csv_storage_path)\n",
    "\n",
    "wb.save(excel_storage_path/excel_name)"
   ],
   "id": "c02fbe3d1046d273",
   "outputs": [
    {
     "name": "stdout",
     "output_type": "stream",
     "text": [
      "Last loop included = 1\n",
      "Processed results available\n",
      "Checking that processed results match raw results.\n",
      "Last loop included = 63\n",
      "Processed results available\n",
      "Checking that processed results match raw results.\n",
      "Last loop included = 6\n",
      "Processed results available\n",
      "Checking that processed results match raw results.\n",
      "Last loop included = 63\n",
      "Processed results available\n",
      "Checking that processed results match raw results.\n"
     ]
    }
   ],
   "execution_count": 13
  },
  {
   "metadata": {
    "ExecuteTime": {
     "end_time": "2024-05-10T19:41:41.698644Z",
     "start_time": "2024-05-10T19:41:41.693796Z"
    }
   },
   "cell_type": "code",
   "source": [
    "\"\"\"\n",
    "# fcidumps_catalysts_larger_system/fcidump.52_6acme_{'default'_'6-31++G(d,p)'}_tbt_1_hidden\n",
    "sbatch ../64f1d666-d92f-41c0-b5dc-aa8c1bf9820b/submit_64f1d666-d92f-41c0-b5dc-aa8c1bf9820b.sh\n",
    "# fcidumps_catalysts_larger_system/fcidump.52_6acme_{'default'_'6-31++G(d,p)'}_tbt_3_hidden\n",
    "sbatch ../274010c1-5381-4eb2-a269-6a5d071d1a75/submit_274010c1-5381-4eb2-a269-6a5d071d1a75.sh\n",
    "# fcidumps_catalysts_larger_system/fcidump.41_1_ts_{'default'_'cc-pVTZ'_'Ru'_'LANL2TZ'}_tbt_1_hidden\n",
    "sbatch ../35616e05-1242-4bb6-beab-e86f140e5c99/submit_35616e05-1242-4bb6-beab-e86f140e5c99.sh\n",
    "\"\"\""
   ],
   "id": "f40f790a36550468",
   "outputs": [
    {
     "data": {
      "text/plain": [
       "\"\\n# fcidumps_catalysts_larger_system/fcidump.52_6acme_{'default'_'6-31++G(d,p)'}_tbt_1_hidden\\nsbatch ../64f1d666-d92f-41c0-b5dc-aa8c1bf9820b/submit_64f1d666-d92f-41c0-b5dc-aa8c1bf9820b.sh\\n# fcidumps_catalysts_larger_system/fcidump.52_6acme_{'default'_'6-31++G(d,p)'}_tbt_3_hidden\\nsbatch ../274010c1-5381-4eb2-a269-6a5d071d1a75/submit_274010c1-5381-4eb2-a269-6a5d071d1a75.sh\\n# fcidumps_catalysts_larger_system/fcidump.41_1_ts_{'default'_'cc-pVTZ'_'Ru'_'LANL2TZ'}_tbt_1_hidden\\nsbatch ../35616e05-1242-4bb6-beab-e86f140e5c99/submit_35616e05-1242-4bb6-beab-e86f140e5c99.sh\\n\""
      ]
     },
     "execution_count": 416,
     "metadata": {},
     "output_type": "execute_result"
    }
   ],
   "execution_count": 416
  },
  {
   "metadata": {
    "ExecuteTime": {
     "end_time": "2024-05-10T19:41:41.701769Z",
     "start_time": "2024-05-10T19:41:41.699963Z"
    }
   },
   "cell_type": "code",
   "source": "",
   "id": "c1537ec3a000b60e",
   "outputs": [],
   "execution_count": 416
  },
  {
   "metadata": {
    "ExecuteTime": {
     "end_time": "2024-05-10T19:41:41.706176Z",
     "start_time": "2024-05-10T19:41:41.704257Z"
    }
   },
   "cell_type": "code",
   "source": "",
   "id": "3c888ee271975b9f",
   "outputs": [],
   "execution_count": 416
  },
  {
   "metadata": {},
   "cell_type": "code",
   "outputs": [],
   "execution_count": null,
   "source": "",
   "id": "b4fd0701b66b8147"
  }
 ],
 "metadata": {
  "kernelspec": {
   "display_name": "Python 3",
   "language": "python",
   "name": "python3"
  },
  "language_info": {
   "codemirror_mode": {
    "name": "ipython",
    "version": 2
   },
   "file_extension": ".py",
   "mimetype": "text/x-python",
   "name": "python",
   "nbconvert_exporter": "python",
   "pygments_lexer": "ipython2",
   "version": "2.7.6"
  }
 },
 "nbformat": 4,
 "nbformat_minor": 5
}
