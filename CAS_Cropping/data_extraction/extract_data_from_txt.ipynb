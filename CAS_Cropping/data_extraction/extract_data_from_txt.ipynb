{
 "cells": [
  {
   "cell_type": "code",
   "id": "initial_id",
   "metadata": {
    "collapsed": true,
    "ExecuteTime": {
     "end_time": "2024-06-11T15:36:01.950219Z",
     "start_time": "2024-06-11T15:36:01.429981Z"
    }
   },
   "source": [
    "import os\n",
    "from pathlib import Path\n",
    "import re\n",
    "import pandas as pd"
   ],
   "outputs": [],
   "execution_count": 1
  },
  {
   "metadata": {
    "ExecuteTime": {
     "end_time": "2024-06-11T15:40:40.198260Z",
     "start_time": "2024-06-11T15:40:40.158113Z"
    }
   },
   "cell_type": "code",
   "source": "writer = pd.ExcelWriter(\"extracted_data_failed_blocksize.xlsx\", engine='xlsxwriter')",
   "id": "96e94128807c3021",
   "outputs": [],
   "execution_count": 4
  },
  {
   "metadata": {},
   "cell_type": "markdown",
   "source": "# From Below!",
   "id": "20c625250ec15daa"
  },
  {
   "metadata": {
    "ExecuteTime": {
     "end_time": "2024-06-11T15:40:40.831653Z",
     "start_time": "2024-06-11T15:40:40.828756Z"
    }
   },
   "cell_type": "code",
   "source": "output_folder = Path(\"../output_data/blocksize\")",
   "id": "707ffced3838ea5",
   "outputs": [],
   "execution_count": 5
  },
  {
   "metadata": {
    "ExecuteTime": {
     "end_time": "2024-06-11T15:40:42.168264Z",
     "start_time": "2024-06-11T15:40:41.467584Z"
    }
   },
   "cell_type": "code",
   "source": [
    "for file_path in os.listdir(output_folder):\n",
    "    # Open the file\n",
    "    with open(Path(output_folder)/Path(file_path), 'r') as file:\n",
    "        lines = file.readlines()\n",
    "        \n",
    "        \n",
    "    # Define regular expressions to match the required patterns\n",
    "    bond_dim_pattern = re.compile(r'Bond dimension = (\\d+)')\n",
    "    time_elapsed_pattern = re.compile(r'Time elapsed = ([\\d.]+)')\n",
    "    energy_pattern = re.compile(r'E = ([\\d.e+-]+)')\n",
    "    delta_energy_pattern = re.compile(r'DE = ([\\d.e+-]+)')\n",
    "    \n",
    "    # Initialize variables to store extracted values\n",
    "    bond_dimension = None\n",
    "    time_elapsed = None\n",
    "    energy = None\n",
    "    delta_energy = None\n",
    "    bond_dimensions = []\n",
    "    bd_line = []\n",
    "    energies = []\n",
    "    delta_energy = []\n",
    "    after_sweep_lines = []\n",
    "    # Find and extract the values\n",
    "    count = 0\n",
    "    in_relevant_section = True\n",
    "    catalyst_name = ''\n",
    "    for line in lines:\n",
    "        \n",
    "        # Get the Catalyst name\n",
    "        if 'fcidump.'in line:\n",
    "            index = line.find('fcidump.')  # Find the index of 'fcidump.'\n",
    "            if index != -1:  # If 'fcidump.' is found in the line\n",
    "                catalyst_name = line[index+ len('fcidump.'):index+ len('fcidump.') + 6] + line[-20: -1]  # Extract next 10 characters\n",
    "        \n",
    "        # Check if we are in the relevant section\n",
    "        if line.startswith(\"Sweep =   19\"):\n",
    "            count += 1\n",
    "            bd_line.append(line)\n",
    "            in_relevant_section = True\n",
    "        elif line.startswith(\"Sweep\"):\n",
    "            in_relevant_section = False\n",
    "        elif line.startswith(\"Time sweep = \"):\n",
    "            in_relevant_section = False\n",
    "        \n",
    "        if in_relevant_section:\n",
    "            if line.startswith(\"Time elapsed =\"):\n",
    "                after_sweep_lines.append(line)\n",
    "                \n",
    "    # Regular expression pattern to match Bond dimension value\n",
    "    bond_dim_pattern1 = re.compile(r'Bond dimension = (\\d+)')\n",
    "    bond_dim_pattern2 = re.compile(r'Bond dimension =  (\\d+)')\n",
    "    bond_dim_pattern3 = re.compile(r'Bond dimension =   (\\d+)')\n",
    "    bond_dim_pattern4 = re.compile(r'Bond dimension =    (\\d+)')\n",
    "    bond_dim_pattern5 = re.compile(r'Bond dimension =     (\\d+)')\n",
    "    # List to store extracted Bond dimension values\n",
    "    bond_dimensions = []\n",
    "    \n",
    "    if len(bd_line) > len(after_sweep_lines):\n",
    "        bd_line.pop()\n",
    "    \n",
    "    # Extract Bond dimension values from each line\n",
    "    for line in bd_line:\n",
    "        bond_dim_match1 = bond_dim_pattern1.search(line)\n",
    "        bond_dim_match2 = bond_dim_pattern2.search(line)\n",
    "        bond_dim_match3 = bond_dim_pattern3.search(line)\n",
    "        bond_dim_match4 = bond_dim_pattern4.search(line)\n",
    "        bond_dim_match5 = bond_dim_pattern5.search(line)\n",
    "        if bond_dim_match1:\n",
    "            bond_dimension = int(bond_dim_match1.group(1))\n",
    "            bond_dimensions.append(bond_dimension)\n",
    "        if bond_dim_match2:\n",
    "            bond_dimension = int(bond_dim_match2.group(1))\n",
    "            bond_dimensions.append(bond_dimension)\n",
    "        if bond_dim_match3:\n",
    "            bond_dimension = int(bond_dim_match3.group(1))\n",
    "            bond_dimensions.append(bond_dimension)\n",
    "        if bond_dim_match4:\n",
    "            bond_dimension = int(bond_dim_match4.group(1))\n",
    "            bond_dimensions.append(bond_dimension)\n",
    "        if bond_dim_match5:\n",
    "            bond_dimension = int(bond_dim_match5.group(1))\n",
    "            bond_dimensions.append(bond_dimension)\n",
    "    \n",
    "    # Print the extracted Bond dimension values\n",
    "    print(\"Bond dimensions:\", bond_dimensions)\n",
    "    \n",
    "    \n",
    "    # Regular expression patterns to match E and DW values\n",
    "    e_pattern = re.compile(r'E =\\s+(-?\\d+\\.\\d+)')\n",
    "    dw_pattern = re.compile(r'DW =\\s+(-?\\d+\\.\\d+e[-+]\\d+)')\n",
    "    \n",
    "    # Extract E and DE values\n",
    "    E_values = []\n",
    "    DW_values = []\n",
    "    \n",
    "    for line in after_sweep_lines:\n",
    "        e_match = e_pattern.search(line)\n",
    "        dw_match = dw_pattern.search(line)\n",
    "        if e_match:\n",
    "            E_values.append(float(e_match.group(1)))\n",
    "        if dw_match:\n",
    "            DW_values.append(float(dw_match.group(1)))\n",
    "            \n",
    "    df_1 = pd.DataFrame()\n",
    "    column_names = [\"DMRG Energy\",\"Bond Dimension\", \"Discarded weights\"]\n",
    "    data = [E_values, bond_dimensions, DW_values]\n",
    "    #Iteratively add data to new columns\n",
    "    for column_name, column_data in zip(column_names, data):\n",
    "        df_1[column_name] = column_data\n",
    "    \n",
    "    # Specify the path where you want to save the CSV file\n",
    "    csv_path = f\"../excel_data_storage/20240611performance_blocksize_failed/{catalyst_name}.csv\"\n",
    "    \n",
    "    # Save DataFrame to a CSV file\n",
    "    df_1.to_csv(csv_path, index=False)"
   ],
   "id": "197c8409132b818a",
   "outputs": [
    {
     "name": "stdout",
     "output_type": "stream",
     "text": [
      "Bond dimensions: [6, 7, 10, 15, 17, 19, 21, 24, 27, 30, 33, 37, 41, 46, 51, 57, 63, 70, 77, 85, 94, 104, 115, 127, 140, 154, 170, 188, 207, 228, 251, 277, 305, 336, 370, 408, 449, 494, 544, 599, 659, 725, 798, 878, 966, 1063, 1170, 1287, 1416, 1558, 1714, 1886, 2075, 2283, 2512, 2764, 3041]\n",
      "Bond dimensions: [3, 4, 5, 7, 8, 9, 10, 11, 13, 15, 17, 19, 21, 24, 27, 30, 33, 37, 41, 46, 51, 57, 63, 70, 77, 85, 94, 104, 115, 127, 140, 154, 170, 188, 207, 228, 251, 277, 305, 336, 370, 408, 449, 494, 544, 599, 659, 725]\n",
      "Bond dimensions: [5, 6, 7, 8, 9, 10, 11, 13, 15, 17, 19, 21, 24, 27, 30, 33, 37, 41, 46, 51, 57, 63, 70, 77, 85, 94, 104, 115, 127, 140, 154, 170, 188, 207, 228, 251, 277, 305, 336, 370, 408, 449, 494, 544, 599, 659]\n",
      "Bond dimensions: [2, 4, 5, 6, 7, 8, 9, 10, 11, 13]\n",
      "Bond dimensions: [3, 7, 8, 9, 10, 11, 13, 15, 17, 19, 21, 24, 27, 30, 33, 37, 41, 46, 51, 57, 63, 70, 77, 85, 94, 104, 115, 127, 140, 154, 170, 188, 207, 228, 251, 277, 305, 336, 370, 408, 449, 494, 544, 599, 659]\n",
      "Bond dimensions: [4, 5, 6, 7, 8, 9, 10, 11, 13, 15, 17, 19, 21, 24, 27, 30, 33, 37, 41, 46, 51, 57, 63, 70, 77, 85, 94, 104, 115, 127, 140, 154, 170, 188, 207, 228, 251, 277, 305, 336, 370, 408, 449, 494, 544, 599, 659]\n",
      "Bond dimensions: [3, 5, 10, 13, 17, 21, 24, 27, 30, 33, 37, 41, 46, 51, 57, 63, 70, 77, 85, 94, 104, 115, 127, 140, 154, 170, 188, 207, 228, 251, 277, 305, 336, 370, 408, 449, 494, 544, 599, 659, 725, 798, 878, 966, 1063, 1170, 1287]\n",
      "Bond dimensions: []\n",
      "Bond dimensions: []\n",
      "Bond dimensions: []\n",
      "Bond dimensions: [3, 4, 5, 6, 7, 8, 9, 10, 11, 13, 15, 17, 19, 21]\n",
      "Bond dimensions: [2, 6, 7, 9, 10, 11, 13, 15, 17, 19, 21, 24, 27, 30, 33, 37, 41, 46, 51, 57, 63, 70, 77, 85, 94, 104, 115, 127, 140, 154, 170, 188, 207, 228, 251, 277, 305, 336, 370, 408, 449, 494, 544, 599]\n",
      "Bond dimensions: [3, 4, 5, 8, 10, 11, 13, 17, 19, 21, 24, 27, 30, 33, 37, 41, 46, 51, 57, 63, 70, 77, 85, 94, 104, 115, 127, 140, 154, 170, 188, 207, 228, 251, 277, 305, 336, 370, 408, 449, 494, 544, 599, 659, 725, 798, 878, 966, 1063, 1287, 1416, 1714, 1886, 2075, 2283, 2512, 3041]\n",
      "Bond dimensions: []\n"
     ]
    }
   ],
   "execution_count": 6
  },
  {
   "metadata": {
    "ExecuteTime": {
     "end_time": "2024-06-11T15:40:43.916566Z",
     "start_time": "2024-06-11T15:40:43.887394Z"
    }
   },
   "cell_type": "code",
   "source": "writer.close()",
   "id": "4559bf1cb09371ea",
   "outputs": [],
   "execution_count": 7
  },
  {
   "metadata": {
    "ExecuteTime": {
     "end_time": "2024-05-19T04:04:57.408812Z",
     "start_time": "2024-05-19T04:04:57.366336Z"
    }
   },
   "cell_type": "code",
   "source": [
    "# Open the file\n",
    "with open(Path(output_folder)/Path(file_path), 'r') as file:\n",
    "    lines = file.readlines()\n"
   ],
   "id": "ebd74eb9e386854d",
   "outputs": [],
   "execution_count": 6
  },
  {
   "metadata": {
    "ExecuteTime": {
     "end_time": "2024-05-19T04:04:58.390106Z",
     "start_time": "2024-05-19T04:04:58.374267Z"
    }
   },
   "cell_type": "code",
   "source": "print(len(lines))",
   "id": "ac7fb64c198ae6b1",
   "outputs": [
    {
     "name": "stdout",
     "output_type": "stream",
     "text": [
      "128671\n"
     ]
    }
   ],
   "execution_count": 7
  },
  {
   "metadata": {
    "ExecuteTime": {
     "end_time": "2024-05-19T04:04:59.104151Z",
     "start_time": "2024-05-19T04:04:59.057346Z"
    }
   },
   "cell_type": "code",
   "source": [
    "# Define regular expressions to match the required patterns\n",
    "bond_dim_pattern = re.compile(r'Bond dimension = (\\d+)')\n",
    "time_elapsed_pattern = re.compile(r'Time elapsed = ([\\d.]+)')\n",
    "energy_pattern = re.compile(r'E = ([\\d.e+-]+)')\n",
    "delta_energy_pattern = re.compile(r'DE = ([\\d.e+-]+)')\n",
    "\n",
    "# Initialize variables to store extracted values\n",
    "bond_dimension = None\n",
    "time_elapsed = None\n",
    "energy = None\n",
    "delta_energy = None\n",
    "bond_dimensions = []\n",
    "bd_line = []\n",
    "energies = []\n",
    "delta_energy = []\n",
    "after_sweep_lines = []\n",
    "# Find and extract the values\n",
    "count = 0\n",
    "in_relevant_section = True\n",
    "for line in lines:\n",
    "    # Check if we are in the relevant section\n",
    "    if line.startswith(\"Sweep =   19\"):\n",
    "        count += 1\n",
    "        bd_line.append(line)\n",
    "        in_relevant_section = True\n",
    "    elif line.startswith(\"Sweep\"):\n",
    "        in_relevant_section = False\n",
    "    elif line.startswith(\"Time sweep = \"):\n",
    "        in_relevant_section = False\n",
    "    \n",
    "    if in_relevant_section:\n",
    "        if line.startswith(\"Time elapsed =\"):\n",
    "            after_sweep_lines.append(line)\n",
    "        # bond_dim_match = bond_dim_pattern.search(line)\n",
    "        # time_elapsed_match = time_elapsed_pattern.search(line)\n",
    "        # energy_match = energy_pattern.search(line)\n",
    "        # delta_energy_match = delta_energy_pattern.search(line)\n",
    "        # \n",
    "        # if bond_dim_match:\n",
    "        #     bond_dimensions.append(int(bond_dim_match.group(1)))\n",
    "        # elif energy_match:\n",
    "        #     energies.append(float(energy_match.group(1)))\n",
    "        # elif delta_energy_match:\n",
    "        #     delta_energy.append(float(delta_energy_match.group(1)))\n",
    "print(f\"Number of Sweep 19 : {count}\")\n",
    "# Print the extracted values\n",
    "print(\"Bond dimension:\", bond_dimensions)\n",
    "print(\"Time elapsed:\", time_elapsed)\n",
    "print(\"Energy:\", energies)\n",
    "print(\"Delta Energy:\", delta_energy)"
   ],
   "id": "beef591c736bd7ed",
   "outputs": [
    {
     "name": "stdout",
     "output_type": "stream",
     "text": [
      "Number of Sweep 19 : 50\n",
      "Bond dimension: []\n",
      "Time elapsed: None\n",
      "Energy: []\n",
      "Delta Energy: []\n"
     ]
    }
   ],
   "execution_count": 8
  },
  {
   "metadata": {
    "ExecuteTime": {
     "end_time": "2024-05-19T04:05:00.597511Z",
     "start_time": "2024-05-19T04:05:00.592453Z"
    }
   },
   "cell_type": "code",
   "source": "print(len(after_sweep_lines))",
   "id": "709b5df65b5770ae",
   "outputs": [
    {
     "name": "stdout",
     "output_type": "stream",
     "text": [
      "50\n"
     ]
    }
   ],
   "execution_count": 9
  },
  {
   "metadata": {
    "ExecuteTime": {
     "end_time": "2024-05-19T04:05:01.333Z",
     "start_time": "2024-05-19T04:05:01.330854Z"
    }
   },
   "cell_type": "code",
   "source": "print(after_sweep_lines)",
   "id": "e7463bf5465a1652",
   "outputs": [
    {
     "name": "stdout",
     "output_type": "stream",
     "text": [
      "['Time elapsed =    119.541 | E =   -3676.7231625314 | DE = -6.93e-07 | DW = 9.41e-03\\n', 'Time elapsed =    129.841 | E =   -3687.9573936774 | DE = -4.41e-02 | DW = 1.92e-02\\n', 'Time elapsed =    157.093 | E =   -3707.1740620371 | DE = -2.34e-05 | DW = 4.56e-03\\n', 'Time elapsed =    155.446 | E =   -3685.4576753783 | DE = 4.07e-06 | DW = 7.76e-03\\n', 'Time elapsed =    179.688 | E =   -3737.6392663911 | DE = -2.08e-05 | DW = 4.54e-03\\n', 'Time elapsed =    189.386 | E =   -3745.0315329419 | DE = -1.22e-05 | DW = 2.66e-03\\n', 'Time elapsed =    166.953 | E =   -3729.2278266831 | DE = -3.43e-03 | DW = 1.05e-02\\n', 'Time elapsed =    197.809 | E =   -3728.6877353849 | DE = -1.57e-02 | DW = 4.78e-03\\n', 'Time elapsed =    205.402 | E =   -3748.7149769360 | DE = 1.27e-04 | DW = 5.64e-03\\n', 'Time elapsed =    193.040 | E =   -3759.1145150012 | DE = -1.70e-04 | DW = 4.94e-03\\n', 'Time elapsed =    200.387 | E =   -3721.2269970575 | DE = -3.06e-05 | DW = 6.47e-03\\n', 'Time elapsed =    220.128 | E =   -3761.8303266197 | DE = -1.55e-04 | DW = 2.26e-03\\n', 'Time elapsed =    213.999 | E =   -3766.0155969683 | DE = -8.55e-02 | DW = 8.43e-03\\n', 'Time elapsed =    211.943 | E =   -3761.8914092733 | DE = -2.71e-02 | DW = 7.42e-03\\n', 'Time elapsed =    246.910 | E =   -3779.1021529219 | DE = -2.50e-01 | DW = 9.59e-03\\n', 'Time elapsed =    253.675 | E =   -3771.1791925376 | DE = -1.81e-04 | DW = 4.98e-03\\n', 'Time elapsed =    245.762 | E =   -3787.7487037478 | DE = -8.42e-01 | DW = 6.49e-03\\n', 'Time elapsed =    261.780 | E =   -3788.3486625801 | DE = 1.43e-02 | DW = 7.81e-03\\n', 'Time elapsed =    227.287 | E =   -3790.1189042510 | DE = -2.15e-01 | DW = 3.25e-03\\n', 'Time elapsed =    267.260 | E =   -3791.5079780425 | DE = -5.57e-02 | DW = 4.31e-03\\n', 'Time elapsed =    263.528 | E =   -3793.4153747368 | DE = -1.46e-04 | DW = 6.61e-03\\n', 'Time elapsed =    303.460 | E =   -3785.6275092207 | DE = -1.13e-01 | DW = 6.00e-03\\n', 'Time elapsed =    279.003 | E =   -3796.3045053261 | DE = -2.48e-03 | DW = 8.54e-03\\n', 'Time elapsed =    297.986 | E =   -3793.3913032457 | DE = -5.77e-02 | DW = 5.62e-03\\n', 'Time elapsed =    320.417 | E =   -3796.6909723349 | DE = -3.25e-02 | DW = 5.74e-03\\n', 'Time elapsed =    345.678 | E =   -3803.1622556820 | DE = -4.28e-01 | DW = 4.54e-03\\n', 'Time elapsed =    374.321 | E =   -3800.4854979751 | DE = -1.55e-01 | DW = 9.23e-03\\n', 'Time elapsed =    375.037 | E =   -3815.2266760128 | DE = -3.59e-02 | DW = 2.00e-03\\n', 'Time elapsed =    436.757 | E =   -3789.3638806551 | DE = -6.86e-03 | DW = 1.57e-03\\n', 'Time elapsed =    435.868 | E =   -3815.4876763916 | DE = -1.33e-01 | DW = 2.00e-03\\n', 'Time elapsed =    489.441 | E =   -3804.2397674488 | DE = -4.98e-02 | DW = 3.89e-03\\n', 'Time elapsed =    514.890 | E =   -3816.6531176324 | DE = -1.26e-02 | DW = 2.09e-03\\n', 'Time elapsed =    554.949 | E =   -3804.5821100594 | DE = -2.65e-02 | DW = 2.61e-03\\n', 'Time elapsed =    615.165 | E =   -3806.5183657795 | DE = -7.27e-04 | DW = 3.30e-03\\n', 'Time elapsed =    666.307 | E =   -3807.8460092233 | DE = 1.94e-03 | DW = 3.73e-03\\n', 'Time elapsed =    745.939 | E =   -3808.2280395050 | DE = -6.93e-03 | DW = 3.60e-03\\n', 'Time elapsed =    868.763 | E =   -3807.3034759588 | DE = -1.09e-01 | DW = 1.85e-03\\n', 'Time elapsed =    957.695 | E =   -3821.2432177667 | DE = -4.71e-02 | DW = 1.11e-03\\n', 'Time elapsed =   1081.637 | E =   -3810.4422239327 | DE = -2.26e-03 | DW = 3.40e-03\\n', 'Time elapsed =   1286.632 | E =   -3823.0999046040 | DE = -3.18e-03 | DW = 8.29e-04\\n', 'Time elapsed =   1607.425 | E =   -3811.5774930245 | DE = -1.15e-02 | DW = 1.71e-03\\n', 'Time elapsed =   1819.204 | E =   -3824.0230282836 | DE = -1.74e-02 | DW = 9.51e-04\\n', 'Time elapsed =   2151.649 | E =   -3824.5357823970 | DE = -7.87e-03 | DW = 8.43e-04\\n', 'Time elapsed =   2708.976 | E =   -3824.9970004646 | DE = -1.66e-02 | DW = 9.10e-04\\n', 'Time elapsed =   3473.101 | E =   -3824.7750335174 | DE = 1.82e-04 | DW = 8.12e-04\\n', 'Time elapsed =   4400.948 | E =   -3825.4951282796 | DE = -9.65e-03 | DW = 6.04e-04\\n', 'Time elapsed =   5788.786 | E =   -3825.6701450207 | DE = -3.26e-03 | DW = 4.15e-04\\n', 'Time elapsed =   7523.619 | E =   -3826.0807931789 | DE = -1.93e-03 | DW = 5.51e-04\\n', 'Time elapsed =   9321.077 | E =   -3826.1894528945 | DE = -1.28e-03 | DW = 3.34e-04\\n', 'Time elapsed =  11453.958 | E =   -3826.5131396603 | DE = -4.08e-03 | DW = 3.78e-04\\n']\n"
     ]
    }
   ],
   "execution_count": 10
  },
  {
   "metadata": {
    "ExecuteTime": {
     "end_time": "2024-05-19T04:05:01.986616Z",
     "start_time": "2024-05-19T04:05:01.984146Z"
    }
   },
   "cell_type": "code",
   "source": "print(len(bd_line))",
   "id": "c2f59bfd2f3c7bd6",
   "outputs": [
    {
     "name": "stdout",
     "output_type": "stream",
     "text": [
      "50\n"
     ]
    }
   ],
   "execution_count": 11
  },
  {
   "metadata": {},
   "cell_type": "markdown",
   "source": "### Extract Bond dimension",
   "id": "d9360793792fc569"
  },
  {
   "metadata": {
    "ExecuteTime": {
     "end_time": "2024-05-09T21:16:51.758739Z",
     "start_time": "2024-05-09T21:16:51.753883Z"
    }
   },
   "cell_type": "code",
   "source": [
    "# Regular expression pattern to match Bond dimension value\n",
    "bond_dim_pattern1 = re.compile(r'Bond dimension = (\\d+)')\n",
    "bond_dim_pattern2 = re.compile(r'Bond dimension =  (\\d+)')\n",
    "bond_dim_pattern3 = re.compile(r'Bond dimension =   (\\d+)')\n",
    "bond_dim_pattern4 = re.compile(r'Bond dimension =    (\\d+)')\n",
    "bond_dim_pattern5 = re.compile(r'Bond dimension =     (\\d+)')\n",
    "# List to store extracted Bond dimension values\n",
    "bond_dimensions = []\n",
    "\n",
    "# Extract Bond dimension values from each line\n",
    "for line in bd_line:\n",
    "    bond_dim_match1 = bond_dim_pattern1.search(line)\n",
    "    bond_dim_match2 = bond_dim_pattern2.search(line)\n",
    "    bond_dim_match3 = bond_dim_pattern3.search(line)\n",
    "    bond_dim_match4 = bond_dim_pattern4.search(line)\n",
    "    bond_dim_match5 = bond_dim_pattern5.search(line)\n",
    "    if bond_dim_match1:\n",
    "        bond_dimension = int(bond_dim_match1.group(1))\n",
    "        bond_dimensions.append(bond_dimension)\n",
    "    if bond_dim_match2:\n",
    "        bond_dimension = int(bond_dim_match2.group(1))\n",
    "        bond_dimensions.append(bond_dimension)\n",
    "    if bond_dim_match3:\n",
    "        bond_dimension = int(bond_dim_match3.group(1))\n",
    "        bond_dimensions.append(bond_dimension)\n",
    "    if bond_dim_match4:\n",
    "        bond_dimension = int(bond_dim_match4.group(1))\n",
    "        bond_dimensions.append(bond_dimension)\n",
    "    if bond_dim_match5:\n",
    "        bond_dimension = int(bond_dim_match5.group(1))\n",
    "        bond_dimensions.append(bond_dimension)\n",
    "\n",
    "# Print the extracted Bond dimension values\n",
    "print(\"Bond dimensions:\", bond_dimensions)"
   ],
   "id": "4ec51a317bc86e97",
   "outputs": [
    {
     "name": "stdout",
     "output_type": "stream",
     "text": [
      "Bond dimensions: [5, 6, 7, 8, 9, 10, 11, 13, 15, 17, 19, 21, 24, 27, 30, 33, 37, 41, 46, 51, 57, 63, 70, 77, 85, 94, 104, 115, 127, 140, 154, 170, 188, 207, 228, 251, 277, 305, 336, 370, 408, 449, 494, 544, 599, 659, 725, 798, 878, 966, 1063, 1170, 1287]\n"
     ]
    }
   ],
   "execution_count": 139
  },
  {
   "metadata": {
    "ExecuteTime": {
     "end_time": "2024-05-09T21:16:52.341482Z",
     "start_time": "2024-05-09T21:16:52.337984Z"
    }
   },
   "cell_type": "code",
   "source": [
    "# Regular expression patterns to match E and DW values\n",
    "e_pattern = re.compile(r'E =\\s+(-?\\d+\\.\\d+)')\n",
    "dw_pattern = re.compile(r'DW =\\s+(-?\\d+\\.\\d+e[-+]\\d+)')\n",
    "\n",
    "# Extract E and DE values\n",
    "E_values = []\n",
    "DW_values = []\n",
    "\n",
    "for line in after_sweep_lines:\n",
    "    e_match = e_pattern.search(line)\n",
    "    dw_match = dw_pattern.search(line)\n",
    "    if e_match:\n",
    "        E_values.append(float(e_match.group(1)))\n",
    "    if dw_match:\n",
    "        DW_values.append(float(dw_match.group(1)))\n",
    "\n",
    "# Print extracted values\n",
    "print(\"E values:\", E_values)\n",
    "print(f\"Lenth of E values {len(E_values)}\")\n",
    "print(\"DE values:\", DW_values)\n",
    "print(f\"Lenth of DW values {len(DW_values)}\")"
   ],
   "id": "61461f939a4c398",
   "outputs": [
    {
     "name": "stdout",
     "output_type": "stream",
     "text": [
      "E values: [-2188.8524933639, -2201.7684885021, -2219.8691395786, -2214.2083311983, -2226.2447061414, -2229.7578247683, -2231.7464241466, -2238.1702116775, -2246.9847749194, -2247.6934504468, -2253.0175747342, -2258.3700334081, -2266.6604697823, -2269.695620092, -2265.9482647469, -2266.4445924041, -2268.2492435841, -2271.9077069751, -2274.1737995937, -2283.0275306367, -2279.233663551, -2289.8625273071, -2291.0308243373, -2290.4724997219, -2292.3204784886, -2294.6274329576, -2295.3304065185, -2296.1987994283, -2297.8852612698, -2299.0079675446, -2300.3343344893, -2300.6931369755, -2301.5291615269, -2302.3015071029, -2303.1026410852, -2304.1414786278, -2304.7708515159, -2305.4222458414, -2305.9198257714, -2306.4383851267, -2306.8918788122, -2307.1111199066, -2307.2542187507, -2307.2342576021, -2307.2715641146, -2307.2681546613, -2307.2634185598, -2307.2694390245, -2307.2672138707, -2307.2718630989, -2307.264140851, -2307.2643672966, -2307.2698515021]\n",
      "Lenth of E values 53\n",
      "DE values: [0.0752, 0.064, 0.132, 0.042, 0.114, 0.0705, 0.0647, 0.0424, 0.0345, 0.0631, 0.0451, 0.0533, 0.0288, 0.0309, 0.0231, 0.0153, 0.00821, 0.00875, 0.00986, 0.0107, 0.00584, 0.00959, 0.00933, 0.013, 0.00945, 0.00769, 0.00441, 0.00461, 0.00741, 0.00426, 0.00281, 0.00287, 0.0022, 0.00226, 0.00223, 0.0014, 0.00107, 0.000796, 0.000821, 0.000345, 0.000169, 3.2e-05, 3.63e-08, 2.69e-07, 2.87e-07, 4.11e-08, 3.74e-08, 3.09e-08, 2.6e-08, 1.96e-08, 1.81e-08, 1.83e-08, 1.74e-08]\n",
      "Lenth of DW values 53\n"
     ]
    }
   ],
   "execution_count": 140
  },
  {
   "metadata": {
    "ExecuteTime": {
     "end_time": "2024-05-09T21:16:53.060460Z",
     "start_time": "2024-05-09T21:16:53.050168Z"
    }
   },
   "cell_type": "code",
   "source": [
    "df_1 = pd.DataFrame()\n",
    "column_names = [\"Bond dimension\", \"Energy\", \"DW\"]\n",
    "data = [bond_dimensions, E_values, DW_values]\n",
    "#Iteratively add data to new columns\n",
    "for column_name, column_data in zip(column_names, data):\n",
    "    df_1[column_name] = column_data\n",
    "\n",
    "df_1.to_excel(writer, sheet_name=catalyst_name, index=False)"
   ],
   "id": "d90c3831789d463",
   "outputs": [],
   "execution_count": 141
  },
  {
   "metadata": {},
   "cell_type": "markdown",
   "source": "# Stop!",
   "id": "80a62add65e27332"
  },
  {
   "metadata": {
    "ExecuteTime": {
     "end_time": "2024-05-09T21:16:53.846675Z",
     "start_time": "2024-05-09T21:16:53.844486Z"
    }
   },
   "cell_type": "code",
   "source": "",
   "id": "165fd054e21d1700",
   "outputs": [],
   "execution_count": 141
  },
  {
   "metadata": {
    "ExecuteTime": {
     "end_time": "2024-05-09T21:16:54.382500Z",
     "start_time": "2024-05-09T21:16:54.380072Z"
    }
   },
   "cell_type": "code",
   "source": "",
   "id": "a4a11f1db81a6ef6",
   "outputs": [],
   "execution_count": 141
  },
  {
   "metadata": {
    "ExecuteTime": {
     "end_time": "2024-05-09T21:16:54.773049Z",
     "start_time": "2024-05-09T21:16:54.769804Z"
    }
   },
   "cell_type": "code",
   "source": "",
   "id": "b19cb43fb5d6ebb9",
   "outputs": [],
   "execution_count": 141
  },
  {
   "metadata": {
    "ExecuteTime": {
     "end_time": "2024-05-09T21:16:55.293577Z",
     "start_time": "2024-05-09T21:16:55.282829Z"
    }
   },
   "cell_type": "code",
   "source": "writer.close()",
   "id": "240222303318efb4",
   "outputs": [],
   "execution_count": 142
  },
  {
   "metadata": {},
   "cell_type": "code",
   "outputs": [],
   "execution_count": null,
   "source": "",
   "id": "dac1af3440bf3369"
  }
 ],
 "metadata": {
  "kernelspec": {
   "display_name": "Python 3",
   "language": "python",
   "name": "python3"
  },
  "language_info": {
   "codemirror_mode": {
    "name": "ipython",
    "version": 2
   },
   "file_extension": ".py",
   "mimetype": "text/x-python",
   "name": "python",
   "nbconvert_exporter": "python",
   "pygments_lexer": "ipython2",
   "version": "2.7.6"
  }
 },
 "nbformat": 4,
 "nbformat_minor": 5
}
