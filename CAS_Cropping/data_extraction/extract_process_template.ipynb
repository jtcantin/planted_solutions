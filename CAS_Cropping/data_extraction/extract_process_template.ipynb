{
 "cells": [
  {
   "cell_type": "code",
   "metadata": {
    "ExecuteTime": {
     "end_time": "2024-05-31T17:58:54.169539Z",
     "start_time": "2024-05-31T17:58:52.197408Z"
    }
   },
   "source": [
    "import numpy as np\n",
    "import h5py\n",
    "import CAS.dmrghandler.src.dmrghandler.hdf5_io as hdf5_io\n",
    "import CAS.dmrghandler.src.dmrghandler.dmrg_processing as dp\n",
    "from pathlib import Path\n",
    "import openpyxl as px\n",
    "import openpyxl.chart as px_chart\n",
    "import pandas as pd"
   ],
   "outputs": [],
   "execution_count": 1
  },
  {
   "cell_type": "markdown",
   "metadata": {},
   "source": [
    "This notebook will collect the DMRG calculation data and then output an excel file with the data and plots (one sheet per calculation run), as well as csv files that contain the performance metric data (bond dimension, DMRG energy, time, discarded weights, etc.)\n",
    "\n",
    "To run this notebook and collect the data, the following are needed:\n",
    "- catalysis_instances.csv \n",
    "    \n",
    "    This contains the metadata for the catalysist instances.\n",
    "    Put into `catalyst_meta_data_path`\n",
    "    ✓\n",
    "\n",
    "- DMRG output datafolders (i.e. those that were output with the UUIDs)\n",
    "    \n",
    "    Put folder of these datafolders into `data_file_path`\n",
    "\n",
    "- The run commands returned by the `prepare_calcs_*.py` files\n",
    "    \n",
    "    Put into `run_commands`\n",
    "    ✓\n",
    "\n",
    "- SLURM emails (.eml or other text format should work)\n",
    "    \n",
    "    The notebook will automatically collect the run times from the email subjects.\n",
    "    Put folder of these emails into `slurm_emails_folder`\n",
    "    ✓\n",
    "\n",
    "- The FCIDUMP files\n",
    "    \n",
    "    Put the folder of these files into `fci_dump_folder`\n",
    "    ✓\n",
    "\n",
    "- Excel output save folder\n",
    "    \n",
    "    Put into `excel_storage_path`\n",
    "    ✓\n",
    "    \n",
    "- name of output excel file\n",
    "    \n",
    "    Put into `excel_name`\n",
    "    ✓\n",
    "\n",
    "- Performance metrics folder location\n",
    "    \n",
    "    Put into `csv_storage_path`\n",
    "    ✓"
   ]
  },
  {
   "metadata": {},
   "cell_type": "code",
   "outputs": [],
   "execution_count": null,
   "source": [
    "\"\"\"\n",
    "# fcidumps_df/fcidump.9_mo_n2-_{'Mo'_'def2-TZVP''default'_'def2-SVP'}_tbt_combined_df\n",
    "sbatch ../02a44b7b-c68c-4065-952c-47ae128e59ff/submit_02a44b7b-c68c-4065-952c-47ae128e59ff.sh\n",
    "# fcidumps_df/fcidump.31_4a_{'Mo'_'def2-SVP''I'_'def2-SVP''Cl'_'def2-SVP''default'_'6-311_G(dp)'}_tbt_combined_df\n",
    "sbatch ../c3b07055-1d4e-4cb0-a6e6-8c4e513e5b91/submit_c3b07055-1d4e-4cb0-a6e6-8c4e513e5b91.sh\n",
    "# fcidumps_df/fcidump.22_pc-_{'Mo'_'def2-SVP''I'_'def2-SVP''Cl'_'def2-SVP''default'_'6-311_G(dp)'}_tbt_combined_df\n",
    "sbatch ../74bf2694-a8c7-4825-a0d3-7a1fcc454fbd/submit_74bf2694-a8c7-4825-a0d3-7a1fcc454fbd.sh\n",
    "# fcidumps_df/fcidump.21_rc_{'Mo'_'def2-SVP''I'_'def2-SVP''Cl'_'def2-SVP''default'_'6-311_G(dp)'}_tbt_combined_df\n",
    "sbatch ../aeeb1e35-1b4d-4552-8225-99e62f85b9cf/submit_aeeb1e35-1b4d-4552-8225-99e62f85b9cf.sh\n",
    "# fcidumps_df/fcidump.16_ts_1over4a_{'Mo'_'def2-SVP''I'_'def2-SVP''Cl'_'def2-SVP''default'_'6-311_G(dp)'}_tbt_combined_df\n",
    "sbatch ../f83c2ca9-fe06-436a-ba52-ddf31af6f3f0/submit_f83c2ca9-fe06-436a-ba52-ddf31af6f3f0.sh\n",
    "# fcidumps_df/fcidump.15_1_lut_react_{'Mo'_'def2-SVP''default'_'6-311_G(dp)'}_tbt_combined_df\n",
    "sbatch ../9f05068f-1d88-4c99-9532-813c85861409/submit_9f05068f-1d88-4c99-9532-813c85861409.sh\n",
    "# fcidumps_df/fcidump.12_mo_n2_{'Mo'_'def2-TZVP''default'_'def2-SVP'}_tbt_combined_df\n",
    "sbatch ../cb489780-2e42-46af-b027-810a0d58ecba/submit_cb489780-2e42-46af-b027-810a0d58ecba.sh\n",
    "\"\"\""
   ]
  },
  {
   "cell_type": "code",
   "metadata": {
    "ExecuteTime": {
     "end_time": "2024-05-31T18:11:14.264110Z",
     "start_time": "2024-05-31T18:11:14.257894Z"
    }
   },
   "source": [
    "catalyst_meta_data_path=Path('../catalysis_instances.csv')\n",
    "excel_name=Path('20240531_catalyst_mf_df.xlsx')\n",
    "data_file_path = Path(\"../dmrg_data/data_storage_mf\")\n",
    "\n",
    "run_commands = \\\n",
    "\"\"\"\n",
    "# up to 20 log10 hilbert space\n",
    "#######################\n",
    "# fcidumps_df/fcidump.29_2_{'Mo'_'def2-SVP''I'_'def2-SVP''Cl'_'def2-SVP''default'_'6-311_G(dp)'}_tbt_combined_df\n",
    "sbatch ../e1ee2d6a-490e-441b-8fd0-c8216e4be0c2/submit_e1ee2d6a-490e-441b-8fd0-c8216e4be0c2.sh\n",
    "# fcidumps_df/fcidump.28_2_{'Mo'_'def2-SVP''I'_'def2-SVP''Cl'_'def2-SVP''default'_'6-311_G(dp)'}_tbt_combined_df\n",
    "sbatch ../e47a8e75-ca1a-4192-a0b0-c5a792552101/submit_e47a8e75-ca1a-4192-a0b0-c5a792552101.sh\n",
    "# fcidumps_df/fcidump.27_pc_{'Mo'_'def2-SVP''I'_'def2-SVP''Cl'_'def2-SVP''default'_'6-311_G(dp)'}_tbt_combined_df\n",
    "sbatch ../702234e9-0fea-4fe2-bb6b-bf65477e8319/submit_702234e9-0fea-4fe2-bb6b-bf65477e8319.sh\n",
    "# fcidumps_df/fcidump.26_pc_{'Mo'_'def2-SVP''I'_'def2-SVP''Cl'_'def2-SVP''default'_'6-311_G(dp)'}_tbt_combined_df\n",
    "sbatch ../deade281-228d-4224-82ce-d7048fb1c737/submit_deade281-228d-4224-82ce-d7048fb1c737.sh\n",
    "# fcidumps_df/fcidump.25_ts_1over2_{'Mo'_'def2-SVP''I'_'def2-SVP''Cl'_'def2-SVP''default'_'6-311_G(dp)'}_tbt_combined_df\n",
    "sbatch ../da443680-cc8a-4aff-891f-c07a8c510943/submit_da443680-cc8a-4aff-891f-c07a8c510943.sh\n",
    "# fcidumps_df/fcidump.24_ts_1over2_{'Mo'_'def2-SVP''I'_'def2-SVP''Cl'_'def2-SVP''default'_'6-311_G(dp)'}_tbt_combined_df\n",
    "sbatch ../6951fbf8-7776-4cb7-a50b-851d63cefd7b/submit_6951fbf8-7776-4cb7-a50b-851d63cefd7b.sh\n",
    "# fcidumps_df/fcidump.23_pc-_{'Mo'_'def2-SVP''I'_'def2-SVP''Cl'_'def2-SVP''default'_'6-311_G(dp)'}_tbt_combined_df\n",
    "sbatch ../0dd7dc42-6f07-4e70-9940-f9d544116d12/submit_0dd7dc42-6f07-4e70-9940-f9d544116d12.sh\n",
    "# fcidumps_df/fcidump.20_rc_{'Mo'_'def2-SVP''I'_'def2-SVP''Cl'_'def2-SVP''default'_'6-311_G(dp)'}_tbt_combined_df\n",
    "sbatch ../3e27c5b4-54c2-412a-9b3c-6c481e891a44/submit_3e27c5b4-54c2-412a-9b3c-6c481e891a44.sh\n",
    "# fcidumps_df/fcidump.19_I_{'Mo'_'def2-SVP''I'_'def2-SVP''Cl'_'def2-SVP''default'_'6-311_G(dp)'}_tbt_combined_df\n",
    "sbatch ../55837739-9ce7-41c7-8d98-2e01104b68e3/submit_55837739-9ce7-41c7-8d98-2e01104b68e3.sh\n",
    "# fcidumps_df/fcidump.18_I_{'Mo'_'def2-SVP''I'_'def2-SVP''Cl'_'def2-SVP''default'_'6-311_G(dp)'}_tbt_combined_df\n",
    "sbatch ../e2854268-2e06-4836-9b35-8dc8bbf9c98c/submit_e2854268-2e06-4836-9b35-8dc8bbf9c98c.sh\n",
    "# fcidumps_df/fcidump.17_ts_1over4a_{'Mo'_'def2-SVP''I'_'def2-SVP''Cl'_'def2-SVP''default'_'6-311_G(dp)'}_tbt_combined_df\n",
    "sbatch ../005845bd-750e-45b8-9852-441546899608/submit_005845bd-750e-45b8-9852-441546899608.sh\n",
    "# fcidumps_df/fcidump.14_1_lut_prod_{'Mo'_'def2-SVP''default'_'6-311_G(dp)'}_tbt_combined_df\n",
    "sbatch ../a027bb58-94ef-4409-bbcc-5668d650f178/submit_a027bb58-94ef-4409-bbcc-5668d650f178.sh\n",
    "# fcidumps_df/fcidump.13_1_lut_ts_{'Mo'_'def2-SVP''default'_'6-311_G(dp)'}_tbt_combined_df\n",
    "sbatch ../c3e942aa-1337-41f5-a68d-97a4da8fe15b/submit_c3e942aa-1337-41f5-a68d-97a4da8fe15b.sh\n",
    "# fcidumps_df/fcidump.11_fecp2_s0_def2-tzvp_tbt_combined_df\n",
    "sbatch ../5afb3915-24f3-473e-a37c-1f78531770a2/submit_5afb3915-24f3-473e-a37c-1f78531770a2.sh\n",
    "# fcidumps_df/fcidump.10_fecp2__s0.5_def2-tzvp_tbt_combined_df\n",
    "sbatch ../9c5bb7b2-e372-48db-86c5-656cbd7143f9/submit_9c5bb7b2-e372-48db-86c5-656cbd7143f9.sh\n",
    "\n",
    "\n",
    "\"\"\""
   ],
   "outputs": [],
   "execution_count": 52
  },
  {
   "cell_type": "code",
   "metadata": {
    "ExecuteTime": {
     "end_time": "2024-05-31T18:11:14.711758Z",
     "start_time": "2024-05-31T18:11:14.707945Z"
    }
   },
   "source": [
    "slurm_emails_folder = Path('../slurm_emails/slurm_emails_mf')\n",
    "fci_dump_folder  = Path(\"../fcidumps_directory/fcidumps_df\")\n",
    "excel_storage_path = Path(\"../excel_data_storage\")\n",
    "csv_storage_path = excel_storage_path/Path(\"20240531performance_metrics_store_mf_df\")\n"
   ],
   "outputs": [],
   "execution_count": 53
  },
  {
   "cell_type": "code",
   "metadata": {
    "ExecuteTime": {
     "end_time": "2024-05-31T18:11:14.921696Z",
     "start_time": "2024-05-31T18:11:14.913258Z"
    }
   },
   "source": [
    "catalyst_meta_data = pd.read_csv(catalyst_meta_data_path)"
   ],
   "outputs": [],
   "execution_count": 54
  },
  {
   "cell_type": "code",
   "metadata": {
    "ExecuteTime": {
     "end_time": "2024-05-31T18:11:15.094068Z",
     "start_time": "2024-05-31T18:11:15.066629Z"
    }
   },
   "source": [
    "\n",
    "cc_wall_time_dict = {}\n",
    "# Get all eml files in the folder\n",
    "slurm_email_files = list(slurm_emails_folder.glob('*.eml'))\n",
    "for email_file in slurm_email_files:\n",
    "    with open(email_file, 'r') as f:\n",
    "        use_next_line_subject = False\n",
    "        obtained_run_time = False\n",
    "        for line in f:\n",
    "            if use_next_line_subject:\n",
    "                line = line.strip()\n",
    "                run_time = line.split(', ')[0].split(' ')[-1]\n",
    "                # print(run_time)\n",
    "                obtained_run_time = True\n",
    "                use_next_line_subject = False\n",
    "            if line.startswith('Subject: '):\n",
    "                use_next_line_subject = True\n",
    "                # print(line)\n",
    "            elif line.startswith('   Command=../'):\n",
    "                line = line.strip()\n",
    "                uuid = line.split('/')[1]\n",
    "                # print(uuid)\n",
    "                assert obtained_run_time, 'Run time not yet obtained'\n",
    "                cc_wall_time_dict[uuid] = run_time\n",
    "                \n",
    "print(len(cc_wall_time_dict))"
   ],
   "outputs": [
    {
     "name": "stdout",
     "output_type": "stream",
     "text": [
      "67\n"
     ]
    }
   ],
   "execution_count": 55
  },
  {
   "cell_type": "code",
   "metadata": {
    "ExecuteTime": {
     "end_time": "2024-05-31T18:11:15.275015Z",
     "start_time": "2024-05-31T18:11:15.271359Z"
    }
   },
   "source": [
    "#Load all fcidump file names\n",
    "fcidump_files = [filename.name for filename in list(fci_dump_folder.glob('fcidump.*'))]\n",
    "# fcidump_files\n"
   ],
   "outputs": [],
   "execution_count": 56
  },
  {
   "metadata": {
    "ExecuteTime": {
     "end_time": "2024-05-31T18:11:15.780275Z",
     "start_time": "2024-05-31T18:11:15.777059Z"
    }
   },
   "cell_type": "code",
   "source": "print(len(fcidump_files))",
   "outputs": [
    {
     "name": "stdout",
     "output_type": "stream",
     "text": [
      "67\n"
     ]
    }
   ],
   "execution_count": 57
  },
  {
   "cell_type": "code",
   "metadata": {
    "ExecuteTime": {
     "end_time": "2024-05-31T18:11:16.132535Z",
     "start_time": "2024-05-31T18:11:16.127032Z"
    }
   },
   "source": [
    "\n",
    "import io\n",
    "buf = io.StringIO(run_commands)\n",
    "orig_data_dict_list = []\n",
    "count = 0\n",
    "for line in buf.readlines():\n",
    "    if line.startswith('### '):\n",
    "        continue\n",
    "    if line.startswith('# fcidumps_df/'):\n",
    "        count += 1\n",
    "        fcidump_name_temp = line.split('fcidumps_df/')[1].strip()\n",
    "        dict_entry = {}\n",
    "        # print(fcidump_name_temp)\n",
    "        # if fcidump_name.endswith('}'):\n",
    "        #     fcidump_test_string = fcidump_name.split('{')[0]\n",
    "        # else:\n",
    "        #     basis_end = fcidump_name.split('_')[-1]\n",
    "        #     fcidump_test_string = fcidump_name.split('_'+basis_end)[0]+'_'\n",
    "        fcidump_test_string = fcidump_name_temp.split('_')[0] \n",
    "        fcidump_tail = fcidump_name_temp[-15:-1]\n",
    "        # print(fcidump_test_string)\n",
    "        for fcidump_name in fcidump_files:\n",
    "            if fcidump_name.startswith(fcidump_test_string):\n",
    "                break\n",
    "        dict_entry['fcidump'] = fcidump_name\n",
    "        dict_entry['fcidump_test_string'] = fcidump_test_string\n",
    "        dict_entry['fcidump_tail'] = fcidump_tail\n",
    "    if line.startswith('sbatch ../'):\n",
    "        calc_uuid = line.split('sbatch ../')[1].split('/')[0]\n",
    "        # print(calc_uuid)\n",
    "        dict_entry['Calc UUID'] = calc_uuid\n",
    "        dict_entry['CC Wall Time'] = cc_wall_time_dict[calc_uuid]\n",
    "        dict_entry['Attempt Result'] = \"\"\n",
    "        orig_data_dict_list.append(dict_entry)\n",
    "   "
   ],
   "outputs": [],
   "execution_count": 58
  },
  {
   "metadata": {
    "ExecuteTime": {
     "end_time": "2024-05-31T18:11:18.105305Z",
     "start_time": "2024-05-31T18:11:18.097718Z"
    }
   },
   "cell_type": "code",
   "source": "count",
   "outputs": [
    {
     "data": {
      "text/plain": [
       "15"
      ]
     },
     "execution_count": 59,
     "metadata": {},
     "output_type": "execute_result"
    }
   ],
   "execution_count": 59
  },
  {
   "cell_type": "code",
   "metadata": {
    "ExecuteTime": {
     "end_time": "2024-05-31T18:11:18.546389Z",
     "start_time": "2024-05-31T18:11:18.544174Z"
    }
   },
   "source": [
    "# catalyst_meta_data.columns"
   ],
   "outputs": [],
   "execution_count": 60
  },
  {
   "cell_type": "code",
   "metadata": {
    "ExecuteTime": {
     "end_time": "2024-05-31T18:11:18.994485Z",
     "start_time": "2024-05-31T18:11:18.979631Z"
    }
   },
   "source": [
    "data_dict_list = []\n",
    "for data_dict in orig_data_dict_list:\n",
    "    new_data_dict = {}\n",
    "    fcidump_test_string = data_dict['fcidump_test_string']\n",
    "    fcidump_tail = data_dict['fcidump_tail']\n",
    "    #Get metadata row\n",
    "    data_row = catalyst_meta_data[(catalyst_meta_data['fcidump'].str.contains(fcidump_test_string))]\n",
    "    new_data_dict['instance ID'] = data_row['instance ID'].values[0]\n",
    "    new_data_dict['molecule'] = data_row['molecule'].values[0]\n",
    "    new_data_dict['charge'] = data_row['charge'].values[0]\n",
    "    new_data_dict['multiplicity'] = data_row['multiplicity'].values[0]\n",
    "    new_data_dict['fcidump'] = data_dict['fcidump'] + fcidump_tail\n",
    "    new_data_dict['log10_hilbert_space_size'] = data_row['log10_hilbert_space_size'].values[0]\n",
    "    new_data_dict['Attempt Result'] = data_dict['Attempt Result']\n",
    "    new_data_dict['Calc UUID'] = data_dict['Calc UUID']\n",
    "    new_data_dict['CC Wall Time'] = data_dict['CC Wall Time']\n",
    "    new_data_dict['fcidump_tail'] = fcidump_tail\n",
    "    if 'Calc UUID Small BD' in data_dict:\n",
    "        new_data_dict['Calc UUID Small BD'] = data_dict['Calc UUID Small BD']\n",
    "        new_data_dict['CC Wall Time Small BD'] = data_dict['CC Wall Time Small BD']\n",
    "    data_dict_list.append(new_data_dict)\n",
    "\n",
    "\n",
    "\n",
    "    "
   ],
   "outputs": [],
   "execution_count": 61
  },
  {
   "metadata": {},
   "cell_type": "markdown",
   "source": ""
  },
  {
   "metadata": {
    "ExecuteTime": {
     "end_time": "2024-05-31T18:11:20.259132Z",
     "start_time": "2024-05-31T18:11:20.242627Z"
    }
   },
   "cell_type": "code",
   "source": "print(len(data_dict_list))",
   "outputs": [
    {
     "name": "stdout",
     "output_type": "stream",
     "text": [
      "15\n"
     ]
    }
   ],
   "execution_count": 62
  },
  {
   "cell_type": "code",
   "metadata": {
    "ExecuteTime": {
     "end_time": "2024-05-31T18:11:29.079200Z",
     "start_time": "2024-05-31T18:11:29.070036Z"
    }
   },
   "source": [
    "# data_dict_list"
   ],
   "outputs": [],
   "execution_count": 63
  },
  {
   "cell_type": "code",
   "metadata": {
    "ExecuteTime": {
     "end_time": "2024-05-31T18:11:30.948905Z",
     "start_time": "2024-05-31T18:11:30.126943Z"
    }
   },
   "source": [
    "wb = px.Workbook()\n",
    "\n",
    "dp.setup_workbook(data_file_path=data_file_path,data_dict_list=data_dict_list,workbook=wb,csv_storage_path=csv_storage_path)\n",
    "\n",
    "wb.save(excel_storage_path/excel_name)"
   ],
   "outputs": [
    {
     "name": "stdout",
     "output_type": "stream",
     "text": [
      "Last loop included = 46\n",
      "Last loop included = 51\n",
      "Last loop included = 46\n",
      "Last loop included = 53\n",
      "Last loop included = 46\n",
      "Last loop included = 32\n",
      "Processed results available\n",
      "Checking that processed results match raw results.\n",
      "Last loop included = 3\n",
      "Last loop included = 43\n",
      "Processed results available\n",
      "Checking that processed results match raw results.\n",
      "Last loop included = 1\n",
      "Last loop included = 44\n",
      "Last loop included = 4\n",
      "Last loop included = 19\n",
      "Last loop included = 28\n",
      "Last loop included = 49\n",
      "Last loop included = 48\n"
     ]
    },
    {
     "name": "stderr",
     "output_type": "stream",
     "text": [
      "/Users/rick/planted_solutions/planted_solutions/venv/lib/python3.9/site-packages/openpyxl/workbook/child.py:99: UserWarning: Title is more than 31 characters. Some applications may not be able to read the file\n",
      "  warnings.warn(\"Title is more than 31 characters. Some applications may not be able to read the file\")\n"
     ]
    }
   ],
   "execution_count": 64
  },
  {
   "metadata": {
    "ExecuteTime": {
     "end_time": "2024-05-19T03:57:47.297125Z",
     "start_time": "2024-05-19T03:57:47.295888Z"
    }
   },
   "cell_type": "code",
   "source": "",
   "outputs": [],
   "execution_count": 175
  },
  {
   "metadata": {
    "ExecuteTime": {
     "end_time": "2024-05-19T03:57:47.299117Z",
     "start_time": "2024-05-19T03:57:47.297805Z"
    }
   },
   "cell_type": "code",
   "source": "",
   "outputs": [],
   "execution_count": 175
  },
  {
   "metadata": {},
   "cell_type": "code",
   "outputs": [],
   "execution_count": null,
   "source": ""
  }
 ],
 "metadata": {
  "kernelspec": {
   "display_name": "env_dmrghandler",
   "language": "python",
   "name": "python3"
  },
  "language_info": {
   "codemirror_mode": {
    "name": "ipython",
    "version": 3
   },
   "file_extension": ".py",
   "mimetype": "text/x-python",
   "name": "python",
   "nbconvert_exporter": "python",
   "pygments_lexer": "ipython3",
   "version": "3.9.17"
  }
 },
 "nbformat": 4,
 "nbformat_minor": 2
}
