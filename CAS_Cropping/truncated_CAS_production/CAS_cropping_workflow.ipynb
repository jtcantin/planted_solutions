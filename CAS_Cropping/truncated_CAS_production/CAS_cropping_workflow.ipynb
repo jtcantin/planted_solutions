{
 "cells": [
  {
   "cell_type": "code",
   "id": "93f6ed26",
   "metadata": {
    "ExecuteTime": {
     "end_time": "2024-09-30T19:08:48.794117Z",
     "start_time": "2024-09-30T19:08:48.656316Z"
    }
   },
   "source": [
    "\"\"\"Construct CAS Hamiltonians with cropping\n",
    "\"\"\"\n",
    "import saveload_utils as sl\n",
    "import ferm_utils as feru\n",
    "import csa_utils as csau\n",
    "import var_utils as varu\n",
    "import openfermion as of\n",
    "import numpy as np\n",
    "from sdstate import *\n",
    "from itertools import product\n",
    "import random\n",
    "\n",
    "### Parameters\n",
    "mol = 'h2'\n",
    "tol = 1e-5\n",
    "save = False\n",
    "method_name = 'CAS-Cropping'\n",
    "k = [[0,1,2,3,4,5],[6,7,8,9,10,11]]\n",
    "spin_symmetry_check = False\n",
    "FCI = False\n",
    "# Get two-body tensor\n",
    "Hf = sl.load_fermionic_hamiltonian(mol, prefix = \"./\")\n",
    "spin_orbs = of.count_qubits(Hf)  \n",
    "print(spin_orbs)\n",
    "spatial_orb = spin_orbs // 2\n",
    "Sz = of.hamiltonians.sz_operator(spatial_orb)\n",
    "S2 = of.hamiltonians.s_squared_operator(spatial_orb)\n",
    "def get_truncated_cas_tbt(Htbt, k, casnum):\n",
    "#     Trunctate the original Hamiltonian two body tensor into the cas block structures\n",
    "    cas_tbt = np.zeros(Htbt.shape)\n",
    "    cas_x = np.zeros(casnum)\n",
    "    idx = 0\n",
    "    for block in k:\n",
    "        for a in block:\n",
    "            for b in block:\n",
    "                for c in block:\n",
    "                    for d in block:\n",
    "                        cas_tbt [a,b,c,d] = Htbt [a,b,c,d]\n",
    "                        cas_x[idx] = Htbt[a,b,c,d]\n",
    "                        idx += 1\n",
    "    return cas_tbt, cas_x\n",
    "\n",
    "Htbt = feru.get_chemist_tbt(Hf, spin_orbs, spin_orb = True)\n",
    "one_body = of.normal_ordered(Hf - feru.get_ferm_op(Htbt, spin_orb=True))\n",
    "# print(one_body)\n",
    "onebody_matrix = feru.get_obt(one_body, n = spin_orbs, spin_orb = True)\n",
    "# for term,val in one_body.terms.items():\n",
    "#     if len(term) == 2:\n",
    "#         assert onebody_matrix[term[0][0], term[1][0]] == val\n",
    "#         print(f\"Position {[term[0][0], term[1][0]]}: checked\")\n",
    "assert np.transpose(onebody_matrix.any()) == onebody_matrix.any()\n",
    "onebody_tbt = feru.onebody_to_twobody(onebody_matrix)\n",
    "r = feru.get_ferm_op(onebody_tbt, True)\n",
    "Htbt = np.add(Htbt, onebody_tbt)\n",
    "recombined = feru.get_ferm_op(Htbt, True)\n",
    "# print(of.normal_ordered(Hf - recombined))\n",
    "upnum, casnum, pnum = csau.get_param_num(spin_orbs, k, complex = False)\n",
    "# print(Htbt.shape)\n",
    "cas_tbt, cas_x = get_truncated_cas_tbt(Htbt, k, casnum)\n",
    "H_cas = feru.get_ferm_op(cas_tbt, True)\n",
    "#     Checking H_cas symmetries\n",
    "assert of.FermionOperator.zero() == of.normal_ordered(of.commutator(Sz, H_cas)), \"Sz symmetry broken\"\n",
    "assert of.FermionOperator.zero() == of.normal_ordered(of.commutator(S2, H_cas)), \"S2 symmetry broken\""
   ],
   "outputs": [
    {
     "ename": "ModuleNotFoundError",
     "evalue": "No module named 'saveload_utils'",
     "output_type": "error",
     "traceback": [
      "\u001B[0;31m---------------------------------------------------------------------------\u001B[0m",
      "\u001B[0;31mModuleNotFoundError\u001B[0m                       Traceback (most recent call last)",
      "Cell \u001B[0;32mIn[1], line 3\u001B[0m\n\u001B[1;32m      1\u001B[0m \u001B[38;5;124;03m\"\"\"Construct CAS Hamiltonians with cropping\u001B[39;00m\n\u001B[1;32m      2\u001B[0m \u001B[38;5;124;03m\"\"\"\u001B[39;00m\n\u001B[0;32m----> 3\u001B[0m \u001B[38;5;28;01mimport\u001B[39;00m \u001B[38;5;21;01msaveload_utils\u001B[39;00m \u001B[38;5;28;01mas\u001B[39;00m \u001B[38;5;21;01msl\u001B[39;00m\n\u001B[1;32m      4\u001B[0m \u001B[38;5;28;01mimport\u001B[39;00m \u001B[38;5;21;01mferm_utils\u001B[39;00m \u001B[38;5;28;01mas\u001B[39;00m \u001B[38;5;21;01mferu\u001B[39;00m\n\u001B[1;32m      5\u001B[0m \u001B[38;5;28;01mimport\u001B[39;00m \u001B[38;5;21;01mcsa_utils\u001B[39;00m \u001B[38;5;28;01mas\u001B[39;00m \u001B[38;5;21;01mcsau\u001B[39;00m\n",
      "\u001B[0;31mModuleNotFoundError\u001B[0m: No module named 'saveload_utils'"
     ]
    }
   ],
   "execution_count": 1
  },
  {
   "cell_type": "code",
   "execution_count": 5,
   "id": "36c86ac3",
   "metadata": {},
   "outputs": [
    {
     "name": "stdout",
     "output_type": "stream",
     "text": [
      "FCI Energy: -12.17213924421073\n",
      "(0.7602294488916079+0j)\n",
      "-12.145338224562707\n"
     ]
    }
   ],
   "source": [
    "# Checking ground state with FCI\n",
    "# Warning: This takes exponential time to run\n",
    "E_min, sol = of.get_ground_state(of.get_sparse_operator(H_cas))\n",
    "print(f\"FCI Energy: {E_min}\")\n",
    "tmp_st = sdstate()\n",
    "for s in range(len(sol)):\n",
    "    if sol[s] > np.finfo(np.float32).eps:\n",
    "        tmp_st += sdstate(s, sol[s])\n",
    "#         print(bin(s))\n",
    "print(tmp_st.norm())\n",
    "tmp_st.normalize()\n",
    "print(tmp_st.exp(H_cas))"
   ]
  },
  {
   "cell_type": "code",
   "execution_count": 15,
   "id": "809c05ce",
   "metadata": {},
   "outputs": [
    {
     "name": "stdout",
     "output_type": "stream",
     "text": [
      "E_min: -8.929277154856539 for orbs: [0, 1, 2, 3, 4, 5]\n",
      "state norm: (1+0j)\n",
      "current state Energy: -8.92927715485656\n",
      "E_min: -3.2428620893541313 for orbs: [6, 7, 8, 9, 10, 11]\n",
      "state norm: (1+0j)\n",
      "current state Energy: -3.2428620893541225\n",
      "[4, 4]\n",
      "E_cas: -12.172139244210683\n"
     ]
    }
   ],
   "source": [
    "def in_orbs(term, orbs):\n",
    "    \"\"\"Return if the term is a local excitation operator within orbs\"\"\"\n",
    "    if len(term) == 2:\n",
    "        return term[0][0] in orbs and term[1][0] in orbs\n",
    "    elif len(term) == 4:\n",
    "        return term[0][0] in orbs and term[1][0] in orbs and term[2][0] in orbs and term[3][0] in orbs\n",
    "    return False\n",
    "\n",
    "def transform_orbs(term, orbs):\n",
    "    \"\"\"Transform the operator term to align the orbs starting from 0\"\"\"\n",
    "#     pass\n",
    "    if len(term) == 2:\n",
    "        return ((orbs.index(term[0][0]), 1), (orbs.index(term[1][0]), 0))\n",
    "    if len(term) == 4:\n",
    "        return ((orbs.index(term[0][0]), 1), (orbs.index(term[1][0]), 0), \n",
    "               (orbs.index(term[2][0]), 1), (orbs.index(term[3][0]), 0))   \n",
    "    return None\n",
    "\n",
    "def solve_enums(H_cas, k):\n",
    "    \"\"\"Solve for number of electrons in each CAS block with FCI within the block\"\"\" \n",
    "    e_nums = []\n",
    "    states = []\n",
    "    E_cas = 0\n",
    "    for orbs in k:\n",
    "        tmp = of.FermionOperator()\n",
    "        for t in H_cas.terms:\n",
    "            if in_orbs(t, orbs):\n",
    "                tmp += of.FermionOperator(transform_orbs(t, orbs), H_cas.terms[t])\n",
    "        sparse_H_tmp = of.get_sparse_operator(tmp)\n",
    "        tmp_E_min, t_sol = of.get_ground_state(sparse_H_tmp)\n",
    "        print(f\"E_min: {tmp_E_min} for orbs: {orbs}\")\n",
    "        ne = -1\n",
    "        st = sdstate(n_qubit = len(orbs))\n",
    "        for i in range(len(t_sol)):\n",
    "            if np.linalg.norm(t_sol[i]) > np.finfo(np.float32).eps:\n",
    "                st += sdstate(s = i, coeff = t_sol[i])\n",
    "        print(f\"state norm: {st.norm()}\")\n",
    "        st.normalize()\n",
    "        E_st = st.exp(tmp)\n",
    "        E_cas += E_st\n",
    "        print(f\"current state Energy: {E_st}\")\n",
    "        states.append(st)\n",
    "        for s in st.dic:\n",
    "            ne = bin(s)[2:].count('1')\n",
    "            e_nums.append(ne)\n",
    "            break\n",
    "    return e_nums, states, E_cas\n",
    "            \n",
    "e_nums, states, E_cas = solve_enums(H_cas, k)\n",
    "print(e_nums)\n",
    "print(f\"E_cas: {E_cas}\")\n",
    "# for s in states:\n",
    "#     print(s)"
   ]
  },
  {
   "cell_type": "code",
   "execution_count": 7,
   "id": "19a354ce",
   "metadata": {},
   "outputs": [
    {
     "name": "stdout",
     "output_type": "stream",
     "text": [
      "solution energy: -12.172139244210667\n"
     ]
    }
   ],
   "source": [
    "# Checking the full solution energy in sdstate:\n",
    "sd_sol = sdstate()\n",
    "for st in states:\n",
    "    sd_sol = sd_sol.concatenate(st)\n",
    "# print(sd_sol.n_qubit)\n",
    "E_sol = sd_sol.exp(H_cas)\n",
    "print(f\"solution energy: {E_sol}\")"
   ]
  },
  {
   "cell_type": "code",
   "execution_count": 8,
   "id": "8b230ee1",
   "metadata": {},
   "outputs": [
    {
     "name": "stdout",
     "output_type": "stream",
     "text": [
      "False\n",
      "False\n"
     ]
    }
   ],
   "source": [
    "# Checking if UHU* still commutes with Sz and S^2, result: Does not commute in general\n",
    "# rotation_x = np.random.rand(upnum)\n",
    "rotation_x = np.ones(upnum)\n",
    "# rotation_x = np.zeros(upnum)\n",
    "x = np.concatenate((cas_x,rotation_x))\n",
    "# Hidden CAS_tbt\n",
    "CAS_hidden = csau.sum_cartans(x, spin_orbs, k, 1, False)\n",
    "# Transform into FemionOperator\n",
    "H_hidden = feru.get_ferm_op(CAS_hidden, spin_orb=True)\n",
    "print(of.normal_ordered(of.commutator(Sz, H_hidden)) == of.FermionOperator.zero())\n",
    "print(of.normal_ordered(of.commutator(S2, H_hidden)) == of.FermionOperator.zero())"
   ]
  },
  {
   "cell_type": "code",
   "execution_count": 12,
   "id": "d4d4e124",
   "metadata": {},
   "outputs": [],
   "source": [
    "def construct_killer(k, e_num, n = 0, const = 1e-2, t = 2, n_killer = 3):\n",
    "    \"\"\" Construct a killer operator for CAS Hamiltonian, based on cas block structure of k and the size of killer is \n",
    "    given in k, the number of electrons in each CAS block of the ground state\n",
    "    is specified by e_nums. t is the strength of quadratic balancing terms for the killer with respect to k,\n",
    "    n_killer specifies the number of operators O to choose.\n",
    "    \"\"\"\n",
    "    if not n:\n",
    "        n = max([max(orbs) for orbs in k])\n",
    "    killer = of.FermionOperator.zero()\n",
    "    for i in range(len(k)):\n",
    "        orbs = k[i]\n",
    "        outside_orbs = [j for j in range(n) if j not in orbs]\n",
    "    #     Construct Ne\n",
    "        Ne = sum([of.FermionOperator(\"{}^ {}\".format(i, i)) for i in orbs])\n",
    "    #     Construct O, for O as combination of Epq which preserves Sz and S2\n",
    "        if len(outside_orbs) >= 4:\n",
    "            tmp = 0\n",
    "            while tmp < n_killer:\n",
    "                p, q = random.sample(outside_orbs, 2)\n",
    "                if abs(p - q) > 1:\n",
    "#                     Constructing symmetry conserved killers\n",
    "                    O = of.FermionOperator.zero()\n",
    "                    if p % 2 != 0:\n",
    "                        p -= 1\n",
    "                    if q % 2 != 0:\n",
    "                        q -= 1\n",
    "                    O += of.FermionOperator(\"{}^ {}\".format(p, q)) + of.FermionOperator(\"{}^ {}\".format(q, p))\n",
    "                    O += of.FermionOperator(\"{}^ {}\".format(p + 1, q + 1)) + of.FermionOperator(\"{}^ {}\".format(q + 1, p + 1))\n",
    "                    killer += (1 + np.random.rand()) * const * O * (Ne - e_nums[i])\n",
    "                    tmp += 1\n",
    "        killer += t * (1 + np.random.rand()) * const * ((Ne - e_nums[i]) ** 2)\n",
    "    return killer\n",
    "cas_killer = construct_killer(k, e_nums, n = spin_orbs)\n",
    "assert of.FermionOperator.zero() == of.normal_ordered(of.commutator(Sz, cas_killer)), \"Killer broke Sz symmetry\"\n",
    "assert of.FermionOperator.zero() == of.normal_ordered(of.commutator(S2, cas_killer)), \"S2 symmetry broken\""
   ]
  },
  {
   "cell_type": "code",
   "execution_count": 14,
   "id": "5d9902c9",
   "metadata": {},
   "outputs": [
    {
     "name": "stdout",
     "output_type": "stream",
     "text": [
      "Solution Energy with killer: -12.172139244210673\n"
     ]
    }
   ],
   "source": [
    "# Checking: if killer does not change ground state\n",
    "sparse_with_killer = of.get_sparse_operator(cas_killer + H_cas)\n",
    "killer_Emin, killer_sol = of.get_ground_state(sparse_with_killer)\n",
    "killer_E_sol = sd_sol.exp(H_cas + cas_killer)\n",
    "print(f\"Solution Energy with killer: {killer_E_sol}\")\n",
    "# print(np.linalg.norm(sol @ sparse_with_killer @ sol))\n",
    "# print(killer_Emin - E_min)"
   ]
  }
 ],
 "metadata": {
  "kernelspec": {
   "display_name": "Python 3 (ipykernel)",
   "language": "python",
   "name": "python3"
  },
  "language_info": {
   "codemirror_mode": {
    "name": "ipython",
    "version": 3
   },
   "file_extension": ".py",
   "mimetype": "text/x-python",
   "name": "python",
   "nbconvert_exporter": "python",
   "pygments_lexer": "ipython3",
   "version": "3.10.7"
  }
 },
 "nbformat": 4,
 "nbformat_minor": 5
}
