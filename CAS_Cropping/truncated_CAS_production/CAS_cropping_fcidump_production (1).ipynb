{
 "cells": [
  {
   "cell_type": "markdown",
   "id": "ee1a9b33",
   "metadata": {},
   "source": [
    "\n",
    "To run this notebook, \n",
    "1. put this notebook inside the `CAS_Cropping` folder of the `planted_solutions` repository \n",
    "2. put `fcidump.2_co2_6-311++G__` in the folder `fcidumps_catalysts`\n",
    "3. Using Python 3.10 (3.9 may work), run the following commands to install packages:\n",
    "    ```\n",
    "    python -m pip install openfermion\n",
    "    python -m pip install h5py\n",
    "    python -m pip install notebook\n",
    "    python -m pip install git+https://github.com/jtcantin/dmrghandler\n",
    "    ```"
   ]
  },
  {
   "cell_type": "markdown",
   "id": "7cc3d671",
   "metadata": {},
   "source": [
    "### Workflow\n",
    "Issues highlighted in <font color=\"red\">**RED**</font>\n",
    "1. Load FCIDUMP file for a catalyst\n",
    "    - Hamiltonian assumed is `H = E_0 + h_ij a†_i a_j + 0.5*g_ijkl a†_i a†_k a_l a_j`, `ijkl` refer to *spatial* orbitals\n",
    "2. Combine one body tensor `h_ij` with two body tensor `g_ijkl` to get combined two body tensor `Γ_pqrs,στ`, where `σ=α,β; τ=α,β`\n",
    "    - Hamiltonian assumed is `H = 0.5*Γ_pqrs,στ a†_pσ a_qσ a†_rτ a_sτ = Γ_PQRS a†_P a_Q a†_R a_S`, `PQRS` refer to *spin* orbitals\n",
    "3. Symmetrize combined two body tensor `γ_pqrs,στ = 0.5*(Γ_pqrs,αα + Γ_pqrs,ββ + Γ_pqrs,αβ + Γ_pqrs,βα) / 4`\n",
    "    - This symmetrization is done as all the Zapata catalyst Hamiltonians have this symmetry and the final FCIDUMP files need this symmetry \n",
    "4. Obtain CAS-cropped planted solution two body tensor `tbt_1`\n",
    "    - αβ symmetry maintained: `tbt_1_pqrs,αα = tbt_1_pqrs,ββ = tbt_1_pqrs,αβ = tbt_1_pqrs,βα`\n",
    "5. Add balance operators (controls number of electrons in each block) to get `tbt_2`\n",
    "    - αβ symmetry <font color=\"red\">**BROKEN**</font> -> problem as the catalyst Hamiltonians respect this symmetry\n",
    "6. Generate killer operator `K`\n",
    "7. Save planted solution to `.pkl` file\n",
    "8. Use the function `construct_Hamiltonian_with_solution` to load `.pkl` file and produce:\n",
    "    - `tbt_1`: original CAS-cropped planted solution two body tensor\n",
    "        - <font color=\"red\">**NOTE**</font>: balance operators NOT included\n",
    "    - `tbt_1_hidden`: `tbt_1` plus hiding rotations \n",
    "        - <font color=\"red\">**THESE ROTATIONS MIX SPIN-ORBITALS**</font> -> problem as this is unphysical\n",
    "    - `tbt_3`: `tbt_1` with killer operators\n",
    "        - αβ symmetry <font color=\"red\">**BROKEN**</font>  -> problem as the catalyst Hamiltonians respect this symmetry\n",
    "    - `tbt_3_hidden`: `tbt_3` plus hiding rotations \n",
    "        - <font color=\"red\">**THESE ROTATIONS MIX SPIN-ORBITALS**</font> -> problem as this is unphysical\n",
    "    - <font color=\"red\">**NOTE**</font>: `tbt_2` is not returned by `construct_Hamiltonian_with_solution`\n",
    "9. Convert tensors from spin orbitals to spatial orbitals\n",
    "    - New Hamiltonian assumed is `H = H_ij a†_i a_j + 0.5*G_ijkl a†_i a†_k a_l a_j`, `ijkl` refer to *spatial* orbitals\n",
    "        - This is necessary for the FCIDUMP file\n",
    "10. Save `H_ij` and `G_ijkl` to FCIDUMP file\n",
    "11. Load FCIDUMP file\n",
    "12. Run DMRG in 'SU(2)' symmetry mode\n",
    "    - This is the same mode as used for the catalyst Hamiltonians. It needs the αβ symmetry."
   ]
  },
  {
   "cell_type": "markdown",
   "id": "6c081c66",
   "metadata": {},
   "source": [
    "### Below code run is for the catalyst from the file `fcidump.2_co2_6-311++G__`, with a single block"
   ]
  },
  {
   "cell_type": "code",
   "id": "e560f720",
   "metadata": {
    "ExecuteTime": {
     "end_time": "2024-05-02T15:31:34.455172Z",
     "start_time": "2024-05-02T15:31:34.426939Z"
    }
   },
   "source": [
    "### Parameters\n",
    "tol = 1e-5\n",
    "tol2 = 1e-5\n",
    "balance_strength = 2\n",
    "save = False\n",
    "method_name = 'CAS-Cropping'\n",
    "# Number of spatial orbitals in a block\n",
    "block_size = 3 #6 to make a single block for testing\n",
    "# Number of electrons per block\n",
    "ne_per_block = 4 #8 to make a single block for testing\n",
    "# +- difference in number of electrons per block\n",
    "ne_range = 0\n",
    "# Number of killer operators for each CAS block\n",
    "n_killer = 3\n",
    "# Running Full CI to check compute the ground state, takes exponentially amount of time to execute\n",
    "FCI = True\n",
    "# Checking symmetries of the planted Hamiltonian, very costly\n",
    "check_symmetry = True\n",
    "# File path and name\n",
    "fcidump_path =\"fcidumps_catalysts\"\n",
    "fcidump_filename = \"fcidump.2_co2_6-311++G__\"\n",
    "fcidump_output_path = \"fcidumps_catalysts_planted_solutions\""
   ],
   "outputs": [],
   "execution_count": 25
  },
  {
   "cell_type": "code",
   "id": "635dcb93",
   "metadata": {
    "ExecuteTime": {
     "end_time": "2024-05-02T15:31:35.244848Z",
     "start_time": "2024-05-02T15:31:35.228546Z"
    }
   },
   "source": [
    "\"\"\"Construct CAS Hamiltonians with cropping functions\n",
    "\"\"\"\n",
    "import saveload_utils as sl\n",
    "import ferm_utils as feru\n",
    "import csa_utils as csau\n",
    "import var_utils as varu\n",
    "import openfermion as of\n",
    "import numpy as np\n",
    "from sdstate import *\n",
    "from itertools import product\n",
    "import random\n",
    "import h5py\n",
    "import sys\n",
    "from matrix_utils import construct_random_sz_unitary\n",
    "import pickle\n",
    "import os\n",
    "from pathlib import Path\n",
    "import CAS.dmrghandler.src.dmrghandler.pyscf_wrappers\n",
    "import CAS.dmrghandler.src.dmrghandler.dmrg_calc_prepare\n",
    "import CAS.dmrghandler.src.dmrghandler.qchem_dmrg_calc\n",
    "import CAS.dmrghandler.src.dmrghandler as dmrghandler\n",
    "import pyscf.tools.fcidump\n",
    "\n",
    "\n",
    "\n",
    "def construct_blocks(b: int, spin_orbs: int):\n",
    "    \"\"\"Construct CAS blocks of size b * 2 for spin_orbs number of orbitals\"\"\"\n",
    "    b = b * 2\n",
    "    k = []\n",
    "    tmp = [0]\n",
    "    for i in range(1, spin_orbs):\n",
    "        if i % b == 0:\n",
    "            k.append(tmp)\n",
    "            tmp = [i]\n",
    "        else:\n",
    "            tmp.append(i)\n",
    "    if len(tmp) != 0:\n",
    "        k.append(tmp)\n",
    "    return k\n",
    "        \n",
    "def get_truncated_cas_tbt(Htbt, k, casnum):\n",
    "#     Trunctate the original Hamiltonian two body tensor into the cas block structures\n",
    "    cas_tbt = np.zeros(Htbt.shape)\n",
    "    cas_x = np.zeros(casnum)\n",
    "    idx = 0\n",
    "    for block in k:\n",
    "        for a in block:\n",
    "            for b in block:\n",
    "                for c in block:\n",
    "                    for d in block:\n",
    "                        cas_tbt [a,b,c,d] = Htbt [a,b,c,d]\n",
    "                        cas_x[idx] = Htbt[a,b,c,d]\n",
    "                        idx += 1\n",
    "    return cas_tbt, cas_x\n",
    "\n",
    "def in_orbs(term, orbs):\n",
    "    \"\"\"Return if the term is a local excitation operator within orbs\"\"\"\n",
    "    if len(term) == 2:\n",
    "        return term[0][0] in orbs and term[1][0] in orbs\n",
    "    elif len(term) == 4:\n",
    "        return term[0][0] in orbs and term[1][0] in orbs and term[2][0] in orbs and term[3][0] in orbs\n",
    "    return False\n",
    "\n",
    "def transform_orbs(term, orbs):\n",
    "    \"\"\"Transform the operator term to align the orbs starting from 0\"\"\"\n",
    "#     pass\n",
    "    if len(term) == 2:\n",
    "        return ((orbs.index(term[0][0]), 1), (orbs.index(term[1][0]), 0))\n",
    "    if len(term) == 4:\n",
    "        return ((orbs.index(term[0][0]), 1), (orbs.index(term[1][0]), 0), \n",
    "               (orbs.index(term[2][0]), 1), (orbs.index(term[3][0]), 0))   \n",
    "    return None\n",
    "\n",
    "def solve_enums(cas_tbt, k, ne_per_block = 0, ne_range = 0, balance_t = 10):\n",
    "    \"\"\"Solve for number of electrons in each CAS block with FCI within the block\"\"\" \n",
    "    e_nums = []\n",
    "    states = []\n",
    "    E_cas = 0\n",
    "    for orbs in k:\n",
    "        s = orbs[0]\n",
    "        t = orbs[-1] + 1\n",
    "        norbs = len(orbs)\n",
    "        ne = min(ne_per_block + random.randint(-ne_range, ne_range), norbs - 1)\n",
    "        print(f\"Ne within current block: {ne}\")\n",
    "#         Construct (Ne^-ne)^2 terms in matrix, to enforce structure of states\n",
    "        if ne_per_block != 0:\n",
    "            balance_tbt = np.zeros([norbs, norbs,  norbs, norbs,])\n",
    "            for p, q in product(range(norbs), repeat = 2):\n",
    "                balance_tbt[p,p,q,q] += 1\n",
    "            for p in range(len(orbs)):\n",
    "                balance_tbt[p,p,p,p] -= 2 * ne\n",
    "#             Construct 2e tensor to enforce the Ne in the ground state.\n",
    "            strength = balance_t * (1 + random.random())\n",
    "#             tmp_tbt = np.add(tmp_tbt, balance_tbt)\n",
    "        flag = True\n",
    "        while flag:\n",
    "            balance_tbt *= strength\n",
    "            cas_tbt[s:t, s:t, s:t, s:t] = np.add(cas_tbt[s:t, s:t, s:t, s:t], balance_tbt)\n",
    "            tmp = feru.get_ferm_op(cas_tbt[s:t, s:t, s:t, s:t], True)\n",
    "            sparse_H_tmp = of.get_sparse_operator(tmp)\n",
    "            tmp_E_min, t_sol = of.get_ground_state(sparse_H_tmp)\n",
    "            st = sdstate(n_qubit = len(orbs))\n",
    "            for i in range(len(t_sol)):\n",
    "                if np.linalg.norm(t_sol[i]) > np.finfo(np.float32).eps:\n",
    "                    st += sdstate(s = i, coeff = t_sol[i])\n",
    "#             print(f\"state norm: {st.norm()}\")\n",
    "            st.normalize()\n",
    "            E_st = st.exp(tmp)\n",
    "            flag = False\n",
    "            for sd in st.dic:\n",
    "                ne_computed = bin(sd)[2:].count('1')\n",
    "                if ne_computed != ne:\n",
    "#                     print(\"Not enough balance, adding more terms\")\n",
    "                    flag = True\n",
    "                    break\n",
    "#             flag = False\n",
    "        print(f\"E_min: {tmp_E_min} for orbs: {orbs}\")\n",
    "        print(f\"current state Energy: {E_st}\")\n",
    "        E_cas += E_st\n",
    "        states.append(st)\n",
    "        e_nums.append(ne)                \n",
    "    return e_nums, states, E_cas\n",
    "\n",
    "# Killer Construction\n",
    "def construct_killer(k, e_num, n = 0, const = 1e-2, t = 1e2, n_killer = 3):\n",
    "    \"\"\" Construct a killer operator for CAS Hamiltonian, based on cas block structure of k and the size of killer is \n",
    "    given in k, the number of electrons in each CAS block of the ground state\n",
    "    is specified by e_nums. t is the strength of quadratic balancing terms for the killer with respect to k,\n",
    "    n_killer specifies the number of operators O to choose.\n",
    "    \"\"\"\n",
    "    if not n:\n",
    "        n = max([max(orbs) for orbs in k])\n",
    "    killer = of.FermionOperator.zero()\n",
    "    for i in range(len(k)):\n",
    "        orbs = k[i]\n",
    "        outside_orbs = [j for j in range(n) if j not in orbs]\n",
    "    #     Construct Ne\n",
    "        Ne = sum([of.FermionOperator(\"{}^ {}\".format(i, i)) for i in orbs])\n",
    "    #     Construct O, for O as combination of Epq which preserves Sz and S2\n",
    "        if len(outside_orbs) >= 4:\n",
    "            tmp = 0\n",
    "            while tmp < n_killer:\n",
    "                p, q = random.sample(outside_orbs, 2)\n",
    "                if abs(p - q) > 1:\n",
    "#                     Constructing symmetry conserved killers\n",
    "                    O = of.FermionOperator.zero()\n",
    "                    if p % 2 != 0:\n",
    "                        p -= 1\n",
    "                    if q % 2 != 0:\n",
    "                        q -= 1\n",
    "                    ferm_op = of.FermionOperator(\"{}^ {}\".format(p, q)) + of.FermionOperator(\"{}^ {}\".format(q, p))\n",
    "                    O += ferm_op\n",
    "                    O += of.hermitian_conjugated(ferm_op)\n",
    "                    ferm_op = of.FermionOperator(\"{}^ {}\".format(p + 1, q + 1)) + of.FermionOperator(\"{}^ {}\".format(q + 1, p + 1))\n",
    "                    O += ferm_op\n",
    "                    O += of.hermitian_conjugated(ferm_op)\n",
    "                    killer += (1 + np.random.rand()) * const * O * (Ne - e_nums[i])\n",
    "                    tmp += 1\n",
    "        killer += t * (1 + np.random.rand()) * const * ((Ne - e_nums[i]) ** 2)\n",
    "    return killer\n",
    "\n",
    "def construct_orbs(key: str):\n",
    "#     Contruct k from the given key\n",
    "    count = 0\n",
    "    lis = key.split(\"-\")\n",
    "    k = []\n",
    "    for i in lis:\n",
    "        tmp = int(i)\n",
    "        k.append(list(range(count, count + tmp)))\n",
    "        count += tmp\n",
    "    return k\n",
    "\n",
    "def construct_Hamiltonian_with_solution(path, file_name,dic_key):\n",
    "    with open(path + file_name, 'rb') as handle:\n",
    "        dic_temp = pickle.load(handle)\n",
    "        dic = dic_temp[dic_key]\n",
    "\n",
    "    print(dic.keys())\n",
    "    cas_x = dic[\"cas_x\"]\n",
    "    killer = dic[\"killer\"]\n",
    "    k = dic[\"k\"]\n",
    "    upnum = dic[\"upnum\"]\n",
    "    spin_orbs = dic[\"spin_orbs\"]\n",
    "#     CAS 2e tensor\n",
    "    tbt = csau.get_cas_matrix(cas_x, spin_orbs, k)\n",
    "#     Construct hidden 2e tensor and Hamiltonian\n",
    "    killer_tbt = feru.get_chemist_tbt(killer, spin_orbs, spin_orb = True)\n",
    "    killer_one_body = of.normal_ordered(killer - feru.get_ferm_op(killer_tbt, spin_orb=True))\n",
    "    killer_onebody_matrix = feru.get_obt(killer_one_body, n = spin_orbs, spin_orb = True)\n",
    "    killer_onebody_tbt = feru.onebody_to_twobody(killer_onebody_matrix)\n",
    "    Htbt_killer = np.add(Htbt, killer_onebody_tbt) \n",
    "    Htbt_with_killer = np.add(tbt, Htbt_killer)\n",
    "#     Set up random unitary to hide 2e tensor\n",
    "    # random_uparams = np.random.rand(upnum)\n",
    "    U = construct_random_sz_unitary(spin_orbs)\n",
    "#     Hide 2e etensor with random unitary transformation\n",
    "    Htbt_hidden = csau.cartan_orbtransf(Htbt_with_killer, U, complex = False)\n",
    "#     Hidden 2e tensor without killer\n",
    "    tbt_hidden = csau.cartan_orbtransf(tbt, U, complex = False)\n",
    "    return tbt, tbt_hidden, Htbt_with_killer, Htbt_hidden"
   ],
   "outputs": [],
   "execution_count": 26
  },
  {
   "metadata": {
    "ExecuteTime": {
     "end_time": "2024-05-02T15:31:35.753404Z",
     "start_time": "2024-05-02T15:31:35.750605Z"
    }
   },
   "cell_type": "code",
   "source": "print(os. getcwd())",
   "id": "e1cfeba255d37489",
   "outputs": [
    {
     "name": "stdout",
     "output_type": "stream",
     "text": [
      "/Users/rick/planted_solutions/planted_solutions/CAS_Cropping\n"
     ]
    }
   ],
   "execution_count": 27
  },
  {
   "cell_type": "code",
   "id": "fd90a36e",
   "metadata": {
    "ExecuteTime": {
     "end_time": "2024-05-02T15:31:36.407676Z",
     "start_time": "2024-05-02T15:31:36.402663Z"
    }
   },
   "source": [
    "\"\"\"\n",
    "Tensor check functions\n",
    "\"\"\"\n",
    "\n",
    "def check_for_incorrect_spin_terms(tbt_to_check):\n",
    "    num_incorrect_terms = 0\n",
    "    #Check no incorrect spin terms present\n",
    "    num_spin_orbitals = tbt_to_check.shape[0]\n",
    "    no_incorrect_terms = True\n",
    "    for piter in range(num_spin_orbitals):\n",
    "        for qiter in range(num_spin_orbitals):\n",
    "            for riter in range(num_spin_orbitals):\n",
    "                for siter in range(num_spin_orbitals):\n",
    "                    if piter % 2 == 0 and qiter % 2 == 0 and riter % 2 == 0 and siter % 2 == 0:\n",
    "                        continue\n",
    "                    if piter % 2 == 1 and qiter % 2 == 1 and riter % 2 == 1 and siter % 2 == 1:\n",
    "                        continue\n",
    "                    if piter % 2 == 0 and qiter % 2 == 0 and riter % 2 == 1 and siter % 2 == 1:\n",
    "                        continue\n",
    "                    if piter % 2 == 1 and qiter % 2 == 1 and riter % 2 == 0 and siter % 2 == 0:\n",
    "                        continue\n",
    "                    if not np.isclose(tbt_to_check[piter, qiter, riter, siter], 0.0):\n",
    "                        # print(f\"Incorrect spin term present in two body tensor at indices {piter}, {qiter}, {riter}, {siter}: {tbt_to_check[piter, qiter, riter, siter]}\")\n",
    "                        no_incorrect_terms = False\n",
    "                        num_incorrect_terms += 1\n",
    "\n",
    "    return no_incorrect_terms, num_incorrect_terms\n",
    "\n",
    "def check_tbt(tbt_to_check):\n",
    "    num_spin_orbitals = tbt_to_check.shape[0]\n",
    "    dummy_obt = np.zeros((num_spin_orbitals, num_spin_orbitals))\n",
    "    no_incorrect_terms, num_incorrect_terms = check_for_incorrect_spin_terms(tbt_to_check)\n",
    "    print(f\"No incorrect spin terms present: {no_incorrect_terms}\")\n",
    "    print(f\"Number of incorrect terms: {num_incorrect_terms}\")\n",
    "\n",
    "    spin_symm_check_passed = dmrghandler.dmrg_calc_prepare.check_spin_symmetry(one_body_tensor=dummy_obt, two_body_tensor=tbt_to_check)\n",
    "    print(f\"Spin symmetry check passed: {spin_symm_check_passed}\")\n",
    "\n",
    "    permutation_symmetries_complex_orbitals_check_passed = dmrghandler.dmrg_calc_prepare.check_permutation_symmetries_complex_orbitals(\n",
    "        dummy_obt, tbt_to_check\n",
    "    )\n",
    "    print(f\"Permutation symmetries complex orbitals check passed: {permutation_symmetries_complex_orbitals_check_passed}\")\n",
    "\n",
    "    permutation_symmetries_real_orbitals_check_passed = dmrghandler.dmrg_calc_prepare.check_permutation_symmetries_real_orbitals(\n",
    "        dummy_obt, tbt_to_check\n",
    "    )\n",
    "    print(f\"Permutation symmetries real orbitals check passed: {permutation_symmetries_real_orbitals_check_passed}\")"
   ],
   "outputs": [],
   "execution_count": 28
  },
  {
   "cell_type": "code",
   "id": "bbaddd2b",
   "metadata": {
    "ExecuteTime": {
     "end_time": "2024-05-02T15:31:37.046277Z",
     "start_time": "2024-05-02T15:31:37.042466Z"
    }
   },
   "source": [
    "\"\"\"\n",
    "Tensor Conversion functions\n",
    "\"\"\"\n",
    "def chem_to_physicist_notation_spin_orbitals(tbt_local):\n",
    "    # Assume tbt_local is defined such that\n",
    "    # H = γ_PQRS a†_P a_Q a†_R a_S\n",
    "    # PQRS are spin-orbitals\n",
    "\n",
    "    # Output tensors assume H = H_PQ a†_P a_Q + 0.5*G_PQRS a†_P a†_R a_S a_Q\n",
    "\n",
    "    num_spin_orbitals = tbt_local.shape[0]\n",
    "    num_ortbitals = num_spin_orbitals // 2\n",
    "\n",
    "    G_PQRS = 2*tbt_local.copy()\n",
    "\n",
    "    H_PQ = np.zeros((num_spin_orbitals, num_spin_orbitals))\n",
    "    for p in range(num_spin_orbitals):\n",
    "        for q in range(num_spin_orbitals):\n",
    "            for r in range(num_spin_orbitals):\n",
    "                H_PQ[p, q] += 0.5*G_PQRS[p, r, r, q]\n",
    "\n",
    "    return H_PQ, G_PQRS\n",
    "\n",
    "def chem_spin_orb_to_phys_spatial_orb(tbt_local):\n",
    "    # Assume tbt_local is defined such that\n",
    "    # H = γ_PQRS a†_P a_Q a†_R a_S\n",
    "    # PQRS are spin-orbitals\n",
    "\n",
    "    # Output tensors assume H = H_ij a†_i a_j + 0.5*G_ijkl a†_i a†_k a_l a_j, \n",
    "    # `ijkl` refer to *spatial* orbitals\n",
    "\n",
    "\n",
    "    #First, convert to physicist notation with spin-orbitals\n",
    "    H_PQ, G_PQRS = chem_to_physicist_notation_spin_orbitals(tbt_local)\n",
    "\n",
    "    \n",
    "    (H_ij, \n",
    "    G_ijkl, \n",
    "    spin_symm_broken) = dmrghandler.dmrg_calc_prepare.spinorbitals_to_orbitals(one_body_tensor=H_PQ, \n",
    "                                                                                two_body_tensor=G_PQRS)\n",
    "    print(f\"Spin symmetry broken: {spin_symm_broken}\")                                                                                \n",
    "    return H_ij, G_ijkl\n"
   ],
   "outputs": [],
   "execution_count": 29
  },
  {
   "cell_type": "markdown",
   "id": "cf41c78a",
   "metadata": {},
   "source": "## Step 1. Load FCIDUMP file for a catalyst"
  },
  {
   "cell_type": "code",
   "id": "7efc679a",
   "metadata": {
    "ExecuteTime": {
     "end_time": "2024-05-02T15:31:38.160780Z",
     "start_time": "2024-05-02T15:31:38.149600Z"
    }
   },
   "source": [
    "\n",
    "(\n",
    "one_body_tensor,\n",
    "two_body_tensor,\n",
    "nuc_rep_energy,\n",
    "num_orbitals,\n",
    "num_spin_orbitals,\n",
    "num_electrons,\n",
    "two_S,\n",
    "two_Sz,\n",
    "orb_sym,\n",
    "extra_attributes,\n",
    ") = dmrghandler.dmrg_calc_prepare.load_tensors_from_fcidump(data_file_path=Path(fcidump_path)/Path(fcidump_filename), molpro_orbsym_convention=True)\n",
    "\n",
    "spin_orbs = 2*num_orbitals\n",
    "spatial_orbs = num_orbitals\n",
    "\n",
    "print(f\"Number of spin orbitals: {spin_orbs}\")\n",
    "\n",
    "h_ij = one_body_tensor\n",
    "g_ijkl = two_body_tensor\n",
    "# Hamiltonian assumed is `H = E_0 + h_ij a†_i a_j + 0.5*g_ijkl a†_i a†_k a_l a_j`, `ijkl` refer to *spatial* orbitals"
   ],
   "outputs": [
    {
     "name": "stdout",
     "output_type": "stream",
     "text": [
      "Parsing fcidumps_catalysts/fcidump.2_co2_6-311++G__\n",
      "Number of spin orbitals: 12\n"
     ]
    }
   ],
   "execution_count": 30
  },
  {
   "cell_type": "markdown",
   "id": "22bf41ca",
   "metadata": {},
   "source": [
    "## Step 2. Combine one body tensor `h_ij` with two body tensor `g_ijkl` to get combined two body tensor `Γ_pqrs,στ`"
   ]
  },
  {
   "cell_type": "code",
   "id": "32c33ede",
   "metadata": {
    "ExecuteTime": {
     "end_time": "2024-05-02T15:31:39.412968Z",
     "start_time": "2024-05-02T15:31:39.401054Z"
    }
   },
   "source": [
    "one_body_tensor_corrected = h_ij - 0.5*np.einsum(\"prrq->pq\",g_ijkl) \n",
    "\n",
    "Λ_αα = feru.onebody_to_twobody(one_body_tensor_corrected)\n",
    "Λ_ββ = Λ_αα\n",
    "g_pqrs = g_ijkl\n",
    "\n",
    "# Γ_pqrs,στ:\n",
    "Γ_pqrsαα  = 2 * Λ_αα + g_pqrs\n",
    "Γ_pqrsββ = 2 * Λ_ββ + g_pqrs\n",
    "Γ_pqrsαβ = g_pqrs\n",
    "Γ_pqrsβα = g_pqrs\n",
    "\n",
    "#`H = 0.5*Γ_pqrs,στ a†_pσ a_qσ a†_rτ a_sτ = Γ_PQRS a†_P a_Q a†_R a_S`, \n",
    "# `PQRS` refer to *spin* orbitals\n",
    "\n"
   ],
   "outputs": [],
   "execution_count": 31
  },
  {
   "cell_type": "markdown",
   "id": "84bbc3f2",
   "metadata": {},
   "source": [
    "## Step 3. Symmetrize combined two body tensor `γ_pqrs,στ`"
   ]
  },
  {
   "cell_type": "code",
   "id": "51c5ff7c",
   "metadata": {
    "ExecuteTime": {
     "end_time": "2024-05-02T15:31:40.433156Z",
     "start_time": "2024-05-02T15:31:40.424703Z"
    }
   },
   "source": [
    "\n",
    "γ_pqrs = 0.5*(Γ_pqrsαα  + Γ_pqrsββ + Γ_pqrsαβ + Γ_pqrsβα) / 4\n",
    "\n",
    "# Eliminate small values\n",
    "γ_pqrs[np.abs(γ_pqrs) < tol2] = 0\n",
    "print(np.min(np.abs(γ_pqrs)))\n",
    "\n",
    "γ_pqrsστ = dmrghandler.pyscf_wrappers.two_body_tensor_orbital_to_spin_orbital(γ_pqrs)\n",
    "# Hamiltonian assumed is `H = γ_pqrs,στ a†_pσ a_qσ a†_rτ a_sτ = γ_PQRS a†_P a_Q a†_R a_S`, `PQRS` refer to *spin* orbitals\n"
   ],
   "outputs": [
    {
     "name": "stdout",
     "output_type": "stream",
     "text": [
      "0.0\n"
     ]
    }
   ],
   "execution_count": 32
  },
  {
   "cell_type": "code",
   "id": "2d8380e1",
   "metadata": {
    "ExecuteTime": {
     "end_time": "2024-05-02T15:31:45.212690Z",
     "start_time": "2024-05-02T15:31:41.323829Z"
    }
   },
   "source": [
    "# Verify properties of γ_pqrsστ\n",
    "check_tbt(γ_pqrsστ)"
   ],
   "outputs": [
    {
     "name": "stdout",
     "output_type": "stream",
     "text": [
      "No incorrect spin terms present: True\n",
      "Number of incorrect terms: 0\n",
      "Spin symmetry check passed: True\n",
      "Permutation symmetries complex orbitals check passed: True\n",
      "Permutation symmetries real orbitals check passed: True\n"
     ]
    }
   ],
   "execution_count": 33
  },
  {
   "cell_type": "markdown",
   "id": "a8e0bd75",
   "metadata": {},
   "source": [
    "## Step 4. Obtain CAS-cropped planted solution two body tensor `tbt_1`"
   ]
  },
  {
   "cell_type": "code",
   "id": "09b649b4",
   "metadata": {
    "ExecuteTime": {
     "end_time": "2024-05-02T15:31:45.219860Z",
     "start_time": "2024-05-02T15:31:45.214712Z"
    }
   },
   "source": [
    "Htbt = γ_pqrsστ\n",
    "\n",
    "k = construct_blocks(block_size, spin_orbs)\n",
    "print(f\"orbital splliting: {k}\")\n",
    "upnum, casnum, pnum = csau.get_param_num(spin_orbs, k, complex = False)\n",
    "\n",
    "cas_tbt, cas_x = get_truncated_cas_tbt(Htbt, k, casnum)\n",
    "tbt_1_orig = copy.deepcopy(cas_tbt)\n"
   ],
   "outputs": [
    {
     "name": "stdout",
     "output_type": "stream",
     "text": [
      "orbital splliting: [[0, 1, 2, 3, 4, 5], [6, 7, 8, 9, 10, 11]]\n"
     ]
    }
   ],
   "execution_count": 34
  },
  {
   "cell_type": "code",
   "id": "25d610a7",
   "metadata": {
    "ExecuteTime": {
     "end_time": "2024-05-02T15:31:50.784174Z",
     "start_time": "2024-05-02T15:31:46.232657Z"
    }
   },
   "source": [
    "# Verify properties of tbt_1\n",
    "check_tbt(tbt_1_orig)"
   ],
   "outputs": [
    {
     "name": "stdout",
     "output_type": "stream",
     "text": [
      "No incorrect spin terms present: True\n",
      "Number of incorrect terms: 0\n",
      "Spin symmetry check passed: True\n",
      "Permutation symmetries complex orbitals check passed: True\n",
      "Permutation symmetries real orbitals check passed: True\n"
     ]
    }
   ],
   "execution_count": 35
  },
  {
   "cell_type": "markdown",
   "id": "f1457c93",
   "metadata": {},
   "source": [
    "## Step 5. Add balance operators (controls number of electrons in each block) to get `tbt_2`"
   ]
  },
  {
   "cell_type": "code",
   "id": "32d9057c",
   "metadata": {
    "ExecuteTime": {
     "end_time": "2024-05-02T15:31:50.937463Z",
     "start_time": "2024-05-02T15:31:50.786119Z"
    }
   },
   "source": [
    "\n",
    "# cas_tbt_tmp = copy.deepcopy(cas_tbt)\n",
    "e_nums, states, E_cas = solve_enums(cas_tbt, k, ne_per_block = ne_per_block,\n",
    "                                    ne_range = ne_range, balance_t = balance_strength)\n",
    "# assert np.allclose(cas_tbt_tmp, cas_tbt), \"changed\"\n",
    "print(f\"e_nums:{e_nums}\")\n",
    "print(f\"E_cas: {E_cas}\")\n",
    "sd_sol = sdstate()\n",
    "tbt_2 = copy.deepcopy(cas_tbt)\n",
    "\n"
   ],
   "outputs": [
    {
     "name": "stdout",
     "output_type": "stream",
     "text": [
      "Ne within current block: 4\n",
      "E_min: -83.01812288016492 for orbs: [0, 1, 2, 3, 4, 5]\n",
      "current state Energy: -83.01812288016467\n",
      "Ne within current block: 4\n",
      "E_min: -73.26716319673902 for orbs: [6, 7, 8, 9, 10, 11]\n",
      "current state Energy: -73.26716319673895\n",
      "e_nums:[4, 4]\n",
      "E_cas: -156.28528607690362\n"
     ]
    }
   ],
   "execution_count": 36
  },
  {
   "cell_type": "code",
   "id": "b3d76a3a",
   "metadata": {
    "ExecuteTime": {
     "end_time": "2024-05-02T15:31:54.847020Z",
     "start_time": "2024-05-02T15:31:50.938301Z"
    }
   },
   "source": [
    "# Verify properties of tbt_2\n",
    "check_tbt(tbt_2)"
   ],
   "outputs": [
    {
     "name": "stdout",
     "output_type": "stream",
     "text": [
      "No incorrect spin terms present: True\n",
      "Number of incorrect terms: 0\n",
      "Spin symmetry check passed: True\n",
      "Permutation symmetries complex orbitals check passed: True\n",
      "Permutation symmetries real orbitals check passed: True\n"
     ]
    }
   ],
   "execution_count": 37
  },
  {
   "cell_type": "code",
   "id": "b745ae6a",
   "metadata": {
    "ExecuteTime": {
     "end_time": "2024-05-02T15:31:58.617448Z",
     "start_time": "2024-05-02T15:31:54.849101Z"
    }
   },
   "source": [
    "\n",
    "# The following code segment checks the state energy for the full Hamiltonian, takes exponential space \n",
    "# and time with respect to the number of blocks\n",
    "#     E_sol = sd_sol.exp(cas_tbt)\n",
    "#     print(f\"Double check ground state energy: {E_sol}\")\n",
    "\n",
    "# Checking ground state with FCI\n",
    "# Warning: This takes exponential time to run\n",
    "#     Checking H_cas symmetries\n",
    "if check_symmetry or FCI:\n",
    "    H_cas = feru.get_ferm_op(cas_tbt, True)\n",
    "    # print(f\"Hamiltonian: {H_cas}\")\n",
    "if check_symmetry:\n",
    "    Sz = of.hamiltonians.sz_operator(spatial_orbs)\n",
    "    S2 = of.hamiltonians.s_squared_operator(spatial_orbs)\n",
    "    # print(f\"Sz: {Sz}\")\n",
    "    # print(f\"S2: {S2}\")\n",
    "    assert of.FermionOperator.zero() == of.normal_ordered(of.commutator(Sz, H_cas)), \"Sz symmetry broken\"\n",
    "    assert of.FermionOperator.zero() == of.normal_ordered(of.commutator(S2, H_cas)), f\"S2 symmetry broken: {of.normal_ordered(of.commutator(S2, H_cas))}\"\n",
    "\n",
    "if FCI:\n",
    "    E_min, sol = of.get_ground_state(of.get_sparse_operator(H_cas))\n",
    "\n",
    "    E_min2, sol2 = of.get_ground_state(of.get_number_preserving_sparse_operator(\n",
    "                                    fermion_op=H_cas,\n",
    "                                    num_qubits=spin_orbs,\n",
    "                                    num_electrons=sum(e_nums),\n",
    "                                    spin_preserving=True,\n",
    "                                    reference_determinant=None,\n",
    "                                    excitation_level=None\n",
    "                                    ))\n",
    "    FCI_energy_for_comparison = E_min\n",
    "    print(f\"FCI Energy: {E_min}\")\n",
    "    print(f\"FCI Energy, specified electrons, spin preserving (usually singlet): {E_min2}\")\n",
    "    tmp_st = sdstate(n_qubit = spin_orbs)\n",
    "    for s in range(len(sol)):\n",
    "        if sol[s] > np.finfo(np.float32).eps:\n",
    "            tmp_st += sdstate(s, sol[s])\n",
    "    #         print(bin(s))\n",
    "    print(tmp_st.norm())\n",
    "    tmp_st.normalize()\n",
    "    print(tmp_st.exp(H_cas))\n"
   ],
   "outputs": [
    {
     "name": "stdout",
     "output_type": "stream",
     "text": [
      "FCI Energy: -156.2852860769045\n",
      "FCI Energy, specified electrons, spin preserving (usually singlet): -156.2852860769034\n",
      "(0.3835245793489647+0j)\n",
      "-153.07526805716253\n"
     ]
    }
   ],
   "execution_count": 38
  },
  {
   "cell_type": "markdown",
   "id": "77ad3703",
   "metadata": {},
   "source": [
    "## Step 6. Generate killer operator `K`"
   ]
  },
  {
   "metadata": {
    "ExecuteTime": {
     "end_time": "2024-05-02T15:31:58.638065Z",
     "start_time": "2024-05-02T15:31:58.628853Z"
    }
   },
   "cell_type": "code",
   "source": "print(e_nums)",
   "id": "d18fdf62287d430f",
   "outputs": [
    {
     "name": "stdout",
     "output_type": "stream",
     "text": [
      "[4, 4]\n"
     ]
    }
   ],
   "execution_count": 39
  },
  {
   "cell_type": "code",
   "id": "c5c48328",
   "metadata": {
    "ExecuteTime": {
     "end_time": "2024-05-02T15:32:00.383036Z",
     "start_time": "2024-05-02T15:32:00.373049Z"
    }
   },
   "source": [
    "\n",
    "cas_killer = construct_killer(k, e_nums, n = spin_orbs, n_killer = n_killer)\n"
   ],
   "outputs": [],
   "execution_count": 40
  },
  {
   "cell_type": "code",
   "id": "cda50831",
   "metadata": {
    "ExecuteTime": {
     "end_time": "2024-05-02T15:32:03.871054Z",
     "start_time": "2024-05-02T15:32:01.205806Z"
    }
   },
   "source": [
    "#Checks of cas_killer\n",
    "if check_symmetry:\n",
    "    assert of.FermionOperator.zero() == of.normal_ordered(of.commutator(Sz, cas_killer)), \"Killer broke Sz symmetry\"\n",
    "    assert of.FermionOperator.zero() == of.normal_ordered(of.commutator(S2, cas_killer)), \"S2 symmetry broken\"\n",
    "\n",
    "# Checking: if FCI of killer gives same result. Warning; takes exponential time \n",
    "if FCI:\n",
    "    sparse_with_killer = of.get_sparse_operator(cas_killer + H_cas)\n",
    "    killer_Emin, killer_sol = of.get_ground_state(sparse_with_killer)\n",
    "    print(f\"FCI Energy solution with killer: {killer_Emin}\")\n",
    "\n",
    "    sparse_with_killer2 = of.get_number_preserving_sparse_operator(\n",
    "                                fermion_op=(cas_killer + H_cas),\n",
    "                                num_qubits=spin_orbs,\n",
    "                                num_electrons=sum(e_nums),\n",
    "                                spin_preserving=True,\n",
    "                                reference_determinant=None,\n",
    "                                excitation_level=None\n",
    "                                )\n",
    "    killer_Emin2, killer_sol2 = of.get_ground_state(sparse_with_killer2)\n",
    "    print(f\"FCI Energy solution with killer, specified electrons, spin preserving (usually singlet): {killer_Emin2}\")\n",
    "\n",
    "    sd_Emin = sd_sol.exp(cas_tbt) + sd_sol.exp(cas_killer)\n",
    "    print(f\"sd_Emin: {sd_Emin} \")\n",
    "    print(f\"difference with CAS energy: {sd_Emin - killer_Emin}\")\n",
    "\n",
    "# Checking: if killer does not change ground state\n",
    "    #         killer_error = sd_sol.exp(cas_killer)\n",
    "    #         print(f\"Solution Energy shift by killer: {killer_error}\")\n",
    "        #     killer_E_sol = sd_sol.exp(H_cas + cas_killer)\n",
    "        #     print(f\"Solution Energy with killer: {killer_E_sol}\")\n"
   ],
   "outputs": [
    {
     "name": "stdout",
     "output_type": "stream",
     "text": [
      "FCI Energy solution with killer: -156.2852860769032\n",
      "FCI Energy solution with killer, specified electrons, spin preserving (usually singlet): -156.2852860769035\n",
      "sd_Emin: 0 \n",
      "difference with CAS energy: 156.2852860769032\n"
     ]
    }
   ],
   "execution_count": 41
  },
  {
   "cell_type": "markdown",
   "id": "95775800",
   "metadata": {},
   "source": [
    "## Step 7. Save planted solution to `.pkl` file"
   ]
  },
  {
   "cell_type": "code",
   "id": "e2f28211",
   "metadata": {
    "ExecuteTime": {
     "end_time": "2024-05-02T15:32:05.101830Z",
     "start_time": "2024-05-02T15:32:05.058994Z"
    }
   },
   "source": [
    "\n",
    "planted_sol = {}\n",
    "planted_sol[\"E_min\"] = E_cas\n",
    "planted_sol[\"e_nums\"] = e_nums\n",
    "planted_sol[\"sol\"] = sd_sol\n",
    "planted_sol[\"killer\"] = cas_killer\n",
    "planted_sol[\"cas_x\"] = cas_x\n",
    "planted_sol[\"k\"] = k\n",
    "planted_sol[\"casnum\"] = casnum\n",
    "planted_sol[\"pnum\"] = pnum\n",
    "planted_sol[\"upnum\"] = upnum\n",
    "planted_sol[\"spin_orbs\"] = spin_orbs\n",
    "# print(planted_sol)\n",
    "ps_path = \"planted_solutions/\"\n",
    "f_name = fcidump_filename.split(\".\")[1] + \".pkl\"\n",
    "print(ps_path +f_name)\n",
    "\n",
    "l = list(map(len, k))\n",
    "l = list(map(str, l))\n",
    "key = \"-\".join(l)\n",
    "print(key)\n",
    "if os.path.exists(ps_path + f_name):\n",
    "    with open(ps_path + f_name, 'rb') as handle:\n",
    "        dic = pickle.load(handle)\n",
    "else:\n",
    "    dic = {}\n",
    "\n",
    "with open(ps_path + f_name, 'wb') as handle:\n",
    "    dic[key] = planted_sol\n",
    "    pickle.dump(dic, handle, protocol=pickle.HIGHEST_PROTOCOL)\n",
    "\n",
    "\n"
   ],
   "outputs": [
    {
     "name": "stdout",
     "output_type": "stream",
     "text": [
      "planted_solutions/2_co2_6-311++G__.pkl\n",
      "6-6\n"
     ]
    }
   ],
   "execution_count": 42
  },
  {
   "cell_type": "markdown",
   "id": "9301251f",
   "metadata": {},
   "source": [
    "## Step 8. Use `construct_Hamiltonian_with_solution` to load `.pkl` file and produce `tbt_1`, `tbt_1_hidden`, `tbt_3`, `tbt_3_hidden`"
   ]
  },
  {
   "cell_type": "code",
   "id": "478cf063",
   "metadata": {
    "ExecuteTime": {
     "end_time": "2024-05-02T15:32:08.767287Z",
     "start_time": "2024-05-02T15:32:08.697926Z"
    }
   },
   "source": [
    "tbt_1, tbt_1_hidden, tbt_3, tbt_3_hidden = construct_Hamiltonian_with_solution(\n",
    "    path=\"planted_solutions/\", file_name=\"2_co2_6-311++G__.pkl\", dic_key=\"6-6\"\n",
    ")"
   ],
   "outputs": [
    {
     "name": "stdout",
     "output_type": "stream",
     "text": [
      "dict_keys(['E_min', 'e_nums', 'sol', 'killer', 'cas_x', 'k', 'casnum', 'pnum', 'upnum', 'spin_orbs'])\n"
     ]
    }
   ],
   "execution_count": 43
  },
  {
   "cell_type": "code",
   "id": "32518048",
   "metadata": {
    "ExecuteTime": {
     "end_time": "2024-05-02T15:32:14.467899Z",
     "start_time": "2024-05-02T15:32:09.961710Z"
    }
   },
   "source": [
    "# Verify properties of tbt_1\n",
    "check_tbt(tbt_1)"
   ],
   "outputs": [
    {
     "name": "stdout",
     "output_type": "stream",
     "text": [
      "No incorrect spin terms present: True\n",
      "Number of incorrect terms: 0\n",
      "Spin symmetry check passed: True\n",
      "Permutation symmetries complex orbitals check passed: True\n",
      "Permutation symmetries real orbitals check passed: True\n"
     ]
    }
   ],
   "execution_count": 44
  },
  {
   "cell_type": "code",
   "id": "142763db",
   "metadata": {
    "ExecuteTime": {
     "end_time": "2024-05-02T15:32:17.888616Z",
     "start_time": "2024-05-02T15:32:14.470322Z"
    }
   },
   "source": [
    "# Verify properties of tbt_1_hidden\n",
    "check_tbt(tbt_1_hidden)"
   ],
   "outputs": [
    {
     "name": "stdout",
     "output_type": "stream",
     "text": [
      "No incorrect spin terms present: True\n",
      "Number of incorrect terms: 0\n",
      "Spin symmetry check passed: True\n",
      "Permutation symmetries complex orbitals check passed: True\n",
      "Permutation symmetries real orbitals check passed: True\n"
     ]
    }
   ],
   "execution_count": 45
  },
  {
   "cell_type": "code",
   "id": "92dba3ac",
   "metadata": {
    "ExecuteTime": {
     "end_time": "2024-05-01T17:47:53.165030Z",
     "start_time": "2024-05-01T17:47:47.355101Z"
    }
   },
   "source": [
    "# Verify properties of tbt_3\n",
    "check_tbt(tbt_3)"
   ],
   "outputs": [
    {
     "name": "stdout",
     "output_type": "stream",
     "text": [
      "No incorrect spin terms present: False\n",
      "Number of incorrect terms: 15500\n",
      "Spin symmetry check passed: True\n",
      "Permutation symmetries complex orbitals check passed: True\n",
      "Permutation symmetries real orbitals check passed: True\n"
     ]
    }
   ],
   "execution_count": 145
  },
  {
   "cell_type": "code",
   "id": "d4ea143b",
   "metadata": {
    "ExecuteTime": {
     "end_time": "2024-05-01T17:47:58.894330Z",
     "start_time": "2024-05-01T17:47:53.166721Z"
    }
   },
   "source": [
    "# Verify properties of tbt_3_hidden\n",
    "check_tbt(tbt_3_hidden)"
   ],
   "outputs": [
    {
     "name": "stdout",
     "output_type": "stream",
     "text": [
      "No incorrect spin terms present: False\n",
      "Number of incorrect terms: 28812\n",
      "Spin symmetry check passed: True\n",
      "Permutation symmetries complex orbitals check passed: True\n",
      "Permutation symmetries real orbitals check passed: True\n"
     ]
    }
   ],
   "execution_count": 146
  },
  {
   "cell_type": "code",
   "id": "c4669f94",
   "metadata": {
    "ExecuteTime": {
     "end_time": "2024-05-01T17:47:58.901186Z",
     "start_time": "2024-05-01T17:47:58.896363Z"
    }
   },
   "source": [
    "# Demonstrate tbt_1_orig and tbt_1 are the same\n",
    "print(np.max(np.abs(tbt_1_orig-tbt_1)))"
   ],
   "outputs": [
    {
     "name": "stdout",
     "output_type": "stream",
     "text": [
      "0.0\n"
     ]
    }
   ],
   "execution_count": 147
  },
  {
   "cell_type": "code",
   "id": "14870ce1",
   "metadata": {
    "ExecuteTime": {
     "end_time": "2024-05-01T17:47:58.905408Z",
     "start_time": "2024-05-01T17:47:58.901962Z"
    }
   },
   "source": [
    "# Demonstrate tbt_1 and tbt_2 are different\n",
    "print(np.max(np.abs(tbt_1-tbt_2)))"
   ],
   "outputs": [
    {
     "name": "stdout",
     "output_type": "stream",
     "text": [
      "120.33451575015317\n"
     ]
    }
   ],
   "execution_count": 148
  },
  {
   "cell_type": "markdown",
   "id": "406c9910",
   "metadata": {},
   "source": [
    "### Step 8b - Show DMRG results match FCI for spin-orbital case with tbt_2"
   ]
  },
  {
   "cell_type": "code",
   "id": "5878be4a",
   "metadata": {
    "ExecuteTime": {
     "end_time": "2024-05-02T15:32:19.963076Z",
     "start_time": "2024-05-02T15:32:19.514359Z"
    }
   },
   "source": [
    "if FCI:\n",
    "    obt_to_use, tbt_to_use = chem_to_physicist_notation_spin_orbitals(tbt_2)\n",
    "    num_spin_orbitals = tbt_to_use.shape[0]\n",
    "    num_orbitals = num_spin_orbitals // 2\n",
    "    num_electrons = sum(e_nums)\n",
    "    num_unpaired_electrons = 0\n",
    "    # multiplicity = num_unpaired_electrons + 1\n",
    "    nuc_rep_energy=0\n",
    "    init_state_bond_dimension= 100\n",
    "    max_num_sweeps=20\n",
    "    \n",
    "    print(f\"# of electrons: {sum(e_nums)}\")\n",
    "    print(f\"Shape of obt: {obt_to_use.shape}\")\n",
    "\n",
    "    sweep_schedule_bond_dims = [init_state_bond_dimension] * 4 + [\n",
    "        init_state_bond_dimension\n",
    "    ] * 4\n",
    "    sweep_schedule_noise = [1e-4] * 4 + [1e-5] * 4 + [0]\n",
    "    sweep_schedule_davidson_threshold = [1e-10] * 8\n",
    "    energy_convergence_threshold = 1e-8\n",
    "\n",
    "    dmrg_parameters = {\n",
    "                \"factor_half_convention\": True,\n",
    "                \"symmetry_type\": \"SGF\",\n",
    "                \"num_threads\": 1,\n",
    "                \"n_mkl_threads\": 1,\n",
    "                \"num_orbitals\": 2*num_orbitals, # Extra 2 necessary for SGF\n",
    "                \"num_spin_orbitals\": 2*num_spin_orbitals, # Extra 2 necessary for SGF\n",
    "                \"num_electrons\": num_electrons,\n",
    "                \"two_S\": num_unpaired_electrons,\n",
    "                \"two_Sz\": num_unpaired_electrons,\n",
    "                \"orb_sym\": np.zeros(num_orbitals,dtype=np.int_).tolist(),\n",
    "                \"temp_dir\": \"./tests/temp\",\n",
    "                \"stack_mem\": 1073741824,\n",
    "                \"restart_dir\": \"./tests/restart\",\n",
    "                \"core_energy\": nuc_rep_energy,\n",
    "                \"reordering_method\": \"none\",\n",
    "                \"init_state_seed\": 64241,  # 0 means random seed\n",
    "                \"initial_mps_method\": \"random\",\n",
    "                \"init_state_bond_dimension\": init_state_bond_dimension,\n",
    "                \"occupancy_hint\": None,\n",
    "                \"full_fci_space_bool\": True,\n",
    "                \"init_state_direct_two_site_construction_bool\": False,\n",
    "                \"max_num_sweeps\": max_num_sweeps,\n",
    "                \"energy_convergence_threshold\": energy_convergence_threshold,\n",
    "                \"sweep_schedule_bond_dims\": sweep_schedule_bond_dims,\n",
    "                \"sweep_schedule_noise\": sweep_schedule_noise,\n",
    "                \"sweep_schedule_davidson_threshold\": sweep_schedule_davidson_threshold,\n",
    "                \"davidson_type\": None,  # Default is None, for \"Normal\"\n",
    "                \"eigenvalue_cutoff\": 1e-20,  # Cutoff of eigenvalues, default is 1e-20\n",
    "                \"davidson_max_iterations\": 4000,  # Default is 4000\n",
    "                \"davidson_max_krylov_subspace_size\": 50,  # Default is 50\n",
    "                \"lowmem_noise_bool\": False,  # Whether to use a lower memory version of the noise, default is False\n",
    "                \"sweep_start\": 0,  # Default is 0, where to start sweep\n",
    "                \"initial_sweep_direction\": None,  # Default is None, True means forward sweep (left-to-right)\n",
    "                \"stack_mem_ratio\": 0.8,  # Default is 0.4\n",
    "            }\n",
    "    dmrg_results_dict = dmrghandler.qchem_dmrg_calc.single_qchem_dmrg_calc(\n",
    "        one_body_tensor=obt_to_use,\n",
    "        two_body_tensor=tbt_to_use,\n",
    "        dmrg_parameters=dmrg_parameters,\n",
    "        verbosity=1,\n",
    "    )\n",
    "\n",
    "    dmrg_ground_state_energy = dmrg_results_dict[\"dmrg_ground_state_energy\"]"
   ],
   "outputs": [
    {
     "name": "stdout",
     "output_type": "stream",
     "text": [
      "# of electrons: 8\n",
      "Shape of obt: (12, 12)\n",
      "integral cutoff error =  0.0\n",
      "mpo terms =        222\n",
      "\n",
      "Build MPO | Nsites =    12 | Nterms =        222 | Algorithm = FastBIP | Cutoff = 1.00e-20\n",
      " Site =     0 /    12 .. Mmpo =     8 DW = 0.00e+00 NNZ =        8 SPT = 0.0000 Tmvc = 0.000 T = 0.001\n",
      " Site =     1 /    12 .. Mmpo =    20 DW = 0.00e+00 NNZ =       20 SPT = 0.8750 Tmvc = 0.000 T = 0.001\n",
      " Site =     2 /    12 .. Mmpo =    19 DW = 0.00e+00 NNZ =       44 SPT = 0.8842 Tmvc = 0.000 T = 0.001\n",
      " Site =     3 /    12 .. Mmpo =    12 DW = 0.00e+00 NNZ =       28 SPT = 0.8772 Tmvc = 0.000 T = 0.001\n",
      " Site =     4 /    12 .. Mmpo =     7 DW = 0.00e+00 NNZ =       12 SPT = 0.8571 Tmvc = 0.000 T = 0.001\n",
      " Site =     5 /    12 .. Mmpo =     2 DW = 0.00e+00 NNZ =        6 SPT = 0.5714 Tmvc = 0.000 T = 0.000\n",
      " Site =     6 /    12 .. Mmpo =     8 DW = 0.00e+00 NNZ =        5 SPT = 0.6875 Tmvc = 0.000 T = 0.001\n",
      " Site =     7 /    12 .. Mmpo =    22 DW = 0.00e+00 NNZ =       20 SPT = 0.8864 Tmvc = 0.000 T = 0.001\n",
      " Site =     8 /    12 .. Mmpo =    31 DW = 0.00e+00 NNZ =       57 SPT = 0.9164 Tmvc = 0.000 T = 0.001\n",
      " Site =     9 /    12 .. Mmpo =    22 DW = 0.00e+00 NNZ =       87 SPT = 0.8724 Tmvc = 0.000 T = 0.001\n",
      " Site =    10 /    12 .. Mmpo =     8 DW = 0.00e+00 NNZ =       25 SPT = 0.8580 Tmvc = 0.000 T = 0.000\n",
      " Site =    11 /    12 .. Mmpo =     1 DW = 0.00e+00 NNZ =        8 SPT = 0.0000 Tmvc = 0.000 T = 0.198\n",
      "Ttotal =      0.206 Tmvc-total = 0.000 MPO bond dimension =    31 MaxDW = 0.00e+00\n",
      "NNZ =          320 SIZE =         2614 SPT = 0.8776\n",
      "\n",
      "Rank =     0 Ttotal =      0.215 MPO method = FastBipartite bond dimension =      31 NNZ =          320 SIZE =         2614 SPT = 0.8776\n",
      "\n",
      "Sweep =    0 | Direction =  forward | Bond dimension =  100 | Noise =  1.00e-04 | Dav threshold =  1.00e-10\n",
      "Time elapsed =      0.026 | E =    -156.2852860769 | DW = 1.39e-20\n",
      "\n",
      "Sweep =    1 | Direction = backward | Bond dimension =  100 | Noise =  1.00e-04 | Dav threshold =  1.00e-10\n",
      "Time elapsed =      0.047 | E =    -156.2852860769 | DE = 0.00e+00 | DW = 4.25e-21\n",
      "\n",
      "Sweep =    2 | Direction =  forward | Bond dimension =  100 | Noise =  1.00e-04 | Dav threshold =  1.00e-10\n",
      "Time elapsed =      0.061 | E =    -156.2852860769 | DE = -5.68e-14 | DW = 1.57e-20\n",
      "\n",
      "Sweep =    3 | Direction = backward | Bond dimension =  100 | Noise =  1.00e-04 | Dav threshold =  1.00e-10\n",
      "Time elapsed =      0.075 | E =    -156.2852860769 | DE = -8.53e-14 | DW = 5.82e-21\n",
      "\n",
      "Sweep =    4 | Direction =  forward | Bond dimension =  100 | Noise =  1.00e-05 | Dav threshold =  1.00e-10\n",
      "Time elapsed =      0.090 | E =    -156.2852860769 | DE = 0.00e+00 | DW = 8.94e-21\n",
      "\n",
      "Sweep =    5 | Direction = backward | Bond dimension =  100 | Noise =  1.00e-05 | Dav threshold =  1.00e-10\n",
      "Time elapsed =      0.116 | E =    -156.2852860769 | DE = 1.14e-13 | DW = 6.54e-21\n",
      "\n",
      "Sweep =    6 | Direction =  forward | Bond dimension =  100 | Noise =  1.00e-05 | Dav threshold =  1.00e-10\n",
      "Time elapsed =      0.131 | E =    -156.2852860769 | DE = 2.84e-14 | DW = 1.23e-20\n",
      "\n",
      "Sweep =    7 | Direction = backward | Bond dimension =  100 | Noise =  1.00e-05 | Dav threshold =  1.00e-10\n",
      "Time elapsed =      0.145 | E =    -156.2852860769 | DE = 0.00e+00 | DW = 6.36e-21\n",
      "\n",
      "Sweep =    8 | Direction =  forward | Bond dimension =  100 | Noise =  0.00e+00 | Dav threshold =  1.00e-09\n",
      "Time elapsed =      0.166 | E =    -156.2852860769 | DE = -5.68e-14 | DW = 2.95e-21\n",
      "\n"
     ]
    }
   ],
   "execution_count": 46
  },
  {
   "metadata": {
    "ExecuteTime": {
     "end_time": "2024-05-02T15:32:24.687253Z",
     "start_time": "2024-05-02T15:32:24.672810Z"
    }
   },
   "cell_type": "code",
   "source": "print(f\"# unpaired electrons: {num_unpaired_electrons}\")",
   "id": "5afb33e1bb415c00",
   "outputs": [
    {
     "name": "stdout",
     "output_type": "stream",
     "text": [
      "# unpaired electrons: 0\n"
     ]
    }
   ],
   "execution_count": 47
  },
  {
   "cell_type": "code",
   "id": "b875e3eb",
   "metadata": {
    "ExecuteTime": {
     "end_time": "2024-05-02T15:32:25.413764Z",
     "start_time": "2024-05-02T15:32:25.411319Z"
    }
   },
   "source": [
    "# Compare FCI and DMRG energies\n",
    "if FCI:\n",
    "    print(\"Note: tbt_2 is tbt_1 plus the balance operators, and not returned by construct_Hamiltonian_with_solution\")\n",
    "    print(f\"FCI Energy, tbt_2: {FCI_energy_for_comparison}\")\n",
    "    print(f\"DMRG Energy, tbt_2: {dmrg_ground_state_energy}\")\n",
    "    print(f\"Energy difference: {FCI_energy_for_comparison - dmrg_ground_state_energy}\")"
   ],
   "outputs": [
    {
     "name": "stdout",
     "output_type": "stream",
     "text": [
      "Note: tbt_2 is tbt_1 plus the balance operators, and not returned by construct_Hamiltonian_with_solution\n",
      "FCI Energy, tbt_2: -156.2852860769045\n",
      "DMRG Energy, tbt_2: -156.28528607689995\n",
      "Energy difference: -4.547473508864641e-12\n"
     ]
    }
   ],
   "execution_count": 48
  },
  {
   "cell_type": "markdown",
   "id": "fdb0614b",
   "metadata": {},
   "source": [
    "## Step 9. Convert tensors from spin orbitals to spatial orbitals"
   ]
  },
  {
   "cell_type": "code",
   "id": "f94c313a",
   "metadata": {
    "ExecuteTime": {
     "end_time": "2024-05-02T15:32:29.399111Z",
     "start_time": "2024-05-02T15:32:28.056139Z"
    }
   },
   "source": [
    "tbt_1_H_ij, tbt_1_G_ijkl = chem_spin_orb_to_phys_spatial_orb(tbt_1)"
   ],
   "outputs": [
    {
     "name": "stdout",
     "output_type": "stream",
     "text": [
      "Spin symmetry broken: False\n"
     ]
    }
   ],
   "execution_count": 49
  },
  {
   "cell_type": "code",
   "id": "53c3929d",
   "metadata": {
    "ExecuteTime": {
     "end_time": "2024-05-02T15:32:31.177959Z",
     "start_time": "2024-05-02T15:32:29.401214Z"
    }
   },
   "source": [
    "tbt_1_hidden_H_ij, tbt_1_hidden_G_ijkl = chem_spin_orb_to_phys_spatial_orb(tbt_1_hidden)"
   ],
   "outputs": [
    {
     "name": "stdout",
     "output_type": "stream",
     "text": [
      "One body symmetry check failed.\n",
      "One body symmetry check failed.\n",
      "One body symmetry check failed.\n",
      "One body symmetry check failed.\n",
      "One body symmetry check failed.\n",
      "One body symmetry check failed.\n",
      "One body symmetry check failed.\n",
      "One body symmetry check failed.\n",
      "One body symmetry check failed.\n",
      "One body symmetry check failed.\n",
      "One body symmetry check failed.\n",
      "One body symmetry check failed.\n",
      "One body symmetry check failed.\n",
      "One body symmetry check failed.\n",
      "One body symmetry check failed.\n",
      "One body symmetry check failed.\n",
      "One body symmetry check failed.\n",
      "One body symmetry check failed.\n",
      "One body symmetry check failed.\n",
      "One body symmetry check failed.\n",
      "One body symmetry check failed.\n",
      "One body symmetry check failed.\n",
      "One body symmetry check failed.\n",
      "One body symmetry check failed.\n",
      "One body symmetry check failed.\n",
      "One body symmetry check failed.\n",
      "One body symmetry check failed.\n",
      "One body symmetry check failed.\n",
      "One body symmetry check failed.\n",
      "One body symmetry check failed.\n",
      "One body symmetry check failed.\n",
      "One body symmetry check failed.\n",
      "One body symmetry check failed.\n",
      "One body symmetry check failed.\n",
      "One body symmetry check failed.\n",
      "One body symmetry check failed.\n",
      "Spin symmetry broken: True\n"
     ]
    }
   ],
   "execution_count": 50
  },
  {
   "cell_type": "code",
   "id": "f1727fc1",
   "metadata": {
    "ExecuteTime": {
     "end_time": "2024-05-01T01:20:27.004574Z",
     "start_time": "2024-05-01T01:20:23.999829Z"
    }
   },
   "source": [
    "tbt_2_H_ij, tbt_2_G_ijkl = chem_spin_orb_to_phys_spatial_orb(tbt_2)"
   ],
   "outputs": [
    {
     "name": "stdout",
     "output_type": "stream",
     "text": [
      "Spin symmetry broken: False\n"
     ]
    }
   ],
   "execution_count": 35
  },
  {
   "cell_type": "code",
   "id": "dbdfb4aa",
   "metadata": {
    "ExecuteTime": {
     "end_time": "2024-05-01T01:20:29.887665Z",
     "start_time": "2024-05-01T01:20:27.006491Z"
    }
   },
   "source": [
    "tbt_3_H_ij, tbt_3_G_ijkl = chem_spin_orb_to_phys_spatial_orb(tbt_3)"
   ],
   "outputs": [
    {
     "name": "stdout",
     "output_type": "stream",
     "text": [
      "Spin symmetry broken: False\n"
     ]
    }
   ],
   "execution_count": 36
  },
  {
   "cell_type": "code",
   "id": "16450cf7",
   "metadata": {
    "ExecuteTime": {
     "end_time": "2024-05-01T01:20:32.652086Z",
     "start_time": "2024-05-01T01:20:29.888864Z"
    }
   },
   "source": [
    "tbt_3_hidden_H_ij, tbt_3_hidden_G_ijkl = chem_spin_orb_to_phys_spatial_orb(tbt_3_hidden)"
   ],
   "outputs": [
    {
     "name": "stdout",
     "output_type": "stream",
     "text": [
      "One body symmetry check failed.\n",
      "One body symmetry check failed.\n",
      "One body symmetry check failed.\n",
      "One body symmetry check failed.\n",
      "One body symmetry check failed.\n",
      "One body symmetry check failed.\n",
      "One body symmetry check failed.\n",
      "One body symmetry check failed.\n",
      "One body symmetry check failed.\n",
      "One body symmetry check failed.\n",
      "One body symmetry check failed.\n",
      "One body symmetry check failed.\n",
      "One body symmetry check failed.\n",
      "One body symmetry check failed.\n",
      "One body symmetry check failed.\n",
      "One body symmetry check failed.\n",
      "One body symmetry check failed.\n",
      "One body symmetry check failed.\n",
      "One body symmetry check failed.\n",
      "One body symmetry check failed.\n",
      "One body symmetry check failed.\n",
      "One body symmetry check failed.\n",
      "One body symmetry check failed.\n",
      "One body symmetry check failed.\n",
      "One body symmetry check failed.\n",
      "One body symmetry check failed.\n",
      "One body symmetry check failed.\n",
      "One body symmetry check failed.\n",
      "One body symmetry check failed.\n",
      "One body symmetry check failed.\n",
      "One body symmetry check failed.\n",
      "One body symmetry check failed.\n",
      "One body symmetry check failed.\n",
      "One body symmetry check failed.\n",
      "One body symmetry check failed.\n",
      "One body symmetry check failed.\n",
      "One body symmetry check failed.\n",
      "One body symmetry check failed.\n",
      "One body symmetry check failed.\n",
      "One body symmetry check failed.\n",
      "One body symmetry check failed.\n",
      "One body symmetry check failed.\n",
      "One body symmetry check failed.\n",
      "One body symmetry check failed.\n",
      "One body symmetry check failed.\n",
      "One body symmetry check failed.\n",
      "One body symmetry check failed.\n",
      "One body symmetry check failed.\n",
      "One body symmetry check failed.\n",
      "Spin symmetry broken: True\n"
     ]
    }
   ],
   "execution_count": 37
  },
  {
   "cell_type": "markdown",
   "id": "245787cb",
   "metadata": {},
   "source": [
    "## Step 10. Save `H_ij` and `G_ijkl` to FCIDUMP file"
   ]
  },
  {
   "cell_type": "code",
   "id": "5113617d",
   "metadata": {
    "ExecuteTime": {
     "end_time": "2024-05-01T18:18:53.541343Z",
     "start_time": "2024-05-01T18:18:53.537748Z"
    }
   },
   "source": [
    "# Make dir\n",
    "fcidump_output_path = Path(fcidump_output_path)\n",
    "fcidump_output_path.mkdir(parents=True, exist_ok=True)"
   ],
   "outputs": [],
   "execution_count": 181
  },
  {
   "cell_type": "code",
   "id": "fcb72a6e",
   "metadata": {
    "ExecuteTime": {
     "end_time": "2024-05-01T18:21:07.835646Z",
     "start_time": "2024-05-01T18:21:07.815044Z"
    }
   },
   "source": [
    "label = \"_tbt_1\"\n",
    "filename = fcidump_filename + f\"{label}\"\n",
    "pyscf.tools.fcidump.from_integrals(\n",
    "    fcidump_output_path/Path(filename),\n",
    "    tbt_1_H_ij,\n",
    "    tbt_1_G_ijkl,\n",
    "    nmo=tbt_1_G_ijkl.shape[0],\n",
    "    nelec=np.sum(e_nums),\n",
    "    nuc=0,\n",
    "    # ms=0, \n",
    "    ms=1,\n",
    "    orbsym=None,\n",
    "    tol=1E-8,\n",
    "    float_format=' %.16g',\n",
    ")"
   ],
   "outputs": [],
   "execution_count": 182
  },
  {
   "metadata": {
    "ExecuteTime": {
     "end_time": "2024-05-01T18:21:08.802502Z",
     "start_time": "2024-05-01T18:21:08.796253Z"
    }
   },
   "cell_type": "code",
   "source": [
    "label = \"_tbt_1_hidden\"\n",
    "filename = fcidump_filename + f\"{label}\"\n",
    "pyscf.tools.fcidump.from_integrals(\n",
    "    fcidump_output_path/Path(filename),\n",
    "    tbt_1_hidden_H_ij,\n",
    "    tbt_1_hidden_G_ijkl,\n",
    "    nmo=tbt_1_G_ijkl.shape[0],\n",
    "    nelec=np.sum(e_nums),\n",
    "    nuc=0,\n",
    "    # ms=0,\n",
    "    ms=1,\n",
    "    orbsym=None,\n",
    "    tol=1E-8,\n",
    "    float_format=' %.16g',\n",
    ")"
   ],
   "id": "9cc48925fd085caa",
   "outputs": [],
   "execution_count": 183
  },
  {
   "metadata": {
    "ExecuteTime": {
     "end_time": "2024-04-30T17:47:04.552980Z",
     "start_time": "2024-04-30T17:47:04.537684Z"
    }
   },
   "cell_type": "code",
   "source": [
    "one_body_tensor, two_body_tensor = chem_to_physicist_notation_spin_orbitals(tbt_1_hidden)\n",
    "num_spin_orbitals = one_body_tensor.shape[0]\n",
    "num_orbitals = num_spin_orbitals // 2\n",
    "for piter in range(num_orbitals):\n",
    "    for qiter in range(num_orbitals):\n",
    "        if not (\n",
    "            np.allclose(\n",
    "                one_body_tensor[2 * piter, 2 * qiter],\n",
    "                one_body_tensor[2 * piter + 1, 2 * qiter + 1],\n",
    "            )\n",
    "        ):\n",
    "            print(\"not passing\")"
   ],
   "id": "b61a101b49cb7f42",
   "outputs": [],
   "execution_count": 254
  },
  {
   "metadata": {
    "ExecuteTime": {
     "end_time": "2024-05-02T15:32:43.138456Z",
     "start_time": "2024-05-02T15:32:42.912065Z"
    }
   },
   "cell_type": "code",
   "source": [
    "if FCI:\n",
    "    obt_to_use, tbt_to_use = chem_to_physicist_notation_spin_orbitals(tbt_1)\n",
    "    num_spin_orbitals = tbt_to_use.shape[0]\n",
    "    num_orbitals = num_spin_orbitals // 2\n",
    "    num_electrons = sum(e_nums)\n",
    "    num_unpaired_electrons = 0\n",
    "    # multiplicity = num_unpaired_electrons + 1\n",
    "    nuc_rep_energy=0\n",
    "    init_state_bond_dimension= 100\n",
    "    max_num_sweeps=20\n",
    "    \n",
    "    print(f\"# of electrons: {sum(e_nums)}\")\n",
    "    print(f\"Shape of obt: {obt_to_use.shape}\")\n",
    "\n",
    "    sweep_schedule_bond_dims = [init_state_bond_dimension] * 4 + [\n",
    "        init_state_bond_dimension\n",
    "    ] * 4\n",
    "    sweep_schedule_noise = [1e-4] * 4 + [1e-5] * 4 + [0]\n",
    "    sweep_schedule_davidson_threshold = [1e-10] * 8\n",
    "    energy_convergence_threshold = 1e-8\n",
    "\n",
    "    dmrg_parameters = {\n",
    "                \"factor_half_convention\": True,\n",
    "                \"symmetry_type\": \"SGF\",\n",
    "                \"num_threads\": 1,\n",
    "                \"n_mkl_threads\": 1,\n",
    "                \"num_orbitals\": 2*num_orbitals, # Extra 2 necessary for SGF\n",
    "                \"num_spin_orbitals\": 2*num_spin_orbitals, # Extra 2 necessary for SGF\n",
    "                \"num_electrons\": num_electrons,\n",
    "                \"two_S\": num_unpaired_electrons,\n",
    "                \"two_Sz\": num_unpaired_electrons,\n",
    "                \"orb_sym\": np.zeros(num_orbitals,dtype=np.int_).tolist(),\n",
    "                \"temp_dir\": \"./tests/temp\",\n",
    "                \"stack_mem\": 1073741824,\n",
    "                \"restart_dir\": \"./tests/restart\",\n",
    "                \"core_energy\": nuc_rep_energy,\n",
    "                \"reordering_method\": \"none\",\n",
    "                \"init_state_seed\": 64241,  # 0 means random seed\n",
    "                \"initial_mps_method\": \"random\",\n",
    "                \"init_state_bond_dimension\": init_state_bond_dimension,\n",
    "                \"occupancy_hint\": None,\n",
    "                \"full_fci_space_bool\": True,\n",
    "                \"init_state_direct_two_site_construction_bool\": False,\n",
    "                \"max_num_sweeps\": max_num_sweeps,\n",
    "                \"energy_convergence_threshold\": energy_convergence_threshold,\n",
    "                \"sweep_schedule_bond_dims\": sweep_schedule_bond_dims,\n",
    "                \"sweep_schedule_noise\": sweep_schedule_noise,\n",
    "                \"sweep_schedule_davidson_threshold\": sweep_schedule_davidson_threshold,\n",
    "                \"davidson_type\": None,  # Default is None, for \"Normal\"\n",
    "                \"eigenvalue_cutoff\": 1e-20,  # Cutoff of eigenvalues, default is 1e-20\n",
    "                \"davidson_max_iterations\": 4000,  # Default is 4000\n",
    "                \"davidson_max_krylov_subspace_size\": 50,  # Default is 50\n",
    "                \"lowmem_noise_bool\": False,  # Whether to use a lower memory version of the noise, default is False\n",
    "                \"sweep_start\": 0,  # Default is 0, where to start sweep\n",
    "                \"initial_sweep_direction\": None,  # Default is None, True means forward sweep (left-to-right)\n",
    "                \"stack_mem_ratio\": 0.8,  # Default is 0.4\n",
    "            }\n",
    "    dmrg_results_dict = dmrghandler.qchem_dmrg_calc.single_qchem_dmrg_calc(\n",
    "        one_body_tensor=obt_to_use,\n",
    "        two_body_tensor=tbt_to_use,\n",
    "        dmrg_parameters=dmrg_parameters,\n",
    "        verbosity=1,\n",
    "    )\n",
    "\n",
    "    dmrg_ground_state_energy = dmrg_results_dict[\"dmrg_ground_state_energy\"]"
   ],
   "id": "dfb4c6a458cab9a9",
   "outputs": [
    {
     "name": "stdout",
     "output_type": "stream",
     "text": [
      "# of electrons: 8\n",
      "Shape of obt: (12, 12)\n",
      "integral cutoff error =  0.0\n",
      "mpo terms =        222\n",
      "\n",
      "Build MPO | Nsites =    12 | Nterms =        222 | Algorithm = FastBIP | Cutoff = 1.00e-20\n",
      " Site =     0 /    12 .. Mmpo =     8 DW = 0.00e+00 NNZ =        8 SPT = 0.0000 Tmvc = 0.000 T = 0.001\n",
      " Site =     1 /    12 .. Mmpo =    20 DW = 0.00e+00 NNZ =       20 SPT = 0.8750 Tmvc = 0.000 T = 0.000\n",
      " Site =     2 /    12 .. Mmpo =    19 DW = 0.00e+00 NNZ =       44 SPT = 0.8842 Tmvc = 0.000 T = 0.001\n",
      " Site =     3 /    12 .. Mmpo =    12 DW = 0.00e+00 NNZ =       28 SPT = 0.8772 Tmvc = 0.000 T = 0.000\n",
      " Site =     4 /    12 .. Mmpo =     7 DW = 0.00e+00 NNZ =       12 SPT = 0.8571 Tmvc = 0.000 T = 0.001\n",
      " Site =     5 /    12 .. Mmpo =     2 DW = 0.00e+00 NNZ =        6 SPT = 0.5714 Tmvc = 0.000 T = 0.000\n",
      " Site =     6 /    12 .. Mmpo =     8 DW = 0.00e+00 NNZ =        5 SPT = 0.6875 Tmvc = 0.000 T = 0.000\n",
      " Site =     7 /    12 .. Mmpo =    22 DW = 0.00e+00 NNZ =       20 SPT = 0.8864 Tmvc = 0.000 T = 0.001\n",
      " Site =     8 /    12 .. Mmpo =    31 DW = 0.00e+00 NNZ =       57 SPT = 0.9164 Tmvc = 0.000 T = 0.001\n",
      " Site =     9 /    12 .. Mmpo =    22 DW = 0.00e+00 NNZ =       87 SPT = 0.8724 Tmvc = 0.000 T = 0.001\n",
      " Site =    10 /    12 .. Mmpo =     8 DW = 0.00e+00 NNZ =       25 SPT = 0.8580 Tmvc = 0.000 T = 0.000\n",
      " Site =    11 /    12 .. Mmpo =     1 DW = 0.00e+00 NNZ =        8 SPT = 0.0000 Tmvc = 0.000 T = 0.000\n",
      "Ttotal =      0.006 Tmvc-total = 0.000 MPO bond dimension =    31 MaxDW = 0.00e+00\n",
      "NNZ =          320 SIZE =         2614 SPT = 0.8776\n",
      "\n",
      "Rank =     0 Ttotal =      0.015 MPO method = FastBipartite bond dimension =      31 NNZ =          320 SIZE =         2614 SPT = 0.8776\n",
      "\n",
      "Sweep =    0 | Direction =  forward | Bond dimension =  100 | Noise =  1.00e-04 | Dav threshold =  1.00e-10\n",
      "Time elapsed =      0.017 | E =     -29.3327897054 | DW = 1.12e-20\n",
      "\n",
      "Sweep =    1 | Direction = backward | Bond dimension =  100 | Noise =  1.00e-04 | Dav threshold =  1.00e-10\n",
      "Time elapsed =      0.039 | E =     -29.3327897054 | DE = 0.00e+00 | DW = 1.35e-21\n",
      "\n",
      "Sweep =    2 | Direction =  forward | Bond dimension =  100 | Noise =  1.00e-04 | Dav threshold =  1.00e-10\n",
      "Time elapsed =      0.061 | E =     -29.3327897054 | DE = 0.00e+00 | DW = 1.09e-20\n",
      "\n",
      "Sweep =    3 | Direction = backward | Bond dimension =  100 | Noise =  1.00e-04 | Dav threshold =  1.00e-10\n",
      "Time elapsed =      0.078 | E =     -29.3327897054 | DE = -3.55e-15 | DW = 1.35e-21\n",
      "\n",
      "Sweep =    4 | Direction =  forward | Bond dimension =  100 | Noise =  1.00e-05 | Dav threshold =  1.00e-10\n",
      "Time elapsed =      0.094 | E =     -29.3327897054 | DE = -7.11e-15 | DW = 1.85e-20\n",
      "\n",
      "Sweep =    5 | Direction = backward | Bond dimension =  100 | Noise =  1.00e-05 | Dav threshold =  1.00e-10\n",
      "Time elapsed =      0.109 | E =     -29.3327897054 | DE = 3.55e-15 | DW = 7.76e-21\n",
      "\n",
      "Sweep =    6 | Direction =  forward | Bond dimension =  100 | Noise =  1.00e-05 | Dav threshold =  1.00e-10\n",
      "Time elapsed =      0.121 | E =     -29.3327897054 | DE = 3.55e-15 | DW = 1.94e-20\n",
      "\n",
      "Sweep =    7 | Direction = backward | Bond dimension =  100 | Noise =  1.00e-05 | Dav threshold =  1.00e-10\n",
      "Time elapsed =      0.142 | E =     -29.3327897054 | DE = -3.55e-15 | DW = 7.78e-21\n",
      "\n",
      "Sweep =    8 | Direction =  forward | Bond dimension =  100 | Noise =  0.00e+00 | Dav threshold =  1.00e-09\n",
      "Time elapsed =      0.163 | E =     -29.3327897054 | DE = -1.07e-14 | DW = 5.35e-21\n",
      "\n"
     ]
    }
   ],
   "execution_count": 51
  },
  {
   "cell_type": "code",
   "id": "87abd944",
   "metadata": {},
   "source": [
    "# Commented out as spin symmetry broken \n",
    "# label = \"tbt_1_hidden\"\n",
    "# filename = fcidump_filename + f\"{label}\"\n",
    "# pyscf.tools.fcidump.from_integrals(\n",
    "#     fcidump_output_path/Path(filename),\n",
    "#     tbt_1_hidden_H_ij,\n",
    "#     tbt_1_hidden_G_ijkl,\n",
    "#     nmo=tbt_1_hidden_H_ij.shape[0],\n",
    "#     nelec=np.sum(e_nums),\n",
    "#     nuc=0,\n",
    "#     ms=0,\n",
    "#     orbsym=None,\n",
    "#     tol=1E-8,\n",
    "#     float_format=' %.16g',\n",
    "# )"
   ],
   "outputs": [],
   "execution_count": null
  },
  {
   "cell_type": "code",
   "execution_count": 34,
   "id": "5e3da076",
   "metadata": {},
   "outputs": [],
   "source": [
    "# Commented out as spin symmetry broken \n",
    "# label = \"tbt_2\"\n",
    "# filename = fcidump_filename + f\"{label}\"\n",
    "# pyscf.tools.fcidump.from_integrals(\n",
    "#     fcidump_output_path/Path(filename),\n",
    "#     tbt_2_H_ij,\n",
    "#     tbt_2_G_ijkl,\n",
    "#     nmo=tbt_2_H_ij.shape[0],\n",
    "#     nelec=np.sum(e_nums),\n",
    "#     nuc=0,\n",
    "#     ms=0,\n",
    "#     orbsym=None,\n",
    "#     tol=1E-8,\n",
    "#     float_format=' %.16g',\n",
    "# )"
   ]
  },
  {
   "cell_type": "code",
   "execution_count": 35,
   "id": "20892f98",
   "metadata": {},
   "outputs": [],
   "source": [
    "# Commented out as spin symmetry broken \n",
    "# label = \"tbt_3\"\n",
    "# filename = fcidump_filename + f\"{label}\"\n",
    "# pyscf.tools.fcidump.from_integrals(\n",
    "#     fcidump_output_path/Path(filename),\n",
    "#     tbt_3_H_ij,\n",
    "#     tbt_3_G_ijkl,\n",
    "#     nmo=tbt_3_H_ij.shape[0],\n",
    "#     nelec=np.sum(e_nums),\n",
    "#     nuc=0,\n",
    "#     ms=0,\n",
    "#     orbsym=None,\n",
    "#     tol=1E-8,\n",
    "#     float_format=' %.16g',\n",
    "# )"
   ]
  },
  {
   "cell_type": "code",
   "execution_count": 36,
   "id": "ae46eb26",
   "metadata": {},
   "outputs": [],
   "source": [
    "# Commented out as spin symmetry broken \n",
    "# label = \"tbt_3_hidden\"\n",
    "# filename = fcidump_filename + f\"{label}\"\n",
    "# pyscf.tools.fcidump.from_integrals(\n",
    "#     fcidump_output_path/Path(filename),\n",
    "#     tbt_3_hidden_H_ij,\n",
    "#     tbt_3_hidden_G_ijkl,\n",
    "#     nmo=tbt_3_hidden_H_ij.shape[0],\n",
    "#     nelec=np.sum(e_nums),\n",
    "#     nuc=0,\n",
    "#     ms=0,\n",
    "#     orbsym=None,\n",
    "#     tol=1E-8,\n",
    "#     float_format=' %.16g',\n",
    "# )"
   ]
  },
  {
   "cell_type": "markdown",
   "id": "f1946f4d",
   "metadata": {},
   "source": [
    "## Step 11. Load FCIDUMP file for tbt_1"
   ]
  },
  {
   "cell_type": "code",
   "id": "0b9dd7e8",
   "metadata": {
    "ExecuteTime": {
     "end_time": "2024-04-30T15:57:09.819334Z",
     "start_time": "2024-04-30T15:57:09.795032Z"
    }
   },
   "source": [
    "label = \"_tbt_1\"\n",
    "filename = fcidump_filename + f\"{label}\"\n",
    "    \n",
    "\n",
    "(\n",
    "one_body_tensor_dmrg,\n",
    "two_body_tensor_dmrg,\n",
    "nuc_rep_energy_dmrg,\n",
    "num_orbitals_dmrg,\n",
    "num_spin_orbitals_dmrg,\n",
    "num_electrons_dmrg,\n",
    "two_S_dmrg,\n",
    "two_Sz_dmrg,\n",
    "orb_sym_dmrg,\n",
    "extra_attributes_dmrg,\n",
    ") = dmrghandler.dmrg_calc_prepare.load_tensors_from_fcidump(data_file_path=fcidump_output_path/Path(filename), molpro_orbsym_convention=True)\n"
   ],
   "outputs": [
    {
     "name": "stdout",
     "output_type": "stream",
     "text": [
      "Parsing fcidumps_catalysts_planted_solutions/fcidump.2_co2_6-311++G___tbt_1\n"
     ]
    }
   ],
   "execution_count": 37
  },
  {
   "cell_type": "markdown",
   "id": "084be53d",
   "metadata": {},
   "source": [
    "## Step 12. Run DMRG in 'SU(2)' symmetry mode"
   ]
  },
  {
   "cell_type": "code",
   "execution_count": 38,
   "id": "a17678e0",
   "metadata": {},
   "outputs": [
    {
     "name": "stdout",
     "output_type": "stream",
     "text": [
      "integral cutoff error =  0.0\n",
      "mpo terms =        114\n",
      "\n",
      "Build MPO | Nsites =     6 | Nterms =        114 | Algorithm = FastBIP | Cutoff = 1.00e-20\n",
      " Site =     0 /     6 .. Mmpo =    12 DW = 0.00e+00 NNZ =       12 SPT = 0.0000 Tmvc = 0.000 T = 0.002\n",
      " Site =     1 /     6 .. Mmpo =     8 DW = 0.00e+00 NNZ =       23 SPT = 0.7604 Tmvc = 0.000 T = 0.001\n",
      " Site =     2 /     6 .. Mmpo =     2 DW = 0.00e+00 NNZ =        7 SPT = 0.5625 Tmvc = 0.000 T = 0.002\n",
      " Site =     3 /     6 .. Mmpo =    13 DW = 0.00e+00 NNZ =       12 SPT = 0.5385 Tmvc = 0.000 T = 0.002\n",
      " Site =     4 /     6 .. Mmpo =    14 DW = 0.00e+00 NNZ =       51 SPT = 0.7198 Tmvc = 0.000 T = 0.002\n",
      " Site =     5 /     6 .. Mmpo =     1 DW = 0.00e+00 NNZ =       14 SPT = 0.0000 Tmvc = 0.000 T = 0.006\n",
      "Ttotal =      0.014 Tmvc-total = 0.000 MPO bond dimension =    14 MaxDW = 0.00e+00\n",
      "NNZ =          119 SIZE =          346 SPT = 0.6561\n",
      "\n",
      "Rank =     0 Ttotal =      0.028 MPO method = FastBipartite bond dimension =      14 NNZ =          119 SIZE =          346 SPT = 0.6561\n",
      "\n",
      "Sweep =    0 | Direction =  forward | Bond dimension =   50 | Noise =  1.00e-04 | Dav threshold =  1.00e-10\n",
      "Time elapsed =      0.010 | E =     -29.3359585471 | DW = 4.58e-21\n",
      "\n",
      "Sweep =    1 | Direction = backward | Bond dimension =   50 | Noise =  1.00e-04 | Dav threshold =  1.00e-10\n",
      "Time elapsed =      0.020 | E =     -29.3359585471 | DE = 4.62e-14 | DW = 1.00e-20\n",
      "\n",
      "Sweep =    2 | Direction =  forward | Bond dimension =   50 | Noise =  1.00e-04 | Dav threshold =  1.00e-10\n",
      "Time elapsed =      0.029 | E =     -29.3359585471 | DE = 0.00e+00 | DW = 8.93e-21\n",
      "\n",
      "Sweep =    3 | Direction = backward | Bond dimension =   50 | Noise =  1.00e-04 | Dav threshold =  1.00e-10\n",
      "Time elapsed =      0.037 | E =     -29.3359585471 | DE = 3.55e-15 | DW = 7.69e-21\n",
      "\n",
      "Sweep =    4 | Direction =  forward | Bond dimension =  100 | Noise =  1.00e-05 | Dav threshold =  1.00e-10\n",
      "Time elapsed =      0.045 | E =     -29.3359585471 | DE = 3.55e-15 | DW = 3.62e-21\n",
      "\n",
      "Sweep =    5 | Direction = backward | Bond dimension =  100 | Noise =  1.00e-05 | Dav threshold =  1.00e-10\n",
      "Time elapsed =      0.056 | E =     -29.3359585471 | DE = -1.07e-14 | DW = 3.45e-21\n",
      "\n",
      "Sweep =    6 | Direction =  forward | Bond dimension =  100 | Noise =  1.00e-05 | Dav threshold =  1.00e-10\n",
      "Time elapsed =      0.066 | E =     -29.3359585471 | DE = 7.11e-15 | DW = 4.51e-21\n",
      "\n",
      "Sweep =    7 | Direction = backward | Bond dimension =  100 | Noise =  1.00e-05 | Dav threshold =  1.00e-10\n",
      "Time elapsed =      0.075 | E =     -29.3359585471 | DE = -7.11e-15 | DW = 2.43e-21\n",
      "\n",
      "Sweep =    8 | Direction =  forward | Bond dimension =  100 | Noise =  0.00e+00 | Dav threshold =  1.00e-09\n",
      "Time elapsed =      0.086 | E =     -29.3359585471 | DE = 0.00e+00 | DW = 6.46e-26\n",
      "\n"
     ]
    }
   ],
   "source": [
    "obt_to_use = one_body_tensor_dmrg\n",
    "tbt_to_use = two_body_tensor_dmrg\n",
    "\n",
    "init_state_bond_dimension= 100\n",
    "max_num_sweeps=20\n",
    "\n",
    "sweep_schedule_bond_dims = [init_state_bond_dimension//2] * 4 + [\n",
    "    init_state_bond_dimension\n",
    "] * 4\n",
    "sweep_schedule_noise = [1e-4] * 4 + [1e-5] * 4 + [0]\n",
    "sweep_schedule_davidson_threshold = [1e-10] * 8\n",
    "energy_convergence_threshold = 1e-8\n",
    "\n",
    "dmrg_parameters = {\n",
    "            \"factor_half_convention\": True,\n",
    "            \"symmetry_type\": \"SU(2)\",\n",
    "            \"num_threads\": 1,\n",
    "            \"n_mkl_threads\": 1,\n",
    "            \"num_orbitals\": num_orbitals_dmrg,\n",
    "            \"num_spin_orbitals\": num_spin_orbitals_dmrg,\n",
    "            \"num_electrons\": num_electrons_dmrg,\n",
    "            \"two_S\": two_S_dmrg,\n",
    "            \"two_Sz\": two_Sz_dmrg,\n",
    "            \"orb_sym\": orb_sym_dmrg,\n",
    "            \"temp_dir\": \"./tests/temp\",\n",
    "            \"stack_mem\": 1073741824,\n",
    "            \"restart_dir\": \"./tests/restart\",\n",
    "            \"core_energy\": nuc_rep_energy_dmrg,\n",
    "            \"reordering_method\": \"none\",\n",
    "            \"init_state_seed\": 98416,#64241,  # 0 means random seed\n",
    "            \"initial_mps_method\": \"random\",\n",
    "            \"init_state_bond_dimension\": init_state_bond_dimension,\n",
    "            \"occupancy_hint\": None,\n",
    "            \"full_fci_space_bool\": True,\n",
    "            \"init_state_direct_two_site_construction_bool\": False,\n",
    "            \"max_num_sweeps\": max_num_sweeps,\n",
    "            \"energy_convergence_threshold\": energy_convergence_threshold,\n",
    "            \"sweep_schedule_bond_dims\": sweep_schedule_bond_dims,\n",
    "            \"sweep_schedule_noise\": sweep_schedule_noise,\n",
    "            \"sweep_schedule_davidson_threshold\": sweep_schedule_davidson_threshold,\n",
    "            \"davidson_type\": None,  # Default is None, for \"Normal\"\n",
    "            \"eigenvalue_cutoff\": 1e-20,  # Cutoff of eigenvalues, default is 1e-20\n",
    "            \"davidson_max_iterations\": 4000,  # Default is 4000\n",
    "            \"davidson_max_krylov_subspace_size\": 50,  # Default is 50\n",
    "            \"lowmem_noise_bool\": False,  # Whether to use a lower memory version of the noise, default is False\n",
    "            \"sweep_start\": 0,  # Default is 0, where to start sweep\n",
    "            \"initial_sweep_direction\": None,  # Default is None, True means forward sweep (left-to-right)\n",
    "            \"stack_mem_ratio\": 0.8,  # Default is 0.4\n",
    "        }\n",
    "dmrg_results_dict = dmrghandler.qchem_dmrg_calc.single_qchem_dmrg_calc(\n",
    "    one_body_tensor=obt_to_use,\n",
    "    two_body_tensor=tbt_to_use,\n",
    "    dmrg_parameters=dmrg_parameters,\n",
    "    verbosity=1,\n",
    ")\n",
    "dmrg_ground_state_energy_tbt_1 = dmrg_results_dict[\"dmrg_ground_state_energy\"]"
   ]
  },
  {
   "cell_type": "code",
   "execution_count": 39,
   "id": "c8710422",
   "metadata": {},
   "outputs": [
    {
     "name": "stdout",
     "output_type": "stream",
     "text": [
      "Below comparison only valid if balance_strength == 0\n",
      "Balance strength: 2\n",
      "FCI Energy: -128.66849127100852\n",
      "DMRG Energy, tbt_1: -29.33595854711037\n",
      "Energy difference: -99.33253272389815\n"
     ]
    }
   ],
   "source": [
    "# Compare FCI and DMRG energies\n",
    "if FCI:\n",
    "    print(\"Below comparison only valid if balance_strength == 0\")\n",
    "    print(f\"Balance strength: {balance_strength}\")\n",
    "    print(f\"FCI Energy: {FCI_energy_for_comparison}\")\n",
    "    print(f\"DMRG Energy, tbt_1: {dmrg_ground_state_energy_tbt_1}\")\n",
    "    print(f\"Energy difference: {FCI_energy_for_comparison - dmrg_ground_state_energy_tbt_1}\")"
   ]
  }
 ],
 "metadata": {
  "kernelspec": {
   "display_name": "Python 3 (ipykernel)",
   "language": "python",
   "name": "python3"
  },
  "language_info": {
   "codemirror_mode": {
    "name": "ipython",
    "version": 3
   },
   "file_extension": ".py",
   "mimetype": "text/x-python",
   "name": "python",
   "nbconvert_exporter": "python",
   "pygments_lexer": "ipython3",
   "version": "3.10.12"
  }
 },
 "nbformat": 4,
 "nbformat_minor": 5
}
