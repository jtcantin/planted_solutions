{
 "cells": [
  {
   "cell_type": "code",
   "id": "initial_id",
   "metadata": {
    "collapsed": true,
    "ExecuteTime": {
     "end_time": "2024-07-22T14:23:57.029598Z",
     "start_time": "2024-07-22T14:23:56.842276Z"
    }
   },
   "source": [
    "import numpy as np\n",
    "import simple_dmrg.dmrg_functions as dmrg\n",
    "import simple_dmrg.mps_functions as mps_func\n",
    "import simple_dmrg.mpo_operations as mpo_ops\n",
    "import simple_dmrg.mpo_construction as make_mpo\n",
    "import scipy.sparse as sps\n",
    "import time\n",
    "from pathlib import Path"
   ],
   "outputs": [],
   "execution_count": 1
  },
  {
   "metadata": {
    "ExecuteTime": {
     "end_time": "2024-07-22T14:23:58.968025Z",
     "start_time": "2024-07-22T14:23:58.957696Z"
    }
   },
   "cell_type": "code",
   "source": "tensor = np.array([[0, 0, 0, 0], [0, 0, 1, 0], [0, 1, 0, 0], [0, 0, 0, 0]])",
   "id": "b744fb5798f9f2d8",
   "outputs": [],
   "execution_count": 2
  },
  {
   "metadata": {
    "ExecuteTime": {
     "end_time": "2024-07-22T14:23:59.687821Z",
     "start_time": "2024-07-22T14:23:59.677386Z"
    }
   },
   "cell_type": "code",
   "source": "eiv, eivc = np.linalg.eig(tensor)",
   "id": "6a156b549ec3469d",
   "outputs": [],
   "execution_count": 3
  },
  {
   "metadata": {
    "ExecuteTime": {
     "end_time": "2024-07-22T14:24:00.143186Z",
     "start_time": "2024-07-22T14:24:00.132088Z"
    }
   },
   "cell_type": "code",
   "source": "print(eiv)",
   "id": "8182f7a0679cdc00",
   "outputs": [
    {
     "name": "stdout",
     "output_type": "stream",
     "text": [
      "[ 1. -1.  0.  0.]\n"
     ]
    }
   ],
   "execution_count": 4
  },
  {
   "metadata": {
    "ExecuteTime": {
     "end_time": "2024-07-22T14:24:00.865284Z",
     "start_time": "2024-07-22T14:24:00.813101Z"
    }
   },
   "cell_type": "code",
   "source": [
    "# phys dim 4, each site has 4 states: |0>, |u>, |d>, |2>\n",
    "# |0> is the vacuum state\n",
    "# u for spin up, d for spin down, |2> := a_u_dag.a_d_dag|0> for both up and down\n",
    "a_u_2darray = np.array([[0, 1, 0, 0],\n",
    "                        [0, 0, 0, 0],\n",
    "                        [0, 0, 0, 1],\n",
    "                        [0, 0, 0, 0]])\n",
    "a_d_2darray = np.array([[0, 0, 1, 0],\n",
    "                        [0, 0, 0, -1],\n",
    "                        [0, 0, 0, 0],\n",
    "                        [0, 0, 0, 0]])\n",
    "a_u = sps.csr_matrix(a_u_2darray)\n",
    "a_d = sps.csr_matrix(a_d_2darray)\n",
    "a_u_dag = a_u.transpose().conj()\n",
    "a_d_dag = a_d.transpose().conj()\n",
    "n_u = a_u_dag @ a_u\n",
    "n_d = a_d_dag @ a_d\n",
    "n_part = n_u + n_d\n",
    "\n",
    "print(f\"a_u = \\n{a_u.toarray()}\")\n",
    "print(f\"a_d = \\n{a_d.toarray()}\")\n",
    "print(f\"a_u_dag = \\n{a_u_dag.toarray()}\")\n",
    "print(f\"a_d_dag = \\n{a_d_dag.toarray()}\")\n",
    "print(f\"n_u = \\n{n_u.toarray()}\")\n",
    "print(f\"n_d = \\n{n_d.toarray()}\")\n",
    "print(f\"n_part = \\n{n_part.toarray()}\")"
   ],
   "id": "7cfd581c7eff34ec",
   "outputs": [
    {
     "name": "stdout",
     "output_type": "stream",
     "text": [
      "a_u = \n",
      "[[0 1 0 0]\n",
      " [0 0 0 0]\n",
      " [0 0 0 1]\n",
      " [0 0 0 0]]\n",
      "a_d = \n",
      "[[ 0  0  1  0]\n",
      " [ 0  0  0 -1]\n",
      " [ 0  0  0  0]\n",
      " [ 0  0  0  0]]\n",
      "a_u_dag = \n",
      "[[0 0 0 0]\n",
      " [1 0 0 0]\n",
      " [0 0 0 0]\n",
      " [0 0 1 0]]\n",
      "a_d_dag = \n",
      "[[ 0  0  0  0]\n",
      " [ 0  0  0  0]\n",
      " [ 1  0  0  0]\n",
      " [ 0 -1  0  0]]\n",
      "n_u = \n",
      "[[0 0 0 0]\n",
      " [0 1 0 0]\n",
      " [0 0 0 0]\n",
      " [0 0 0 1]]\n",
      "n_d = \n",
      "[[0 0 0 0]\n",
      " [0 0 0 0]\n",
      " [0 0 1 0]\n",
      " [0 0 0 1]]\n",
      "n_part = \n",
      "[[0 0 0 0]\n",
      " [0 1 0 0]\n",
      " [0 0 1 0]\n",
      " [0 0 0 2]]\n"
     ]
    }
   ],
   "execution_count": 5
  },
  {
   "metadata": {
    "ExecuteTime": {
     "end_time": "2024-07-22T14:24:02.167087Z",
     "start_time": "2024-07-22T14:24:02.153137Z"
    }
   },
   "cell_type": "code",
   "source": [
    "def build_fermionic_operators(num_sites):\n",
    "    \"\"\"\n",
    "    Build creation and annihilation operators corresponding to each spin site \n",
    "    Args:\n",
    "        num_sites: Number of spatial sites\n",
    "\n",
    "    Returns: 4 lists of creation and annihilation operators\n",
    "\n",
    "    \"\"\"\n",
    "    a_u_list = []\n",
    "    a_d_list = []\n",
    "    a_u_dag_list = []\n",
    "    a_d_dag_list = []\n",
    "    id = sps.eye(4, format='csr')\n",
    "    parity_2darray = np.array([[1, 0, 0, 0],\n",
    "                               [0, -1, 0, 0],\n",
    "                               [0, 0, -1, 0],\n",
    "                               [0, 0, 0, 1]])\n",
    "    parity = sps.csr_matrix(parity_2darray)\n",
    "    for i in range(num_sites):\n",
    "        for j in range(num_sites):\n",
    "            if j == 0:\n",
    "                if i == 0:\n",
    "                    a_u_local = a_u\n",
    "                    a_d_local = a_d\n",
    "                else:\n",
    "                    a_u_local = parity\n",
    "                    a_d_local = parity\n",
    "            elif j < i:\n",
    "                a_u_local = sps.kron(a_u_local, parity)\n",
    "                a_d_local = sps.kron(a_d_local, parity)\n",
    "            elif j == i:\n",
    "                a_u_local = sps.kron(a_u_local, a_u)\n",
    "                a_d_local = sps.kron(a_d_local, a_d)\n",
    "            else:\n",
    "                a_u_local = sps.kron(a_u_local, id)\n",
    "                a_d_local = sps.kron(a_d_local, id)\n",
    "        a_u_list.append(a_u_local)\n",
    "        a_d_list.append(a_d_local)\n",
    "        a_u_dag_list.append(a_u_local.transpose())\n",
    "        a_d_dag_list.append(a_d_local.transpose())\n",
    "    \n",
    "\n",
    "    return a_u_list, a_d_list, a_u_dag_list, a_d_dag_list\n",
    "\n",
    "def build_number_operators(a_u_list, a_d_list, a_u_dag_list, a_d_dag_list):\n",
    "    num_sites = len(a_u_list)\n",
    "    n_u_list = []\n",
    "    n_d_list = []\n",
    "    n_part_list = []\n",
    "\n",
    "    for i in range(num_sites):\n",
    "        n_u_list.append(a_u_dag_list[i] @ a_u_list[i])\n",
    "        n_d_list.append(a_d_dag_list[i] @ a_d_list[i])\n",
    "        n_part_list.append(n_u_list[i] + n_d_list[i])\n",
    "\n",
    "    # Build total number operator\n",
    "    n_total_op = sps.csr_matrix((4**num_sites, 4**num_sites), dtype=np.float_)\n",
    "    for iiter in range(num_sites):\n",
    "        n_total_op += n_part_list[iiter]\n",
    "\n",
    "    return n_u_list, n_d_list, n_part_list, n_total_op"
   ],
   "id": "bd5dfa5fc3880f46",
   "outputs": [],
   "execution_count": 6
  },
  {
   "metadata": {
    "ExecuteTime": {
     "end_time": "2024-07-22T14:24:02.918998Z",
     "start_time": "2024-07-22T14:24:02.838608Z"
    }
   },
   "cell_type": "code",
   "source": [
    "def build_hubbard_hamiltonian(\n",
    "    num_sites, hopping_strength, onsite_interaction, chemical_potential, s\n",
    "):\n",
    "    a_u_list, a_d_list, a_u_dag_list, a_d_dag_list = build_fermionic_operators(\n",
    "        num_sites\n",
    "    )\n",
    "    n_u_list, n_d_list, n_part_list, n_total_op = build_number_operators(\n",
    "        a_u_list, a_d_list, a_u_dag_list, a_d_dag_list\n",
    "    )\n",
    "    # Build Hubbard Hamiltonian with open boundary conditions\n",
    "    # Following Eqn. 11 of https://www.google.com/url?sa=t&source=web&rct=j&opi=89978449&url=https://www.cond-mat.de/events/correl16/manuscripts/scalettar.pdf&ved=2ahUKEwjvus-1h4yHAxXIJzQIHdXNO1UQFnoECBAQAw&usg=AOvVaw1RrwrDGqwV43PYpA8JlhDW\n",
    "    t = hopping_strength\n",
    "    U = onsite_interaction\n",
    "    mu = chemical_potential\n",
    "    hopping_term = sps.csr_matrix((4**num_sites, 4**num_sites), dtype=np.float_)\n",
    "    interaction_term = sps.csr_matrix((4**num_sites, 4**num_sites), dtype=np.float_)\n",
    "    for j in range(1, 1 + s):\n",
    "        for iiter in range(num_sites - j):\n",
    "            hopping_term += -1 * t * (a_u_dag_list[iiter] @ a_u_list[iiter + j])\n",
    "            hopping_term += -1 * t * (a_d_dag_list[iiter] @ a_d_list[iiter + j])\n",
    "            hopping_term += -1 * t * (a_u_dag_list[iiter + j] @ a_u_list[iiter])\n",
    "            hopping_term += -1 * t * (a_d_dag_list[iiter + j] @ a_d_list[iiter])\n",
    "        # print(iiter)\n",
    "        \n",
    "    # Onsite interaction term\n",
    "    for iiter in range(num_sites):\n",
    "        interaction_term += U * n_u_list[iiter] @ n_d_list[iiter]\n",
    "        \n",
    "    interaction_term = sps.csr_matrix((4**num_sites, 4**num_sites), dtype=np.float_)\n",
    "    for iiter in range(num_sites):\n",
    "        interaction_term += U * (\n",
    "                (n_u_list[iiter] - 0.5 * sps.eye(4**num_sites))\n",
    "                @ (n_d_list[iiter] - 0.5 * sps.eye(4**num_sites))\n",
    "            )\n",
    "    # Chemical potential, adjusted for half-filling\n",
    "    chemical_potential_term = sps.csr_matrix((4**num_sites, 4**num_sites), dtype=np.float_)\n",
    "    for iiter in range(num_sites):\n",
    "        for jjter in range(num_sites):\n",
    "            chemical_potential_term += -1 * (mu) * n_u_list[iiter] @ n_d_list[jjter]\n",
    "\n",
    "    hami_one_dim_hubbard = (\n",
    "        hopping_term + interaction_term + chemical_potential_term  # + constant_shift\n",
    "    )\n",
    "\n",
    "    np.set_printoptions(threshold=np.inf, linewidth=np.inf)\n",
    "    # print(f\"hopping_term = \\n{hopping_term.toarray()}\")\n",
    "    # print(f\"interaction_term = \\n{interaction_term.toarray()}\")\n",
    "    # print(f\"hami_one_dim_hubbard = \\n{hami_one_dim_hubbard.toarray()}\")\n",
    "    # Check that the Hamiltonian is Hermitian\n",
    "    assert (hami_one_dim_hubbard - hami_one_dim_hubbard.transpose().conj()).nnz == 0\n",
    "    return (\n",
    "        hami_one_dim_hubbard,\n",
    "        a_u_list,\n",
    "        a_d_list,\n",
    "        a_u_dag_list,\n",
    "        a_d_dag_list,\n",
    "        n_u_list,\n",
    "        n_d_list,\n",
    "        n_part_list,\n",
    "        n_total_op,\n",
    "    )\n",
    "\n",
    "\n",
    "def diagonalize_hubbard_hami(hami_one_dim_hubbard, num_states=2):\n",
    "    eigvals, eigvecs = sps.linalg.eigsh(hami_one_dim_hubbard, k=num_states, which=\"SA\")\n",
    "\n",
    "    # eigvals += U/4 # Adjust for particle hole symmetric form of the Hamiltonian\n",
    "    # Set near-zero values to zero\n",
    "    eigvec = eigvecs[:, 0]\n",
    "    eigvec[abs(eigvec) < 1e-10] = 0\n",
    "    eigvec = eigvec / np.linalg.norm(eigvec)\n",
    "    eigvec_sparse = sps.csr_array([eigvec])\n",
    "    return eigvals, eigvec_sparse, eigvec\n",
    "\n",
    "\n",
    "def get_observables(\n",
    "    eigvals,\n",
    "    eigvec_sparse,\n",
    "    n_total_op,\n",
    "    n_u_list,\n",
    "    n_d_list,\n",
    "    a_u_dag_list,\n",
    "    a_d_list,\n",
    "    a_d_dag_list,\n",
    "    a_u_list,\n",
    "    num_sites\n",
    "):\n",
    "    # print(f\"Ground state energy from exact diagonalization = {eigvals[0]}\")\n",
    "    # print(f\"Ground state from exact diagonalization = {eigvec_sparse}\")\n",
    "    # print(f\"num non-zero elements = {eigvec_sparse.nnz}\")\n",
    "    measured_num_particles = (\n",
    "        eigvec_sparse @ n_total_op @ eigvec_sparse.conj().transpose()\n",
    "    )\n",
    "    measured_num_particles = measured_num_particles[0, 0]\n",
    "    # print(f\"Total number of particles = {measured_num_particles}\")\n",
    "    # Get total s_z operator\n",
    "    s_z = sps.csr_matrix((4**num_sites, 4**num_sites), dtype=np.float_)\n",
    "    for iiter in range(num_sites):\n",
    "        s_z += 0.5 * (n_u_list[iiter] - n_d_list[iiter])\n",
    "\n",
    "    measured_s_z = eigvec_sparse @ s_z @ eigvec_sparse.conj().transpose()\n",
    "    measured_s_z = measured_s_z[0, 0]\n",
    "    # print(f\"Total <Sz> = {measured_s_z}\")\n",
    "\n",
    "    # Get total s^2 operator\n",
    "    s_plus = sps.csr_matrix((4**num_sites, 4**num_sites), dtype=np.float_)\n",
    "    s_minus = sps.csr_matrix((4**num_sites, 4**num_sites), dtype=np.float_)\n",
    "    for iiter in range(num_sites):\n",
    "        s_plus += a_u_dag_list[iiter] @ a_d_list[iiter]\n",
    "        s_minus += a_d_dag_list[iiter] @ a_u_list[iiter]\n",
    "\n",
    "    s_squared = s_minus @ s_plus + s_z @ s_z + s_z\n",
    "    measured_s_squared = eigvec_sparse @ s_squared @ eigvec_sparse.conj().transpose()\n",
    "    measured_s_squared = measured_s_squared[0, 0]\n",
    "    S_val = 0.5 * (-1 + np.sqrt(1 + 4 * measured_s_squared))\n",
    "    # print(f\"Total <S^2> = {measured_s_squared}\")\n",
    "    # print(f\"Total S = {S_val}\")\n",
    "\n",
    "    # Get local moment\n",
    "    m_squared_op = (2 * s_z) @ (2 * s_z)\n",
    "    m_squared = eigvec_sparse @ m_squared_op @ eigvec_sparse.conj().transpose()\n",
    "\n",
    "    m_squared = m_squared[0, 0]\n",
    "    # print(f\"Local moment squared <m^2> = {m_squared}\")\n",
    "    # print(f\"Eigenvalues = {eigvals}\")\n",
    "    return measured_num_particles, measured_s_z, measured_s_squared, S_val, m_squared\n"
   ],
   "id": "2f68f5278538b44",
   "outputs": [],
   "execution_count": 7
  },
  {
   "metadata": {
    "ExecuteTime": {
     "end_time": "2024-07-22T14:25:41.033978Z",
     "start_time": "2024-07-22T14:25:41.000658Z"
    }
   },
   "cell_type": "code",
   "source": [
    "s = 1\n",
    "(\n",
    "    hami_one_dim_hubbard,\n",
    "    a_u_list,\n",
    "    a_d_list,\n",
    "    a_u_dag_list,\n",
    "    a_d_dag_list,\n",
    "    n_u_list,\n",
    "    n_d_list,\n",
    "    n_part_list,\n",
    "    n_total_op,\n",
    ") = build_hubbard_hamiltonian(\n",
    "    \n",
    "    4, 1, 1, 0, s\n",
    ")"
   ],
   "id": "42c15524faa4e483",
   "outputs": [],
   "execution_count": 10
  },
  {
   "metadata": {
    "ExecuteTime": {
     "end_time": "2024-07-22T14:25:41.700401Z",
     "start_time": "2024-07-22T14:25:41.684258Z"
    }
   },
   "cell_type": "code",
   "source": [
    "eigvals, eigvec_sparse, eigvec = diagonalize_hubbard_hami(hami_one_dim_hubbard, 12)\n",
    "print(eigvals)"
   ],
   "id": "a04b4d3a7e24d260",
   "outputs": [
    {
     "name": "stdout",
     "output_type": "stream",
     "text": [
      "[-4.57536562 -3.90990407 -3.90990407 -3.90990407 -3.90990407 -3.59672212 -3.59672212 -3.59672212 -2.98733842 -2.98733842 -2.98733842 -2.96393603]\n"
     ]
    }
   ],
   "execution_count": 11
  },
  {
   "metadata": {
    "ExecuteTime": {
     "end_time": "2024-07-17T19:41:41.429883Z",
     "start_time": "2024-07-17T19:41:41.414156Z"
    }
   },
   "cell_type": "code",
   "source": "print(len(eigvec[eigvec != 0]))",
   "id": "cf2df67cdd421544",
   "outputs": [
    {
     "name": "stdout",
     "output_type": "stream",
     "text": [
      "36\n"
     ]
    }
   ],
   "execution_count": 133
  },
  {
   "metadata": {
    "ExecuteTime": {
     "end_time": "2024-07-17T19:23:51.165688Z",
     "start_time": "2024-07-17T19:23:51.115901Z"
    }
   },
   "cell_type": "code",
   "source": "print(eigvec)",
   "id": "ab9ef0013d0a0857",
   "outputs": [
    {
     "name": "stdout",
     "output_type": "stream",
     "text": [
      "[ 0.          0.          0.          0.          0.          0.          0.          0.          0.          0.          0.          0.          0.          0.          0.          0.          0.          0.          0.          0.          0.          0.          0.          0.          0.          0.          0.          0.          0.          0.          0.          0.          0.          0.          0.          0.          0.          0.          0.          0.          0.          0.          0.          0.          0.          0.          0.          0.          0.          0.          0.          0.          0.          0.          0.          0.          0.          0.          0.          0.          0.          0.          0.         -0.00038114  0.          0.          0.          0.          0.          0.          0.          0.          0.          0.          0.          0.          0.          0.          0.          0.          0.          0.          0.          0.          0.          0.          0.          0.          0.          0.          0.          0.          0.          0.          0.          0.          0.          0.          0.          0.          0.          0.          0.          0.          0.          0.          0.          0.          0.          0.          0.         -0.00164441  0.          0.          0.          0.          0.          0.          0.          0.          0.          0.          0.          0.00315755  0.          0.         -0.00285756  0.          0.          0.          0.          0.          0.          0.          0.          0.          0.          0.          0.          0.          0.          0.          0.          0.          0.          0.          0.          0.          0.          0.          0.          0.          0.          0.          0.          0.          0.          0.          0.          0.00164441  0.          0.          0.          0.          0.          0.          0.          0.          0.          0.          0.          0.          0.          0.          0.          0.          0.          0.          0.          0.          0.          0.          0.         -0.00315755  0.          0.          0.          0.          0.          0.00285756  0.          0.          0.          0.          0.          0.          0.          0.          0.          0.          0.          0.          0.          0.          0.          0.          0.         -0.00584877  0.          0.          0.          0.          0.          0.          0.          0.          0.          0.          0.         -0.0117949   0.          0.          0.01098811  0.          0.          0.          0.          0.          0.          0.          0.          0.0117949   0.          0.          0.          0.          0.         -0.01098811  0.          0.          0.          0.          0.         -0.01666469  0.          0.         -0.01719217  0.          0.          0.01719217  0.          0.         -0.01119706  0.          0.          0.          0.          0.          0.          0.          0.          0.          0.          0.          0.          0.          0.          0.          0.          0.          0.          0.          0.          0.          0.          0.          0.          0.          0.          0.          0.          0.          0.          0.          0.          0.          0.          0.          0.          0.          0.          0.          0.          0.          0.          0.          0.          0.          0.          0.          0.          0.          0.         -0.00315755  0.          0.          0.          0.          0.          0.          0.          0.          0.          0.          0.          0.00779175  0.          0.         -0.00765435  0.          0.          0.          0.          0.          0.          0.          0.          0.          0.          0.          0.          0.          0.          0.          0.          0.          0.          0.          0.          0.          0.          0.          0.          0.          0.          0.          0.          0.          0.          0.          0.          0.          0.          0.          0.          0.          0.          0.          0.          0.          0.          0.          0.          0.00743813  0.          0.         -0.00931336  0.          0.          0.          0.          0.          0.          0.          0.          0.          0.          0.          0.00494626  0.          0.          0.          0.          0.          0.          0.          0.          0.          0.          0.          0.          0.          0.          0.          0.          0.          0.          0.          0.         -0.0117949   0.          0.          0.          0.          0.          0.          0.          0.          0.          0.          0.         -0.03038051  0.          0.          0.03064792  0.          0.          0.          0.          0.          0.          0.          0.          0.02294239  0.          0.          0.          0.          0.         -0.02133456  0.          0.          0.          0.          0.         -0.04291186  0.          0.         -0.04862681  0.          0.          0.04368055  0.          0.         -0.03111696  0.          0.          0.          0.          0.          0.          0.          0.          0.          0.          0.          0.          0.          0.          0.02288807  0.          0.         -0.02961281  0.          0.          0.          0.          0.          0.          0.          0.          0.          0.          0.         -0.01647718  0.          0.          0.          0.          0.          0.          0.          0.          0.0387832   0.          0.          0.05592816  0.          0.         -0.03945098  0.          0.          0.03562565  0.          0.          0.          0.          0.         -0.02195846  0.          0.          0.          0.          0.         -0.01509632  0.          0.          0.          0.          0.          0.          0.          0.          0.          0.          0.          0.          0.          0.          0.          0.          0.          0.          0.          0.          0.          0.          0.          0.          0.          0.          0.          0.          0.          0.          0.          0.          0.          0.          0.          0.          0.          0.          0.00315755  0.          0.          0.          0.          0.          0.          0.          0.          0.          0.          0.          0.          0.          0.          0.          0.          0.          0.          0.          0.          0.          0.          0.         -0.00779175  0.          0.          0.          0.          0.          0.00765435  0.          0.          0.          0.          0.          0.          0.          0.          0.          0.          0.          0.          0.          0.          0.          0.          0.          0.0117949   0.          0.          0.          0.          0.          0.          0.          0.          0.          0.          0.          0.02294239  0.          0.         -0.02133456  0.          0.          0.          0.          0.          0.          0.          0.         -0.03038051  0.          0.          0.          0.          0.          0.03064792  0.          0.          0.          0.          0.          0.04291186  0.          0.          0.04368055  0.          0.         -0.04862681  0.          0.          0.03111696  0.          0.          0.          0.          0.          0.          0.          0.          0.          0.          0.          0.          0.          0.          0.          0.          0.          0.          0.          0.          0.          0.          0.          0.          0.          0.          0.00743813  0.          0.          0.          0.          0.         -0.00931336  0.          0.          0.          0.          0.          0.          0.          0.          0.          0.          0.          0.          0.          0.          0.          0.          0.          0.          0.          0.          0.          0.          0.          0.00494626  0.          0.          0.          0.          0.          0.          0.          0.          0.          0.          0.          0.          0.          0.          0.          0.          0.         -0.02288807  0.          0.          0.          0.          0.          0.02961281  0.          0.          0.          0.          0.         -0.0387832   0.          0.         -0.03945098  0.          0.          0.05592816  0.          0.         -0.03562565  0.          0.          0.          0.          0.          0.          0.          0.         -0.01647718  0.          0.          0.          0.          0.          0.          0.          0.          0.          0.          0.          0.02195846  0.          0.          0.01509632  0.          0.          0.          0.          0.          0.          0.          0.          0.          0.          0.          0.          0.          0.          0.          0.          0.          0.          0.          0.          0.          0.          0.          0.          0.          0.         -0.01666469  0.          0.          0.          0.          0.          0.          0.          0.          0.          0.          0.         -0.04291186  0.          0.          0.04391345  0.          0.          0.          0.          0.          0.          0.          0.          0.04291186  0.          0.          0.          0.          0.         -0.04391345  0.          0.          0.          0.          0.         -0.08237838  0.          0.         -0.09292419  0.          0.          0.09292419  0.          0.         -0.06533255  0.          0.          0.          0.          0.          0.          0.          0.          0.          0.          0.          0.          0.          0.         -0.0387832   0.          0.          0.05094878  0.          0.          0.          0.          0.          0.          0.          0.          0.          0.          0.          0.02861109  0.          0.          0.          0.          0.          0.          0.          0.         -0.08374502  0.          0.         -0.12041065  0.          0.          0.09179956  0.          0.         -0.08210061  0.          0.          0.          0.          0.          0.04809122  0.          0.          0.          0.          0.          0.03562565  0.          0.          0.          0.          0.          0.          0.          0.          0.          0.          0.          0.          0.          0.          0.0387832   0.          0.          0.          0.          0.         -0.05094878  0.          0.          0.          0.          0.          0.08374502  0.          0.          0.09179956  0.          0.         -0.12041065  0.          0.          0.08210061  0.          0.          0.          0.          0.          0.          0.          0.          0.02861109  0.          0.          0.          0.          0.          0.          0.          0.          0.          0.          0.         -0.04809122  0.          0.         -0.03562565  0.          0.          0.          0.          0.          0.          0.          0.          0.          0.          0.          0.          0.          0.         -0.05451662  0.          0.         -0.07573202  0.          0.          0.07573202  0.          0.         -0.06533255  0.          0.          0.          0.          0.         -0.03292534  0.          0.          0.          0.          0.         -0.03111696  0.          0.          0.          0.          0.          0.          0.          0.          0.03292534  0.          0.          0.03111696  0.          0.          0.          0.          0.          0.          0.          0.          0.          0.          0.         -0.01119706  0.          0.          0.          0.          0.          0.          0.          0.          0.          0.          0.          0.          0.          0.          0.          0.          0.          0.          0.          0.          0.          0.          0.          0.          0.          0.          0.          0.          0.          0.          0.          0.          0.          0.          0.          0.          0.          0.          0.          0.          0.          0.          0.          0.          0.          0.          0.          0.          0.          0.          0.          0.          0.          0.          0.          0.          0.          0.          0.          0.          0.          0.         -0.00285756  0.          0.          0.          0.          0.          0.          0.          0.          0.          0.          0.          0.00765435  0.          0.         -0.0077836   0.          0.          0.          0.          0.          0.          0.          0.          0.          0.          0.          0.          0.          0.          0.          0.          0.          0.          0.          0.          0.          0.          0.          0.          0.          0.          0.          0.          0.          0.          0.          0.          0.          0.          0.          0.          0.          0.          0.          0.          0.          0.          0.          0.          0.00931336  0.          0.         -0.01208575  0.          0.          0.          0.          0.          0.          0.          0.          0.          0.          0.          0.0069977   0.          0.          0.          0.          0.          0.          0.          0.          0.          0.          0.          0.          0.          0.          0.          0.          0.          0.          0.          0.         -0.01098811  0.          0.          0.          0.          0.          0.          0.          0.          0.          0.          0.         -0.03064792  0.          0.          0.03198577  0.          0.          0.          0.          0.          0.          0.          0.          0.02133456  0.          0.          0.          0.          0.         -0.01990002  0.          0.          0.          0.          0.         -0.04391345  0.          0.         -0.05162069  0.          0.          0.04462299  0.          0.         -0.03292534  0.          0.          0.          0.          0.          0.          0.          0.          0.          0.          0.          0.          0.          0.          0.02961281  0.          0.         -0.03970946  0.          0.          0.          0.          0.          0.          0.          0.          0.          0.          0.         -0.02409683  0.          0.          0.          0.          0.          0.          0.          0.          0.05094878  0.          0.          0.07572421  0.          0.         -0.05162739  0.          0.          0.04809122  0.          0.          0.          0.          0.         -0.03192586  0.          0.          0.          0.          0.         -0.02195846  0.          0.          0.          0.          0.          0.          0.          0.          0.          0.          0.          0.          0.          0.          0.          0.          0.          0.          0.          0.          0.          0.          0.          0.          0.          0.          0.          0.          0.          0.          0.          0.          0.          0.          0.          0.          0.          0.          0.          0.          0.          0.          0.          0.          0.          0.          0.          0.          0.          0.          0.00494626  0.          0.         -0.0069977   0.          0.          0.          0.          0.          0.          0.          0.          0.          0.          0.          0.00525813  0.          0.          0.          0.          0.          0.          0.          0.          0.          0.          0.          0.          0.          0.          0.          0.          0.          0.          0.          0.          0.          0.          0.          0.          0.          0.          0.          0.          0.          0.          0.          0.          0.          0.          0.          0.          0.          0.          0.          0.          0.          0.          0.          0.          0.          0.          0.          0.00186826  0.          0.          0.          0.          0.          0.          0.          0.          0.          0.          0.          0.          0.          0.          0.          0.          0.          0.          0.          0.          0.          0.          0.          0.          0.          0.          0.          0.          0.          0.          0.          0.          0.01647718  0.          0.         -0.02409683  0.          0.          0.          0.          0.          0.          0.          0.          0.          0.          0.         -0.01899194  0.          0.          0.          0.          0.          0.          0.          0.          0.02861109  0.          0.          0.04563317  0.          0.         -0.0285095   0.          0.          0.02861109  0.          0.          0.          0.          0.         -0.02409683  0.          0.          0.          0.          0.         -0.01647718  0.          0.          0.          0.          0.          0.          0.          0.          0.          0.          0.          0.          0.          0.          0.          0.          0.          0.00525813  0.          0.          0.          0.          0.          0.          0.          0.          0.          0.          0.          0.          0.          0.          0.          0.          0.          0.          0.          0.          0.          0.          0.          0.0069977   0.          0.          0.          0.          0.          0.00494626  0.          0.          0.          0.          0.          0.          0.          0.          0.          0.          0.          0.          0.          0.          0.          0.          0.          0.          0.          0.          0.          0.          0.          0.          0.          0.          0.          0.          0.          0.          0.          0.          0.          0.          0.          0.          0.          0.         -0.01719217  0.          0.          0.          0.          0.          0.          0.          0.          0.          0.          0.         -0.04862681  0.          0.          0.05162069  0.          0.          0.          0.          0.          0.          0.          0.          0.04368055  0.          0.          0.          0.          0.         -0.04462299  0.          0.          0.          0.          0.         -0.09292419  0.          0.         -0.10901245  0.          0.          0.10375432  0.          0.         -0.07573202  0.          0.          0.          0.          0.          0.          0.          0.          0.          0.          0.          0.          0.          0.         -0.05592816  0.          0.          0.07572421  0.          0.          0.          0.          0.          0.          0.          0.          0.          0.          0.          0.04563317  0.          0.          0.          0.          0.          0.          0.          0.         -0.12041065  0.          0.         -0.17811039  0.          0.          0.13060895  0.          0.         -0.12041065  0.          0.          0.          0.          0.          0.07572421  0.          0.          0.          0.          0.          0.05592816  0.          0.          0.          0.          0.          0.          0.          0.          0.          0.          0.          0.          0.          0.          0.03945098  0.          0.          0.          0.          0.         -0.05162739  0.          0.          0.          0.          0.          0.09179956  0.          0.          0.10396771  0.          0.         -0.13060895  0.          0.          0.09179956  0.          0.          0.          0.          0.          0.          0.          0.          0.0285095   0.          0.          0.          0.          0.          0.          0.          0.          0.          0.          0.         -0.05162739  0.          0.         -0.03945098  0.          0.          0.          0.          0.          0.          0.          0.          0.          0.          0.          0.          0.          0.         -0.07573202  0.          0.         -0.10901245  0.          0.          0.10375432  0.          0.         -0.09292419  0.          0.          0.          0.          0.         -0.05162069  0.          0.          0.          0.          0.         -0.04862681  0.          0.          0.          0.          0.          0.          0.          0.          0.04462299  0.          0.          0.04368055  0.          0.          0.          0.          0.          0.          0.          0.          0.          0.          0.         -0.01719217  0.          0.          0.          0.          0.          0.          0.          0.          0.          0.          0.          0.          0.          0.          0.          0.          0.          0.          0.          0.          0.          0.          0.          0.          0.          0.          0.02195846  0.          0.         -0.03192586  0.          0.          0.          0.          0.          0.          0.          0.          0.          0.          0.         -0.02409683  0.          0.          0.          0.          0.          0.          0.          0.          0.04809122  0.          0.          0.07572421  0.          0.         -0.05162739  0.          0.          0.05094878  0.          0.          0.          0.          0.         -0.03970946  0.          0.          0.          0.          0.         -0.02961281  0.          0.          0.          0.          0.          0.          0.          0.          0.          0.          0.          0.          0.          0.          0.          0.          0.         -0.0069977   0.          0.          0.          0.          0.          0.          0.          0.          0.          0.          0.          0.          0.          0.          0.          0.          0.          0.          0.          0.          0.          0.          0.         -0.01208575  0.          0.          0.          0.          0.         -0.00931336  0.          0.          0.          0.          0.          0.          0.          0.          0.          0.          0.          0.          0.          0.          0.          0.          0.          0.          0.          0.          0.          0.          0.          0.          0.          0.          0.03292534  0.          0.          0.05162069  0.          0.         -0.04462299  0.          0.          0.04391345  0.          0.          0.          0.          0.          0.03198577  0.          0.          0.          0.          0.          0.03064792  0.          0.          0.          0.          0.          0.          0.          0.         -0.01990002  0.          0.         -0.02133456  0.          0.          0.          0.          0.          0.          0.          0.          0.          0.          0.          0.01098811  0.          0.          0.          0.          0.          0.          0.          0.          0.          0.          0.          0.          0.          0.          0.          0.          0.         -0.0077836   0.          0.          0.          0.          0.         -0.00765435  0.          0.          0.          0.          0.          0.          0.          0.          0.          0.          0.          0.          0.          0.          0.          0.          0.          0.          0.          0.          0.          0.          0.         -0.00285756  0.          0.          0.          0.          0.          0.          0.          0.          0.          0.          0.          0.          0.          0.          0.          0.          0.          0.          0.          0.          0.          0.          0.          0.          0.          0.          0.          0.          0.          0.          0.          0.          0.          0.          0.          0.          0.          0.          0.          0.          0.          0.          0.          0.          0.          0.          0.          0.          0.          0.          0.          0.          0.          0.          0.          0.          0.          0.          0.          0.          0.          0.          0.00285756  0.          0.          0.          0.          0.          0.          0.          0.          0.          0.          0.          0.          0.          0.          0.          0.          0.          0.          0.          0.          0.          0.          0.         -0.00765435  0.          0.          0.          0.          0.          0.0077836   0.          0.          0.          0.          0.          0.          0.          0.          0.          0.          0.          0.          0.          0.          0.          0.          0.          0.01098811  0.          0.          0.          0.          0.          0.          0.          0.          0.          0.          0.          0.02133456  0.          0.         -0.01990002  0.          0.          0.          0.          0.          0.          0.          0.         -0.03064792  0.          0.          0.          0.          0.          0.03198577  0.          0.          0.          0.          0.          0.04391345  0.          0.          0.04462299  0.          0.         -0.05162069  0.          0.          0.03292534  0.          0.          0.          0.          0.          0.          0.          0.          0.          0.          0.          0.          0.          0.          0.          0.          0.          0.          0.          0.          0.          0.          0.          0.          0.          0.          0.00931336  0.          0.          0.          0.          0.         -0.01208575  0.          0.          0.          0.          0.          0.          0.          0.          0.          0.          0.          0.          0.          0.          0.          0.          0.          0.          0.          0.          0.          0.          0.          0.0069977   0.          0.          0.          0.          0.          0.          0.          0.          0.          0.          0.          0.          0.          0.          0.          0.          0.         -0.02961281  0.          0.          0.          0.          0.          0.03970946  0.          0.          0.          0.          0.         -0.05094878  0.          0.         -0.05162739  0.          0.          0.07572421  0.          0.         -0.04809122  0.          0.          0.          0.          0.          0.          0.          0.         -0.02409683  0.          0.          0.          0.          0.          0.          0.          0.          0.          0.          0.          0.03192586  0.          0.          0.02195846  0.          0.          0.          0.          0.          0.          0.          0.          0.          0.          0.          0.          0.          0.          0.          0.          0.          0.          0.          0.          0.          0.          0.          0.          0.          0.          0.01719217  0.          0.          0.          0.          0.          0.          0.          0.          0.          0.          0.          0.04368055  0.          0.         -0.04462299  0.          0.          0.          0.          0.          0.          0.          0.         -0.04862681  0.          0.          0.          0.          0.          0.05162069  0.          0.          0.          0.          0.          0.09292419  0.          0.          0.10375432  0.          0.         -0.10901245  0.          0.          0.07573202  0.          0.          0.          0.          0.          0.          0.          0.          0.          0.          0.          0.          0.          0.          0.03945098  0.          0.         -0.05162739  0.          0.          0.          0.          0.          0.          0.          0.          0.          0.          0.         -0.0285095   0.          0.          0.          0.          0.          0.          0.          0.          0.09179956  0.          0.          0.13060895  0.          0.         -0.10396771  0.          0.          0.09179956  0.          0.          0.          0.          0.         -0.05162739  0.          0.          0.          0.          0.         -0.03945098  0.          0.          0.          0.          0.          0.          0.          0.          0.          0.          0.          0.          0.          0.         -0.05592816  0.          0.          0.          0.          0.          0.07572421  0.          0.          0.          0.          0.         -0.12041065  0.          0.         -0.13060895  0.          0.          0.17811039  0.          0.         -0.12041065  0.          0.          0.          0.          0.          0.          0.          0.         -0.04563317  0.          0.          0.          0.          0.          0.          0.          0.          0.          0.          0.          0.07572421  0.          0.          0.05592816  0.          0.          0.          0.          0.          0.          0.          0.          0.          0.          0.          0.          0.          0.          0.07573202  0.          0.          0.10375432  0.          0.         -0.10901245  0.          0.          0.09292419  0.          0.          0.          0.          0.          0.04462299  0.          0.          0.          0.          0.          0.04368055  0.          0.          0.          0.          0.          0.          0.          0.         -0.05162069  0.          0.         -0.04862681  0.          0.          0.          0.          0.          0.          0.          0.          0.          0.          0.          0.01719217  0.          0.          0.          0.          0.          0.          0.          0.          0.          0.          0.          0.          0.          0.          0.          0.          0.          0.          0.          0.          0.          0.          0.          0.          0.          0.          0.          0.          0.          0.          0.          0.          0.          0.          0.          0.          0.          0.          0.00494626  0.          0.          0.          0.          0.         -0.0069977   0.          0.          0.          0.          0.          0.          0.          0.          0.          0.          0.          0.          0.          0.          0.          0.          0.          0.          0.          0.          0.          0.          0.          0.00525813  0.          0.          0.          0.          0.          0.          0.          0.          0.          0.          0.          0.          0.          0.          0.          0.          0.          0.01647718  0.          0.          0.          0.          0.         -0.02409683  0.          0.          0.          0.          0.          0.02861109  0.          0.          0.0285095   0.          0.         -0.04563317  0.          0.          0.02861109  0.          0.          0.          0.          0.          0.          0.          0.          0.01899194  0.          0.          0.          0.          0.          0.          0.          0.          0.          0.          0.         -0.02409683  0.          0.         -0.01647718  0.          0.          0.          0.          0.          0.          0.          0.          0.          0.          0.          0.          0.          0.          0.          0.          0.          0.          0.          0.          0.          0.          0.          0.          0.          0.          0.          0.          0.          0.          0.          0.         -0.00186826  0.          0.          0.          0.          0.          0.          0.          0.          0.          0.          0.          0.          0.          0.          0.          0.          0.          0.          0.          0.          0.          0.          0.          0.          0.          0.          0.          0.          0.          0.          0.          0.          0.          0.          0.          0.          0.          0.          0.          0.          0.          0.          0.          0.          0.          0.          0.          0.00525813  0.          0.          0.          0.          0.          0.          0.          0.          0.          0.          0.          0.0069977   0.          0.          0.00494626  0.          0.          0.          0.          0.          0.          0.          0.          0.          0.          0.          0.          0.          0.          0.          0.          0.          0.          0.          0.          0.          0.          0.          0.          0.          0.          0.          0.          0.          0.          0.          0.          0.          0.          0.          0.          0.          0.          0.          0.          0.          0.          0.          0.          0.          0.          0.          0.          0.          0.         -0.02195846  0.          0.          0.          0.          0.          0.03192586  0.          0.          0.          0.          0.         -0.04809122  0.          0.         -0.05162739  0.          0.          0.07572421  0.          0.         -0.05094878  0.          0.          0.          0.          0.          0.          0.          0.         -0.02409683  0.          0.          0.          0.          0.          0.          0.          0.          0.          0.          0.          0.03970946  0.          0.          0.02961281  0.          0.          0.          0.          0.          0.          0.          0.          0.          0.          0.          0.          0.          0.         -0.03292534  0.          0.         -0.04462299  0.          0.          0.05162069  0.          0.         -0.04391345  0.          0.          0.          0.          0.         -0.01990002  0.          0.          0.          0.          0.         -0.02133456  0.          0.          0.          0.          0.          0.          0.          0.          0.03198577  0.          0.          0.03064792  0.          0.          0.          0.          0.          0.          0.          0.          0.          0.          0.         -0.01098811  0.          0.          0.          0.          0.          0.          0.          0.          0.          0.          0.          0.          0.          0.          0.          0.          0.          0.          0.          0.         -0.0069977   0.          0.          0.          0.          0.          0.          0.          0.          0.          0.          0.         -0.01208575  0.          0.         -0.00931336  0.          0.          0.          0.          0.          0.          0.          0.          0.          0.          0.          0.          0.          0.          0.          0.          0.          0.          0.          0.          0.          0.          0.          0.          0.          0.          0.          0.          0.          0.          0.          0.          0.          0.          0.          0.          0.          0.          0.          0.          0.          0.          0.          0.          0.0077836   0.          0.          0.00765435  0.          0.          0.          0.          0.          0.          0.          0.          0.          0.          0.          0.00285756  0.          0.          0.          0.          0.          0.          0.          0.          0.          0.          0.          0.          0.          0.          0.          0.          0.          0.          0.          0.          0.          0.          0.          0.          0.          0.          0.          0.          0.          0.          0.          0.          0.          0.          0.          0.          0.          0.          0.          0.          0.          0.          0.          0.          0.          0.          0.          0.          0.          0.          0.          0.          0.          0.          0.          0.          0.          0.          0.          0.          0.          0.         -0.01119706  0.          0.          0.          0.          0.          0.          0.          0.          0.          0.          0.         -0.03111696  0.          0.          0.03292534  0.          0.          0.          0.          0.          0.          0.          0.          0.03111696  0.          0.          0.          0.          0.         -0.03292534  0.          0.          0.          0.          0.         -0.06533255  0.          0.         -0.07573202  0.          0.          0.07573202  0.          0.         -0.05451662  0.          0.          0.          0.          0.          0.          0.          0.          0.          0.          0.          0.          0.          0.         -0.03562565  0.          0.          0.04809122  0.          0.          0.          0.          0.          0.          0.          0.          0.          0.          0.          0.02861109  0.          0.          0.          0.          0.          0.          0.          0.         -0.08210061  0.          0.         -0.12041065  0.          0.          0.09179956  0.          0.         -0.08374502  0.          0.          0.          0.          0.          0.05094878  0.          0.          0.          0.          0.          0.0387832   0.          0.          0.          0.          0.          0.          0.          0.          0.          0.          0.          0.          0.          0.          0.03562565  0.          0.          0.          0.          0.         -0.04809122  0.          0.          0.          0.          0.          0.08210061  0.          0.          0.09179956  0.          0.         -0.12041065  0.          0.          0.08374502  0.          0.          0.          0.          0.          0.          0.          0.          0.02861109  0.          0.          0.          0.          0.          0.          0.          0.          0.          0.          0.         -0.05094878  0.          0.         -0.0387832   0.          0.          0.          0.          0.          0.          0.          0.          0.          0.          0.          0.          0.          0.         -0.06533255  0.          0.         -0.09292419  0.          0.          0.09292419  0.          0.         -0.08237838  0.          0.          0.          0.          0.         -0.04391345  0.          0.          0.          0.          0.         -0.04291186  0.          0.          0.          0.          0.          0.          0.          0.          0.04391345  0.          0.          0.04291186  0.          0.          0.          0.          0.          0.          0.          0.          0.          0.          0.         -0.01666469  0.          0.          0.          0.          0.          0.          0.          0.          0.          0.          0.          0.          0.          0.          0.          0.          0.          0.          0.          0.          0.          0.          0.          0.          0.          0.         -0.01509632  0.          0.          0.02195846  0.          0.          0.          0.          0.          0.          0.          0.          0.          0.          0.          0.01647718  0.          0.          0.          0.          0.          0.          0.          0.         -0.03562565  0.          0.         -0.05592816  0.          0.          0.03945098  0.          0.         -0.0387832   0.          0.          0.          0.          0.          0.02961281  0.          0.          0.          0.          0.          0.02288807  0.          0.          0.          0.          0.          0.          0.          0.          0.          0.          0.          0.          0.          0.          0.          0.          0.          0.00494626  0.          0.          0.          0.          0.          0.          0.          0.          0.          0.          0.          0.          0.          0.          0.          0.          0.          0.          0.          0.          0.          0.          0.          0.00931336  0.          0.          0.          0.          0.          0.00743813  0.          0.          0.          0.          0.          0.          0.          0.          0.          0.          0.          0.          0.          0.          0.          0.          0.          0.          0.          0.          0.          0.          0.          0.          0.          0.         -0.03111696  0.          0.         -0.04862681  0.          0.          0.04368055  0.          0.         -0.04291186  0.          0.          0.          0.          0.         -0.03064792  0.          0.          0.          0.          0.         -0.03038051  0.          0.          0.          0.          0.          0.          0.          0.          0.02133456  0.          0.          0.02294239  0.          0.          0.          0.          0.          0.          0.          0.          0.          0.          0.         -0.0117949   0.          0.          0.          0.          0.          0.          0.          0.          0.          0.          0.          0.          0.          0.          0.          0.          0.          0.00765435  0.          0.          0.          0.          0.          0.00779175  0.          0.          0.          0.          0.          0.          0.          0.          0.          0.          0.          0.          0.          0.          0.          0.          0.          0.          0.          0.          0.          0.          0.          0.00315755  0.          0.          0.          0.          0.          0.          0.          0.          0.          0.          0.          0.          0.          0.          0.          0.          0.          0.          0.          0.          0.          0.          0.          0.          0.          0.          0.          0.          0.          0.          0.          0.          0.          0.          0.          0.          0.          0.          0.01509632  0.          0.          0.          0.          0.         -0.02195846  0.          0.          0.          0.          0.          0.03562565  0.          0.          0.03945098  0.          0.         -0.05592816  0.          0.          0.0387832   0.          0.          0.          0.          0.          0.          0.          0.          0.01647718  0.          0.          0.          0.          0.          0.          0.          0.          0.          0.          0.         -0.02961281  0.          0.         -0.02288807  0.          0.          0.          0.          0.          0.          0.          0.          0.          0.          0.          0.          0.          0.          0.03111696  0.          0.          0.04368055  0.          0.         -0.04862681  0.          0.          0.04291186  0.          0.          0.          0.          0.          0.02133456  0.          0.          0.          0.          0.          0.02294239  0.          0.          0.          0.          0.          0.          0.          0.         -0.03064792  0.          0.         -0.03038051  0.          0.          0.          0.          0.          0.          0.          0.          0.          0.          0.          0.0117949   0.          0.          0.          0.          0.          0.          0.          0.          0.          0.          0.          0.          0.          0.          0.          0.          0.          0.          0.          0.          0.00494626  0.          0.          0.          0.          0.          0.          0.          0.          0.          0.          0.          0.00931336  0.          0.          0.00743813  0.          0.          0.          0.          0.          0.          0.          0.          0.          0.          0.          0.          0.          0.          0.          0.          0.          0.          0.          0.          0.          0.          0.          0.          0.          0.          0.          0.          0.          0.          0.          0.          0.          0.          0.          0.          0.          0.          0.          0.          0.          0.          0.          0.         -0.00765435  0.          0.         -0.00779175  0.          0.          0.          0.          0.          0.          0.          0.          0.          0.          0.         -0.00315755  0.          0.          0.          0.          0.          0.          0.          0.          0.          0.          0.          0.          0.          0.          0.          0.          0.          0.          0.          0.          0.          0.          0.          0.          0.          0.          0.          0.          0.          0.          0.          0.          0.          0.          0.          0.          0.          0.          0.          0.          0.          0.          0.          0.          0.          0.          0.          0.          0.          0.         -0.01119706  0.          0.         -0.01719217  0.          0.          0.01719217  0.          0.         -0.01666469  0.          0.          0.          0.          0.         -0.01098811  0.          0.          0.          0.          0.         -0.0117949   0.          0.          0.          0.          0.          0.          0.          0.          0.01098811  0.          0.          0.0117949   0.          0.          0.          0.          0.          0.          0.          0.          0.          0.          0.         -0.00584877  0.          0.          0.          0.          0.          0.          0.          0.          0.          0.          0.          0.          0.          0.          0.          0.          0.         -0.00285756  0.          0.          0.          0.          0.         -0.00315755  0.          0.          0.          0.          0.          0.          0.          0.          0.          0.          0.          0.          0.          0.          0.          0.          0.          0.          0.          0.          0.          0.          0.         -0.00164441  0.          0.          0.          0.          0.          0.          0.          0.          0.          0.          0.          0.          0.          0.          0.          0.          0.          0.          0.          0.          0.          0.          0.          0.          0.          0.          0.          0.          0.          0.          0.          0.          0.00285756  0.          0.          0.00315755  0.          0.          0.          0.          0.          0.          0.          0.          0.          0.          0.          0.00164441  0.          0.          0.          0.          0.          0.          0.          0.          0.          0.          0.          0.          0.          0.          0.          0.          0.          0.          0.          0.          0.          0.          0.          0.          0.          0.          0.          0.          0.          0.          0.          0.          0.          0.          0.          0.          0.          0.          0.          0.          0.          0.          0.          0.          0.          0.          0.         -0.00038114  0.          0.          0.          0.          0.          0.          0.          0.          0.          0.          0.          0.          0.          0.          0.          0.          0.          0.          0.          0.          0.          0.          0.          0.          0.          0.          0.          0.          0.          0.          0.          0.          0.          0.          0.          0.          0.          0.          0.          0.          0.          0.          0.          0.          0.          0.          0.          0.          0.          0.          0.          0.          0.          0.          0.          0.          0.          0.          0.          0.          0.          0.          0.        ]\n"
     ]
    }
   ],
   "execution_count": 126
  },
  {
   "metadata": {
    "ExecuteTime": {
     "end_time": "2024-07-17T19:23:51.802066Z",
     "start_time": "2024-07-17T19:23:51.779486Z"
    }
   },
   "cell_type": "code",
   "source": [
    "measured_num_particles, measured_s_z, measured_s_squared, S_val, m_squared = (\n",
    "    get_observables(\n",
    "        eigvals,\n",
    "        eigvec_sparse,\n",
    "        n_total_op,\n",
    "        n_u_list,\n",
    "        n_d_list,\n",
    "        a_u_dag_list,\n",
    "        a_d_list,\n",
    "        a_d_dag_list,\n",
    "        a_u_list,\n",
    "        4\n",
    "    )\n",
    ")\n",
    "print(measured_num_particles)\n",
    "print(measured_s_z)"
   ],
   "id": "8048af975c60385b",
   "outputs": [
    {
     "name": "stdout",
     "output_type": "stream",
     "text": [
      "5.999999999999998\n",
      "0.0\n"
     ]
    }
   ],
   "execution_count": 127
  },
  {
   "metadata": {},
   "cell_type": "code",
   "outputs": [],
   "execution_count": null,
   "source": "",
   "id": "3c03b2c230ff47fb"
  }
 ],
 "metadata": {
  "kernelspec": {
   "display_name": "Python 3",
   "language": "python",
   "name": "python3"
  },
  "language_info": {
   "codemirror_mode": {
    "name": "ipython",
    "version": 2
   },
   "file_extension": ".py",
   "mimetype": "text/x-python",
   "name": "python",
   "nbconvert_exporter": "python",
   "pygments_lexer": "ipython2",
   "version": "2.7.6"
  }
 },
 "nbformat": 4,
 "nbformat_minor": 5
}
