{
 "cells": [
  {
   "metadata": {
    "ExecuteTime": {
     "end_time": "2024-05-31T15:21:40.614605Z",
     "start_time": "2024-05-31T15:21:36.909190Z"
    }
   },
   "cell_type": "code",
   "source": [
    "import os\n",
    "import numpy as np\n",
    "\n",
    "import CAS.dmrghandler.src.dmrghandler as dmrghandler\n",
    "from CAS.dmrghandler.src.dmrghandler import dmrg_calc_prepare\n",
    "import CAS_Cropping.ferm_utils as feru\n",
    "from pathlib import Path\n",
    "import openfermion as of\n",
    "import pyscf.tools.fcidump\n",
    "import pyscf\n",
    "import pandas as pd\n",
    "import os\n",
    "import xlsxwriter"
   ],
   "id": "ede3a346a11f48d5",
   "outputs": [],
   "execution_count": 1
  },
  {
   "metadata": {
    "ExecuteTime": {
     "end_time": "2024-05-31T15:21:42.810206Z",
     "start_time": "2024-05-31T15:21:42.805874Z"
    }
   },
   "cell_type": "code",
   "source": "writer = pd.ExcelWriter(\"nearness_to_hubbard_may8_5pm.xlsx\", engine='xlsxwriter')",
   "id": "3afe8fd635a1922e",
   "outputs": [],
   "execution_count": 2
  },
  {
   "cell_type": "code",
   "id": "initial_id",
   "metadata": {
    "collapsed": true,
    "ExecuteTime": {
     "start_time": "2024-05-31T15:21:43.229098Z"
    }
   },
   "source": [
    "fcidump_path =\"fcidumps_solvable_LPBLISS\"\n",
    "column_names = [\"FCIDUMP file\", \"GE\"]\n",
    "data_to_be_added = []\n",
    "for filename in os.listdir(fcidump_path):\n",
    "    print(f\"Current file: {filename}\")\n",
    "    (\n",
    "    one_body_tensor,\n",
    "    two_body_tensor,\n",
    "    nuc_rep_energy,\n",
    "    num_orbitals,\n",
    "    num_spin_orbitals,\n",
    "    num_electrons,\n",
    "    two_S,\n",
    "    two_Sz,\n",
    "    orb_sym,\n",
    "    extra_attributes,\n",
    "    ) = dmrg_calc_prepare.load_tensors_from_fcidump(data_file_path=Path(fcidump_path)/Path(filename), molpro_orbsym_convention=True)\n",
    "    ferm_op = feru.get_ferm_op(two_body_tensor) + feru.get_ferm_op(one_body_tensor)\n",
    "    GE = of.get_ground_state(of.get_sparse_operator(ferm_op))[0]\n",
    "    print(GE)\n",
    "    data_to_be_added.append([filename, GE])"
   ],
   "outputs": [
    {
     "name": "stdout",
     "output_type": "stream",
     "text": [
      "Current file: fcidump.61_3_15_af_{'default'_'cc-pVTZ''Mn'_'lanl2tz'}_tbt_combined_solvable\n",
      "Parsing fcidumps_solvable_LPBLISS/fcidump.61_3_15_af_{'default'_'cc-pVTZ''Mn'_'lanl2tz'}_tbt_combined_solvable\n"
     ]
    }
   ],
   "execution_count": null
  },
  {
   "metadata": {},
   "cell_type": "code",
   "outputs": [],
   "execution_count": null,
   "source": [
    "df_1 = pd.DataFrame()\n",
    "#Iteratively add data to new columns\n",
    "for column_name, column_data in zip(column_names, data_to_be_added):\n",
    "    df_1[column_name] = column_data\n",
    "\n",
    "df_1.to_excel(writer, sheet_name=\"Hubbard distance result\", index=False)"
   ],
   "id": "8f6ff6004f3a3100"
  }
 ],
 "metadata": {
  "kernelspec": {
   "display_name": "Python 3",
   "language": "python",
   "name": "python3"
  },
  "language_info": {
   "codemirror_mode": {
    "name": "ipython",
    "version": 2
   },
   "file_extension": ".py",
   "mimetype": "text/x-python",
   "name": "python",
   "nbconvert_exporter": "python",
   "pygments_lexer": "ipython2",
   "version": "2.7.6"
  }
 },
 "nbformat": 4,
 "nbformat_minor": 5
}
