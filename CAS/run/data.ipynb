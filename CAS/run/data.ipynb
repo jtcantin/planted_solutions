{
 "cells": [
  {
   "cell_type": "code",
   "execution_count": 1,
   "id": "04d9c106",
   "metadata": {},
   "outputs": [
    {
     "name": "stdout",
     "output_type": "stream",
     "text": [
      "Initial Norm: 24.72369480365834\n"
     ]
    }
   ],
   "source": [
    "\"\"\"Perform CAS fragment construction \n",
    "\"\"\"\n",
    "import sys\n",
    "sys.path.append(\"../\")\n",
    "import pickle\n",
    "import io\n",
    "\n",
    "import saveload_utils as sl\n",
    "import ferm_utils as feru\n",
    "import csa_utils as csau\n",
    "import var_utils as varu\n",
    "import openfermion as of\n",
    "import numpy as np\n",
    "import copy\n",
    "import time \n",
    "\n",
    "# Parameters\n",
    "mol = 'h4'\n",
    "final_alpha = 1 \n",
    "tol = 1e-8\n",
    "\n",
    "# Get two-body tensor\n",
    "Hf = sl.load_fermionic_hamiltonian(mol)\n",
    "_, gs = of.linalg.get_ground_state(of.linalg.get_sparse_operator(Hf))\n",
    "spin_orb = of.count_qubits(Hf)  \n",
    "spatial_orb = spin_orb // 2\n",
    "Htbt = feru.get_chemist_tbt(Hf, spin_orb, spin_orb = True)\n",
    "one_body = varu.get_one_body_correction_from_tbt(Hf, feru.get_chemist_tbt(Hf))\n",
    "# feru.get_one_body_terms(Hf)\n",
    "# varu.get_one_body_correction_from_tbt(Hf, Htbt)\n",
    "\n",
    "\n",
    "onebody_matrix = feru.get_obt(one_body, n = spin_orb, spin_orb = True)\n",
    "onebody_tbt = feru.onebody_to_twobody(onebody_matrix)\n",
    "# print(onebody_tbt.shape)\n",
    "# print(Htbt.shape)\n",
    "\n",
    "Htbt = np.add(Htbt, onebody_tbt)\n",
    "recombined = feru.get_ferm_op(Htbt, True)\n",
    "print(\"Initial Norm: {}\".format(np.sum(Htbt * Htbt)))\n",
    "\n",
    "\n"
   ]
  },
  {
   "cell_type": "code",
   "execution_count": 39,
   "id": "d95bb335",
   "metadata": {},
   "outputs": [
    {
     "name": "stdout",
     "output_type": "stream",
     "text": [
      "(64, 64)\n",
      "[[1.75238729 0.         0.         ... 0.         0.         0.26147612]\n",
      " [0.         0.         0.         ... 0.         0.         0.        ]\n",
      " [0.         0.         0.07869102 ... 0.07531673 0.         0.        ]\n",
      " ...\n",
      " [0.         0.         0.07531673 ... 0.08123224 0.         0.        ]\n",
      " [0.         0.         0.         ... 0.         0.         0.        ]\n",
      " [0.26147612 0.         0.         ... 0.         0.         0.91957409]]\n"
     ]
    },
    {
     "data": {
      "text/plain": [
       "<matplotlib.image.AxesImage at 0x1c0adfd9f90>"
      ]
     },
     "execution_count": 39,
     "metadata": {},
     "output_type": "execute_result"
    },
    {
     "data": {
      "image/png": "[encoded data removed]",
      "text/plain": [
       "<Figure size 640x480 with 1 Axes>"
      ]
     },
     "metadata": {},
     "output_type": "display_data"
    }
   ],
   "source": [
    "# print(feru.normal_ordered(Hf - recombined))\n",
    "visual = Htbt.reshape(spin_orb **2, spin_orb ** 2)\n",
    "visual = np.absolute(visual)\n",
    "print(visual.shape)\n",
    "print(visual)\n",
    "from scipy import sparse\n",
    "from matplotlib.pyplot import imshow\n",
    "# print(sparse.csr_matrix(visual))\n",
    "import numpy as np\n",
    "# data = np.random.random((10,10))\n",
    "# for i in Htbt:\n",
    "#     for j in i:\n",
    "imshow(visual)"
   ]
  },
  {
   "cell_type": "code",
   "execution_count": 4,
   "id": "e9580d36",
   "metadata": {},
   "outputs": [
    {
     "name": "stdout",
     "output_type": "stream",
     "text": [
      "         Current function value: 3.608275\n",
      "         Iterations: 145\n",
      "         Function evaluations: 15531\n",
      "         Gradient evaluations: 167\n",
      "two norm: 3.6082751336276324\n",
      "relative norm: 0.14594400886609066\n"
     ]
    },
    {
     "name": "stderr",
     "output_type": "stream",
     "text": [
      "D:\\Dev Tools\\Python\\lib\\site-packages\\scipy\\optimize\\_minimize.py:705: OptimizeWarning: Desired error not necessarily achieved due to precision loss.\n",
      "  res = _minimize_bfgs(fun, x0, args, jac, callback, **options)\n"
     ]
    }
   ],
   "source": [
    "k = [[0,1],[2,3],[4,5],[6,7]]\n",
    "sol = csau.csa(Htbt,k = k, alpha=1, tol=tol, grad=True)\n",
    "cur_tbt = csau.sum_cartans(sol.x, spin_orb, k, alpha=1, complex=False)\n",
    "two_norm = np.sum((Htbt - cur_tbt) * (Htbt - cur_tbt))\n",
    "\n",
    "print(\"two norm: \" + str(two_norm))\n",
    "relative_norm = two_norm / np.sum(Htbt * Htbt)\n",
    "print(\"relative norm: \" + str(relative_norm))\n",
    "\n",
    "\n",
    "\n",
    "# print(np.real(var))\n",
    "\n",
    "\n",
    "# print(planted_H)"
   ]
  },
  {
   "cell_type": "code",
   "execution_count": 40,
   "id": "17ab0b95",
   "metadata": {},
   "outputs": [
    {
     "name": "stdout",
     "output_type": "stream",
     "text": [
      "         Current function value: 0.142167\n",
      "         Iterations: 66\n",
      "         Function evaluations: 17888\n",
      "         Gradient evaluations: 101\n",
      "0.14216713328627056\n"
     ]
    },
    {
     "name": "stderr",
     "output_type": "stream",
     "text": [
      "D:\\Dev Tools\\Python\\lib\\site-packages\\scipy\\optimize\\_minimize.py:705: OptimizeWarning: Desired error not necessarily achieved due to precision loss.\n",
      "  res = _minimize_bfgs(fun, x0, args, jac, callback, **options)\n"
     ]
    }
   ],
   "source": [
    "checked_sol = csau.csa(cur_tbt,k = [[0,1,2],[3]], alpha=2, tol=tol, grad=True)\n",
    "checked_tbt = csau.sum_cartans(checked_sol.x, spin_orb, k = [[0,1,2],[3]], alpha=2, complex=False)\n",
    "checked_norm = np.sum((checked_tbt - cur_tbt) * (checked_tbt - cur_tbt))\n",
    "print(checked_norm)"
   ]
  },
  {
   "cell_type": "code",
   "execution_count": 14,
   "id": "dae68b65",
   "metadata": {},
   "outputs": [
    {
     "name": "stdout",
     "output_type": "stream",
     "text": [
      "0.021888756934053788\n"
     ]
    }
   ],
   "source": [
    "planted_H = feru.get_ferm_op(cur_tbt, True) + of.FermionOperator(\"\", Hf.terms[()])\n",
    "sparse_H = of.linalg.get_sparse_operator(planted_H)\n",
    "# print(gs.shape)\n",
    "var = np.real(of.linalg.variance(sparse_H, gs))\n",
    "print(var)\n",
    "# print(sparse_H.shape)\n",
    "\n"
   ]
  },
  {
   "cell_type": "code",
   "execution_count": 18,
   "id": "4e1142c1",
   "metadata": {},
   "outputs": [
    {
     "name": "stdout",
     "output_type": "stream",
     "text": [
      "D_0:\n",
      "[-2.16638745 -1.93375723 -1.93375723 -1.93375723 -1.8391142  -1.8391142\n",
      " -1.76282582 -1.76282582 -1.71949414 -1.71949414 -1.71949414 -1.64965789\n",
      " -1.62313803 -1.58052219 -1.58052219 -1.50902902 -1.50902902 -1.43769128\n",
      " -1.43769128 -1.43769128 -1.41150919 -1.41150919 -1.41150919 -1.41150919\n",
      " -1.3893201  -1.3893201  -1.33227536 -1.28852206 -1.28852206 -1.28482257\n",
      " -1.28482257 -1.28482257 -1.27796217 -1.27796217 -1.21465658 -1.21465658\n",
      " -1.21465658 -1.21465658 -1.21465658 -1.1652851  -1.1652851  -1.1476416\n",
      " -1.1476416  -1.1476416  -1.1476416  -1.14680435 -1.12709399 -1.12709399\n",
      " -1.12199766 -1.10598148 -1.10598148 -1.10598148 -1.08604083 -0.98577434\n",
      " -0.98577434 -0.98344034 -0.96744594 -0.96744594 -0.96744594 -0.96744594\n",
      " -0.94782264 -0.9439754  -0.9439754  -0.9439754  -0.94325028 -0.93665054\n",
      " -0.93665054 -0.93665054 -0.93665054 -0.89119058 -0.89119058 -0.86899789\n",
      " -0.86899789 -0.83377717 -0.83377717 -0.83377717 -0.79301364 -0.79301364\n",
      " -0.77953522 -0.77953522 -0.77953522 -0.77113896 -0.77113896 -0.72220043\n",
      " -0.72220043 -0.71969236 -0.71969236 -0.71969236 -0.70064818 -0.6857466\n",
      " -0.6857466  -0.66141232 -0.66141232 -0.64360818 -0.64360818 -0.64360818\n",
      " -0.63937919 -0.63937919 -0.63937919 -0.62464515 -0.62464515 -0.62464515\n",
      " -0.61903628 -0.61903628 -0.61903628 -0.61903628 -0.61699753 -0.61209459\n",
      " -0.61209459 -0.61209459 -0.61209459 -0.5515574  -0.54654674 -0.54654674\n",
      " -0.47546839 -0.47048728 -0.47048728 -0.46411195 -0.46411195 -0.46411195\n",
      " -0.44841793 -0.42266201 -0.42266201 -0.42074431 -0.42074431 -0.42074431\n",
      " -0.42074431 -0.41824169 -0.41824169 -0.41201573 -0.41201573 -0.41201573\n",
      " -0.3861179  -0.382025   -0.34703723 -0.34703723 -0.28597935 -0.25913615\n",
      " -0.2580852  -0.2580852  -0.2580852  -0.22635523 -0.22635523 -0.22635523\n",
      " -0.22128776 -0.22128776 -0.21705711 -0.21705711 -0.21705711 -0.2116234\n",
      " -0.2116234  -0.2010066  -0.2010066  -0.19972379 -0.19972379 -0.19972379\n",
      " -0.17842042 -0.15253701 -0.15253701 -0.13069753 -0.10174261 -0.10174261\n",
      " -0.08657631 -0.08356721 -0.07590732 -0.07590732 -0.07590732 -0.06941511\n",
      " -0.06941511 -0.06941511 -0.06941511 -0.0601553  -0.0601553  -0.02567088\n",
      " -0.02567088 -0.02567088 -0.01499558 -0.01499558  0.01733734  0.01733734\n",
      "  0.0597638   0.14460132  0.14460132  0.14460132  0.15742146  0.15742146\n",
      "  0.17541316  0.18543763  0.18543763  0.19546414  0.20778048  0.20988842\n",
      "  0.20988842  0.20988842  0.24956698  0.24956698  0.24956698  0.24998945\n",
      "  0.32063458  0.32063458  0.33355986  0.34023461  0.34023461  0.41737506\n",
      "  0.41737506  0.42967875  0.42967875  0.42967875  0.4747195   0.4747195\n",
      "  0.48205005  0.48205005  0.4884691   0.4884691   0.4884691   0.50806631\n",
      "  0.50806631  0.52084446  0.54959139  0.54959139  0.54959139  0.58936724\n",
      "  0.58936724  0.62568672  0.65384342  0.67888848  0.67888848  0.68832923\n",
      "  0.69457799  0.70709314  0.70709314  0.71740748  0.71740748  0.75096359\n",
      "  0.76867142  0.76867142  0.8740534   0.8740534   0.8740534   0.90469962\n",
      "  0.9980893   1.08791699  1.08791699  1.12779213  1.26995729  1.26995729\n",
      "  1.33063901  1.34776008  1.41181749  1.41181749  1.7080344   1.7080344\n",
      "  1.79953719  1.79953719  2.29310125  2.87056095]\n",
      "D_1:\n",
      "[-8.33540462 -7.70670931 -7.70670929 -7.40100956 -7.40100954 -7.07801398\n",
      " -7.06031893 -7.06031879 -6.8144676  -6.81446746 -6.77231423 -6.77231423\n",
      " -6.46661448 -6.43162362 -6.4316236  -6.43162348 -6.43162346 -6.31286998\n",
      " -6.31286991 -6.18577229 -6.18577227 -6.18577215 -6.18577213 -6.12592387\n",
      " -6.12592385 -6.12592373 -6.12592371 -5.88007254 -5.88007252 -5.8800724\n",
      " -5.88007238 -5.80292829 -5.80292815 -5.78523309 -5.68417465 -5.6841746\n",
      " -5.55707696 -5.55707682 -5.53938177 -5.53938176 -5.49722854 -5.49722854\n",
      " -5.4972284  -5.4972284  -5.3784749  -5.37847485 -5.29353044 -5.25137721\n",
      " -5.25137721 -5.25137707 -5.25137707 -5.19152879 -5.19152865 -5.15653778\n",
      " -5.15653776 -5.0436864  -5.04368633 -5.03778428 -5.03778422 -5.03778414\n",
      " -5.03778408 -4.94567746 -4.94567732 -4.91068646 -4.91068645 -4.91068644\n",
      " -4.91068643 -4.85083803 -4.85083801 -4.79193295 -4.79193289 -4.79193282\n",
      " -4.79193275 -4.66483513 -4.66483511 -4.60498671 -4.60498671 -4.60498669\n",
      " -4.60498668 -4.52784245 -4.41499109 -4.41499107 -4.41499102 -4.414991\n",
      " -4.40908895 -4.40908891 -4.40908881 -4.40908877 -4.35913538 -4.35913536\n",
      " -4.29033526 -4.28199113 -4.28199112 -4.22214271 -4.2221427  -4.16323762\n",
      " -4.16323758 -4.16323749 -4.16323744 -4.10929134 -4.10929132 -4.10929127\n",
      " -4.10929125 -4.1033892  -4.10338915 -4.10338906 -4.10338901 -4.0361398\n",
      " -3.97629138 -3.97629138 -3.97629138 -3.97629137 -3.91644295 -3.85753787\n",
      " -3.85753783 -3.85753774 -3.85753769 -3.78629576 -3.78629569 -3.76860064\n",
      " -3.76860057 -3.76269845 -3.76269838 -3.73044005 -3.73044005 -3.67059163\n",
      " -3.67059163 -3.52274931 -3.52274924 -3.51684712 -3.51684712 -3.51684705\n",
      " -3.51684705 -3.48059601 -3.48059601 -3.48059594 -3.48059594 -3.4247403\n",
      " -3.27099579 -3.27099573 -3.17489626 -3.17489619 -3.13990533 -3.13990531\n",
      " -3.13990526 -3.13990524 -3.13400312 -3.13400307 -3.02115175 -3.02115169\n",
      " -3.02115169 -3.02115162 -3.01524957 -3.01524943 -2.894054   -2.89405398\n",
      " -2.89405393 -2.89405391 -2.88815179 -2.88815179 -2.88815174 -2.88815174\n",
      " -2.83420558 -2.83420556 -2.83420551 -2.83420549 -2.82830337 -2.82830332\n",
      " -2.76939824 -2.7693981  -2.64230046 -2.64230041 -2.58835425 -2.58835423\n",
      " -2.58835418 -2.58835416 -2.58245204 -2.58245204 -2.58245199 -2.58245199\n",
      " -2.51121    -2.51120993 -2.39245643 -2.39245638 -2.39245636 -2.39245631\n",
      " -2.33660071 -2.33660066 -2.26535867 -2.2653586  -2.20551025 -2.20551025\n",
      " -2.20551018 -2.20551017 -2.08675668 -2.08675663 -2.08675661 -2.08675656\n",
      " -1.95965892 -1.95965892 -1.95965885 -1.95965885 -1.8998105  -1.89981043\n",
      " -1.75196811 -1.74606599 -1.74606593 -1.74606592 -1.74606586 -1.74016374\n",
      " -1.65395917 -1.6539591  -1.50021466 -1.5002146  -1.50021459 -1.50021453\n",
      " -1.49431241 -1.49431241 -1.24846108 -1.1232728  -1.12327278 -1.11737066\n",
      " -1.11737062 -1.11737059 -1.11737054 -0.99861704 -0.99861697 -0.87151933\n",
      " -0.87151929 -0.87151926 -0.87151922 -0.81757305 -0.81757303 -0.81167091\n",
      " -0.81167086 -0.81167084 -0.81167079 -0.56581958 -0.56581954 -0.56581951\n",
      " -0.56581947 -0.49457747 -0.18887772 -0.18887772  0.11682203  0.27056654\n",
      "  0.2705666   0.27646872  0.27646879  0.52232005  0.52232012  0.89926186\n",
      "  0.89926191  1.20496161  1.20496166  2.29310125]\n",
      "L2 Norm: \n",
      "53.77725061721891\n"
     ]
    }
   ],
   "source": [
    "D_0 = of.linalg.eigenspectrum(Hf)\n",
    "D_0.sort()\n",
    "D_0\n",
    "# D_0: Original Spectrum for H2 Hamiltonian\n",
    "D_1 = np.real(of.linalg.eigenspectrum(planted_H))\n",
    "D_1.sort()\n",
    "# D_1\n",
    "eigen_spectrum_norm = np.linalg.norm(D_1 - D_0)\n",
    "print(\"D_0:\")\n",
    "print(D_0)\n",
    "print(\"D_1:\")\n",
    "print(D_1)\n",
    "print(\"L2 Norm: \")\n",
    "print(eigen_spectrum_norm)\n",
    "# D_1: Perturbed Spectrum from planted solution of first fragment of CAS-CAS Decomposition of H2"
   ]
  },
  {
   "cell_type": "code",
   "execution_count": 19,
   "id": "f81f3990",
   "metadata": {},
   "outputs": [
    {
     "name": "stdout",
     "output_type": "stream",
     "text": [
      "[3.6082751336276324, 0.14594400886609066, 0.021888756934053788, 53.77725061721891]\n"
     ]
    }
   ],
   "source": [
    "eigenSpectrum = of.linalg.eigenspectrum(Hf)\n",
    "print([two_norm,relative_norm,var,eigen_spectrum_norm])"
   ]
  },
  {
   "cell_type": "code",
   "execution_count": 1,
   "id": "68c2e033",
   "metadata": {},
   "outputs": [
    {
     "name": "stdout",
     "output_type": "stream",
     "text": [
      "[[[0, 1], [2, 3], [4, 5], [6, 7], [8, 9], [10, 11]], [[0, 1], [2, 3], [4, 5], [6, 7, 8], [9, 10, 11]], [[0, 1, 2], [3, 4, 5], [6, 7, 8], [9, 10, 11]], [[0, 1], [2, 3], [4, 5], [6, 7], [8, 9, 10, 11]], [[0, 1], [2, 3, 4], [5, 6, 7], [8, 9, 10, 11]], [[0, 1], [2, 3], [4, 5, 6, 7], [8, 9, 10, 11]], [[0, 1, 2, 3], [4, 5, 6, 7], [8, 9, 10, 11]], [[0, 1], [2, 3], [4, 5, 6], [7, 8, 9, 10, 11]], [[0, 1, 2], [3, 4, 5, 6], [7, 8, 9, 10, 11]], [[0, 1], [2, 3, 4, 5, 6], [7, 8, 9, 10, 11]], [[0, 1], [2, 3], [4, 5], [6, 7, 8, 9, 10, 11]], [[0, 1, 2], [3, 4, 5], [6, 7, 8, 9, 10, 11]], [[0, 1], [2, 3, 4, 5], [6, 7, 8, 9, 10, 11]], [[0, 1, 2, 3, 4, 5], [6, 7, 8, 9, 10, 11]], [[0, 1], [2, 3, 4], [5, 6, 7, 8, 9, 10, 11]], [[0, 1, 2, 3, 4], [5, 6, 7, 8, 9, 10, 11]], [[0, 1], [2, 3], [4, 5, 6, 7, 8, 9, 10, 11]], [[0, 1, 2, 3], [4, 5, 6, 7, 8, 9, 10, 11]], [[0, 1, 2], [3, 4, 5, 6, 7, 8, 9, 10, 11]], [[0, 1], [2, 3, 4, 5, 6, 7, 8, 9, 10, 11]]]\n"
     ]
    }
   ],
   "source": [
    "def partitions(n: int):\n",
    "    \"\"\"\n",
    "    Return the all possible partition of the number n.\n",
    "    \"\"\"\n",
    "    # base case of recursion: zero is the sum of the empty list\n",
    "    if n == 0:\n",
    "        yield []\n",
    "        return\n",
    "    \n",
    "    # modify partitions of n-1 to form partitions of n\n",
    "    for p in partitions(n-1):\n",
    "        yield [1] + p\n",
    "        if p and (len(p) < 2 or p[1] > p[0]):\n",
    "            yield [p[0] + 1] + p[1:]\n",
    "\n",
    "def partition_to_orbitals(partition: list[int]) -> list:\n",
    "    \"\"\"\n",
    "    Return a orbital partitions from number partition of the total number of spin orbitals\n",
    "    >>> partition_to_orbitals([2,2])\n",
    "    [[0, 1], [2, 3]]\n",
    "    >>> partition_to_orbitals([3,2,2])\n",
    "    [[0, 1, 2], [3, 4], [5, 6]]\n",
    "    \"\"\"\n",
    "    lis = [list(range(0+sum(partition[:i]),partition[i]+sum(partition[:i]))) for i in range(len(partition))]\n",
    "    return lis\n",
    "\n",
    "def valid_orbital_partitions(n: int) -> list[list[int]]:\n",
    "    \"\"\"\n",
    "    Return the valid CAS orbital partitions with the number of spin orbitals n. \n",
    "    A partition is valid if it has more than one block and each block has at least 2 orbitals\n",
    "    \"\"\"     \n",
    "    valid_partition = [i for i in list(partitions(n)) if min(i) > 1 and max(i) < n]\n",
    "    valid_orbitals =[partition_to_orbitals(i) for i in valid_partition]\n",
    "    return valid_orbitals\n",
    "    \n",
    "    \n",
    "print(valid_orbital_partitions(12))\n"
   ]
  },
  {
   "cell_type": "markdown",
   "id": "78e29a83",
   "metadata": {},
   "source": [
    "Comparing different Fragments to capture the Hamiltonian with two-body tensor form"
   ]
  },
  {
   "cell_type": "code",
   "execution_count": 6,
   "id": "83fbc117",
   "metadata": {},
   "outputs": [],
   "source": [
    "\n",
    "title = [\"2-norm of Difference in two-body tensor\", \"relative 2-norm\", \"Variance\", \"2-norm of eigenvalue spectrum\"]\n",
    "result = []\n",
    "index = []"
   ]
  },
  {
   "cell_type": "code",
   "execution_count": 73,
   "id": "13e42014",
   "metadata": {},
   "outputs": [
    {
     "name": "stdout",
     "output_type": "stream",
     "text": [
      "CSA & 0.155 & 0.03 & 0.034 & 0.523\\\\\n",
      "CAS-CAS 2-2 & 0.928 & 0.178 & 0.034 & 3.208\\\\\n",
      "CAS-CAS 3-1 & 0.716 & 0.137 & 0.005 & 2.259\\\\\n"
     ]
    }
   ],
   "source": [
    "# print(len(index))\n",
    "lis = []\n",
    "for i in range(len(index)):\n",
    "    lis += [[index[i]] + [str(round(s, 3)) for s in result[i]]]\n",
    "# print(lis)\n",
    "for i in lis:\n",
    "    print(' & '.join(i) + \"\\\\\\\\\")"
   ]
  },
  {
   "cell_type": "code",
   "execution_count": 55,
   "id": "b8d0061b",
   "metadata": {},
   "outputs": [
    {
     "name": "stdout",
     "output_type": "stream",
     "text": [
      "[[0.15490613499420883, 0.029748091315936327, 0.03411211977760886, 0.5226331597591286], [0.9279447336117922, 0.17820201035070563, 0.034112118059972385, 3.2082428648410826], [0.7159496008105161, 0.13749057842877316, 0.005180975268052501, 2.2593083472282567]]\n"
     ]
    },
    {
     "data": {
      "text/html": [
       "<div>\n",
       "<style scoped>\n",
       "    .dataframe tbody tr th:only-of-type {\n",
       "        vertical-align: middle;\n",
       "    }\n",
       "\n",
       "    .dataframe tbody tr th {\n",
       "        vertical-align: top;\n",
       "    }\n",
       "\n",
       "    .dataframe thead th {\n",
       "        text-align: right;\n",
       "    }\n",
       "</style>\n",
       "<table border=\"1\" class=\"dataframe\">\n",
       "  <thead>\n",
       "    <tr style=\"text-align: right;\">\n",
       "      <th></th>\n",
       "      <th>2-norm of Difference in two-body tensor</th>\n",
       "      <th>relative 2-norm</th>\n",
       "      <th>Variance</th>\n",
       "      <th>2-norm of eigenvalue spectrum</th>\n",
       "    </tr>\n",
       "  </thead>\n",
       "  <tbody>\n",
       "    <tr>\n",
       "      <th>CSA</th>\n",
       "      <td>0.154906</td>\n",
       "      <td>0.029748</td>\n",
       "      <td>0.034112</td>\n",
       "      <td>0.522633</td>\n",
       "    </tr>\n",
       "    <tr>\n",
       "      <th>CAS-CAS 2-2</th>\n",
       "      <td>0.927945</td>\n",
       "      <td>0.178202</td>\n",
       "      <td>0.034112</td>\n",
       "      <td>3.208243</td>\n",
       "    </tr>\n",
       "    <tr>\n",
       "      <th>CAS-CAS 3-1</th>\n",
       "      <td>0.715950</td>\n",
       "      <td>0.137491</td>\n",
       "      <td>0.005181</td>\n",
       "      <td>2.259308</td>\n",
       "    </tr>\n",
       "  </tbody>\n",
       "</table>\n",
       "</div>"
      ],
      "text/plain": [
       "             2-norm of Difference in two-body tensor  relative 2-norm  \\\n",
       "CSA                                         0.154906         0.029748   \n",
       "CAS-CAS 2-2                                 0.927945         0.178202   \n",
       "CAS-CAS 3-1                                 0.715950         0.137491   \n",
       "\n",
       "             Variance  2-norm of eigenvalue spectrum  \n",
       "CSA          0.034112                       0.522633  \n",
       "CAS-CAS 2-2  0.034112                       3.208243  \n",
       "CAS-CAS 3-1  0.005181                       2.259308  "
      ]
     },
     "execution_count": 55,
     "metadata": {},
     "output_type": "execute_result"
    }
   ],
   "source": [
    "import pandas as pd\n",
    "print(result)\n",
    "pd.DataFrame(result, columns = title, index = index)"
   ]
  }
 ],
 "metadata": {
  "kernelspec": {
   "display_name": "Python 3 (ipykernel)",
   "language": "python",
   "name": "python3"
  },
  "language_info": {
   "codemirror_mode": {
    "name": "ipython",
    "version": 3
   },
   "file_extension": ".py",
   "mimetype": "text/x-python",
   "name": "python",
   "nbconvert_exporter": "python",
   "pygments_lexer": "ipython3",
   "version": "3.10.7"
  },
  "widgets": {
   "application/vnd.jupyter.widget-state+json": {
    "state": {},
    "version_major": 2,
    "version_minor": 0
   }
  }
 },
 "nbformat": 4,
 "nbformat_minor": 5
}
