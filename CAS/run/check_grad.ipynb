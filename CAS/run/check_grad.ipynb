{
 "cells": [
  {
   "cell_type": "code",
   "execution_count": 64,
   "id": "75b98899",
   "metadata": {},
   "outputs": [
    {
     "name": "stdout",
     "output_type": "stream",
     "text": [
      "8.594956436494277e-07\n",
      "15.869324922561646 6.793452978134155\n"
     ]
    }
   ],
   "source": [
    "import sys\n",
    "sys.path.append(\"../\")\n",
    "import saveload_utils as sl\n",
    "import ferm_utils as feru\n",
    "import csa_utils as csau\n",
    "import var_utils as varu\n",
    "import openfermion as of\n",
    "import numpy as np\n",
    "import scipy\n",
    "import copy\n",
    "import time \n",
    "\n",
    "alpha = 1\n",
    "k = [[0,1],[2,3],[4,5],[6,7]]\n",
    "# x_0 = np.ones(n)\n",
    "# x = np.zeros(n)\n",
    "\n",
    "mol = 'h4' \n",
    "tol = 1e-5\n",
    "save = False\n",
    "method_name = 'CAS-CAS'\n",
    "\n",
    "# Get two-body tensor\n",
    "Hf = sl.load_fermionic_hamiltonian(mol)\n",
    "_, gs = of.linalg.get_ground_state(of.linalg.get_sparse_operator(Hf))\n",
    "spin_orb = of.count_qubits(Hf)  \n",
    "n = spin_orb\n",
    "spatial_orb = spin_orb // 2\n",
    "Htbt = feru.get_chemist_tbt(Hf, spin_orb, spin_orb = True)\n",
    "one_body = varu.get_one_body_correction_from_tbt(Hf, feru.get_chemist_tbt(Hf))\n",
    "# feru.get_one_body_terms(Hf)\n",
    "# varu.get_one_body_correction_from_tbt(Hf, Htbt)\n",
    "\n",
    "\n",
    "onebody_matrix = feru.get_obt(one_body, n = spin_orb, spin_orb = True)\n",
    "onebody_tbt = feru.onebody_to_twobody(onebody_matrix)\n",
    "# print(onebody_tbt.shape)\n",
    "# print(Htbt.shape)\n",
    "\n",
    "Htbt = np.add(Htbt, onebody_tbt)\n",
    "upnum, casnum, pnum = csau.get_param_num(n, k = k, complex=False)\n",
    "x0 = np.zeros(pnum * alpha)\n",
    "\n",
    "cost = lambda x: csau.ct_decomp_cost(x, k, Htbt, alpha, complex=False)\n",
    "jac = lambda x: csau.real_cas_grad(x, k, Htbt, alpha)\n",
    "for i in range(alpha):\n",
    "    x0[pnum * i + casnum: pnum *\n",
    "        (i + 1)] = np.random.rand(upnum) * 2 * 100\n",
    "\n",
    "print(scipy.optimize.check_grad(cost, jac, x0))\n",
    "import time\n",
    "start = time.time()\n",
    "jac = jac(x0)\n",
    "jac_time = time.time() - start\n",
    "start = time.time()\n",
    "numerical = scipy.optimize.approx_fprime(x0, cost)\n",
    "numerical_time  = time.time() - start\n",
    "print(numerical_time, jac_time)"
   ]
  }
 ],
 "metadata": {
  "kernelspec": {
   "display_name": "Python 3 (ipykernel)",
   "language": "python",
   "name": "python3"
  },
  "language_info": {
   "codemirror_mode": {
    "name": "ipython",
    "version": 3
   },
   "file_extension": ".py",
   "mimetype": "text/x-python",
   "name": "python",
   "nbconvert_exporter": "python",
   "pygments_lexer": "ipython3",
   "version": "3.10.7"
  }
 },
 "nbformat": 4,
 "nbformat_minor": 5
}
