{
 "cells": [
  {
   "cell_type": "code",
   "id": "initial_id",
   "metadata": {
    "collapsed": true,
    "ExecuteTime": {
     "end_time": "2024-07-25T18:45:59.197070Z",
     "start_time": "2024-07-25T18:45:58.952174Z"
    }
   },
   "source": [
    "import numpy as np\n",
    "from math import comb"
   ],
   "outputs": [],
   "execution_count": 1
  },
  {
   "metadata": {
    "ExecuteTime": {
     "end_time": "2024-07-25T18:45:59.869074Z",
     "start_time": "2024-07-25T18:45:59.862381Z"
    }
   },
   "cell_type": "code",
   "source": [
    "nCSF = {(0, 0): 1, (1, 1/2):1, (2, 0): 1, (2, 1): 1, (3, 1/2): 2, (3, 3/2): 1, (4, 0): 2, (4, 1): 3, (4, 2): 1}\n",
    "def nAllowed(N, nUp, nDown):\n",
    "    a_start = int(np.max((0, nUp - np.floor(N/2))))\n",
    "    a_end = int(np.min((np.ceil(N/2), nUp)))\n",
    "    b_start = int(np.max((0, nDown - np.ceil(N/2))))\n",
    "    b_end = int(np.min((np.floor(N/2), nDown)))\n",
    "    \n",
    "    summation = 0\n",
    "    for a in range(a_start, a_end+1):\n",
    "        for b in range(b_start, b_end+1):\n",
    "            summation += comb(int(np.ceil(N/2)),a) * comb(int(np.floor(N/2)),b)\n",
    "    print(a_start, a_end, b_start, b_end)\n",
    "    return summation\n",
    "\n",
    "def looseUpperBound(N, nUp, nDown):\n",
    "    return comb(N, nUp) * comb(N, nDown)\n",
    "\n",
    "def tnCSFs(N, Sz, Ne):\n",
    "    j_max = int(np.min((np.floor((N-2* Sz)/2), np.floor((Ne - 2* Sz)/2), np.floor(N-Sz-Ne/2))))\n",
    "    summation = 0\n",
    "    for j in range(j_max + 1):\n",
    "        summation += nCSF[(int(2*j+2*Sz), Sz)] * comb(N, int(2 * j + 2 * Sz)) * comb(int(N- 2 * Sz - 2* j), int((Ne - 2 * j - 2 * Sz)/2))\n",
    "    \n",
    "    return summation"
   ],
   "id": "1adeab07453966bb",
   "outputs": [],
   "execution_count": 2
  },
  {
   "metadata": {
    "ExecuteTime": {
     "end_time": "2024-07-25T18:46:05.064194Z",
     "start_time": "2024-07-25T18:46:05.053520Z"
    }
   },
   "cell_type": "code",
   "source": [
    "N = 6\n",
    "nAllowed(N, 3, 3)"
   ],
   "id": "b17518b698b17496",
   "outputs": [
    {
     "name": "stdout",
     "output_type": "stream",
     "text": [
      "0 3 0 3\n"
     ]
    },
    {
     "data": {
      "text/plain": [
       "64"
      ]
     },
     "execution_count": 3,
     "metadata": {},
     "output_type": "execute_result"
    }
   ],
   "execution_count": 3
  },
  {
   "metadata": {
    "ExecuteTime": {
     "end_time": "2024-07-11T18:37:07.075925Z",
     "start_time": "2024-07-11T18:37:07.070743Z"
    }
   },
   "cell_type": "code",
   "source": "comb(2,0)",
   "id": "4287beb07407caaa",
   "outputs": [
    {
     "data": {
      "text/plain": [
       "1"
      ]
     },
     "execution_count": 4,
     "metadata": {},
     "output_type": "execute_result"
    }
   ],
   "execution_count": 4
  },
  {
   "metadata": {
    "ExecuteTime": {
     "end_time": "2024-07-11T18:37:07.416513Z",
     "start_time": "2024-07-11T18:37:07.411599Z"
    }
   },
   "cell_type": "code",
   "source": "tnCSFs(4, 1/2, 5)",
   "id": "81836f78cb1b6f09",
   "outputs": [
    {
     "data": {
      "text/plain": [
       "20"
      ]
     },
     "execution_count": 5,
     "metadata": {},
     "output_type": "execute_result"
    }
   ],
   "execution_count": 5
  },
  {
   "metadata": {
    "ExecuteTime": {
     "end_time": "2024-07-11T18:37:17.043350Z",
     "start_time": "2024-07-11T18:37:17.029001Z"
    }
   },
   "cell_type": "code",
   "source": "tnCSFs(3, 0, 4)",
   "id": "36c18b3ac10f9ba4",
   "outputs": [
    {
     "data": {
      "text/plain": [
       "6"
      ]
     },
     "execution_count": 6,
     "metadata": {},
     "output_type": "execute_result"
    }
   ],
   "execution_count": 6
  },
  {
   "metadata": {},
   "cell_type": "code",
   "outputs": [],
   "execution_count": null,
   "source": "",
   "id": "f5fac9c554c94834"
  }
 ],
 "metadata": {
  "kernelspec": {
   "display_name": "Python 3",
   "language": "python",
   "name": "python3"
  },
  "language_info": {
   "codemirror_mode": {
    "name": "ipython",
    "version": 2
   },
   "file_extension": ".py",
   "mimetype": "text/x-python",
   "name": "python",
   "nbconvert_exporter": "python",
   "pygments_lexer": "ipython2",
   "version": "2.7.6"
  }
 },
 "nbformat": 4,
 "nbformat_minor": 5
}
