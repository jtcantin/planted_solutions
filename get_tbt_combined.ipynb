{
 "cells": [
  {
   "metadata": {
    "ExecuteTime": {
     "end_time": "2024-05-31T03:34:03.951171Z",
     "start_time": "2024-05-31T03:33:57.047362Z"
    }
   },
   "cell_type": "code",
   "source": [
    "import os\n",
    "import numpy as np\n",
    "\n",
    "import CAS.dmrghandler.src.dmrghandler as dmrghandler\n",
    "from CAS.dmrghandler.src.dmrghandler import dmrg_calc_prepare\n",
    "from pathlib import Path\n",
    "import pyscf.tools.fcidump\n",
    "import pyscf\n",
    "import scipy"
   ],
   "id": "997e38d56e6419cf",
   "outputs": [],
   "execution_count": 1
  },
  {
   "metadata": {
    "ExecuteTime": {
     "end_time": "2024-05-31T03:34:03.955842Z",
     "start_time": "2024-05-31T03:34:03.952253Z"
    }
   },
   "cell_type": "code",
   "source": [
    "def rename_files(directory):\n",
    "    \"\"\"\n",
    "    Rename the files which have unsupported characters\n",
    "    Args:\n",
    "        directory: \n",
    "\n",
    "    Returns:\n",
    "\n",
    "    \"\"\"\n",
    "    # List all files in the given directory\n",
    "    files = os.listdir(directory)\n",
    "    # Sort the files to ensure consistent order\n",
    "    files.sort()\n",
    "    \n",
    "    for index, filename in enumerate(files):\n",
    "        # Construct the old file path\n",
    "        old_path = os.path.join(directory, filename)\n",
    "        \n",
    "        # Ensure we only rename files, not directories\n",
    "        if os.path.isfile(old_path):\n",
    "            # Replace slashes with underscores\n",
    "            new_filename = filename.replace('/', '_')\n",
    "            new_filename = new_filename.replace(',', '')\n",
    "            \n",
    "            new_filename = new_filename.replace(':', '_')\n",
    "            \n",
    "            new_filename = new_filename.replace('+', '_')\n",
    "            \n",
    "            new_filename = new_filename.replace('*', '_')\n",
    "            \n",
    "            # Remove all spaces\n",
    "            new_filename = new_filename.replace(' ', '')\n",
    "            \n",
    "            # Construct the new file path\n",
    "            new_path = os.path.join(directory, new_filename)\n",
    "            \n",
    "            try:\n",
    "                # Rename the file\n",
    "                os.rename(old_path, new_path)\n",
    "            except OSError as e:\n",
    "                print(f'Error renaming {old_path} to {new_path}: {e}')"
   ],
   "id": "beda94905b12f2a4",
   "outputs": [],
   "execution_count": 2
  },
  {
   "metadata": {
    "ExecuteTime": {
     "end_time": "2024-05-31T00:29:28.786024Z",
     "start_time": "2024-05-31T00:29:28.764689Z"
    }
   },
   "cell_type": "code",
   "source": "rename_files(Path(\"fcidumps_catalysts\"))",
   "id": "4c089a409894056e",
   "outputs": [],
   "execution_count": 3
  },
  {
   "cell_type": "code",
   "id": "initial_id",
   "metadata": {
    "collapsed": true,
    "ExecuteTime": {
     "end_time": "2024-05-31T03:36:39.362867Z",
     "start_time": "2024-05-31T03:35:15.609646Z"
    }
   },
   "source": [
    "fcidump_path =\"fcidumps_catalysts\"\n",
    "fcidump_output_path = Path(\"fcidumps_LPBLISS_combined\")\n",
    "for filename in os.listdir(fcidump_path):\n",
    "    print(f\"Current file: {filename}\")\n",
    "    (\n",
    "    one_body_tensor,\n",
    "    two_body_tensor,\n",
    "    nuc_rep_energy,\n",
    "    num_orbitals,\n",
    "    num_spin_orbitals,\n",
    "    num_electrons,\n",
    "    two_S,\n",
    "    two_Sz,\n",
    "    orb_sym,\n",
    "    extra_attributes,\n",
    "    ) = dmrg_calc_prepare.load_tensors_from_fcidump(data_file_path=Path(fcidump_path)/Path(filename), molpro_orbsym_convention=True)\n",
    "    \n",
    "    # Combine obt and tbt\n",
    "    absorbed_tbt = pyscf.fci.direct_nosym.absorb_h1e(np.array(one_body_tensor), np.array(two_body_tensor), norb=num_orbitals, nelec=num_electrons)\n",
    "    h_in_tbt = pyscf.ao2mo.restore(1, absorbed_tbt.copy(), num_orbitals).astype(np.array(one_body_tensor).dtype, copy=False)\n",
    "    \n",
    "    obt_dummy = np.zeros((num_orbitals, num_orbitals))\n",
    "    \n",
    "    label = \"_tbt_combined\"\n",
    "    filename = filename + f\"{label}\"\n",
    "    pyscf.tools.fcidump.from_integrals(\n",
    "        fcidump_output_path/Path(filename),\n",
    "        obt_dummy,\n",
    "        h_in_tbt,\n",
    "        nmo=obt_dummy.shape[0],\n",
    "        nelec=num_electrons,\n",
    "        nuc=nuc_rep_energy,\n",
    "        ms=two_S,\n",
    "        orbsym=None,\n",
    "        tol=1E-8,\n",
    "        float_format=' %.16g',\n",
    "    )"
   ],
   "outputs": [
    {
     "name": "stdout",
     "output_type": "stream",
     "text": [
      "Current file: fcidump.26_pc_{'Mo'_'def2-SVP'_'I'_'def2-SVP'_'Cl'_'def2-SVP'_'default'_'6-311_G(dp)'}\n",
      "Parsing fcidumps_catalysts/fcidump.26_pc_{'Mo'_'def2-SVP'_'I'_'def2-SVP'_'Cl'_'def2-SVP'_'default'_'6-311_G(dp)'}\n",
      "Current file: fcidump.8_melact_6-311__G__\n",
      "Parsing fcidumps_catalysts/fcidump.8_melact_6-311__G__\n",
      "Current file: fcidump.65_5_15_af_{'default'_'cc-pVTZ''Mn'_'lanl2tz'}\n",
      "Parsing fcidumps_catalysts/fcidump.65_5_15_af_{'default'_'cc-pVTZ''Mn'_'lanl2tz'}\n",
      "Current file: fcidump.21_rc_{'Mo'_'def2-SVP'_'I'_'def2-SVP'_'Cl'_'def2-SVP'_'default'_'6-311_G(dp)'}\n",
      "Parsing fcidumps_catalysts/fcidump.21_rc_{'Mo'_'def2-SVP'_'I'_'def2-SVP'_'Cl'_'def2-SVP'_'default'_'6-311_G(dp)'}\n",
      "Current file: fcidump.42_1_star_{'default'_'cc-pVTZ''Ru'_'LANL2TZ'}\n",
      "Parsing fcidumps_catalysts/fcidump.42_1_star_{'default'_'cc-pVTZ''Ru'_'LANL2TZ'}\n",
      "Current file: fcidump.38_1_ts_{'default'_'cc-pVTZ''Ru'_'LANL2TZ'}\n",
      "Parsing fcidumps_catalysts/fcidump.38_1_ts_{'default'_'cc-pVTZ''Ru'_'LANL2TZ'}\n",
      "Current file: fcidump.59_5_16_{'default'_'cc-pVTZ''Mn'_'lanl2tz'}\n",
      "Parsing fcidumps_catalysts/fcidump.59_5_16_{'default'_'cc-pVTZ''Mn'_'lanl2tz'}\n",
      "Current file: fcidump.24_ts_1over2_{'Mo'_'def2-SVP'_'I'_'def2-SVP'_'Cl'_'def2-SVP'_'default'_'6-311_G(dp)'}\n",
      "Parsing fcidumps_catalysts/fcidump.24_ts_1over2_{'Mo'_'def2-SVP'_'I'_'def2-SVP'_'Cl'_'def2-SVP'_'default'_'6-311_G(dp)'}\n",
      "Current file: fcidump.19_I_{'Mo'_'def2-SVP''I'_'def2-SVP''Cl'_'def2-SVP''default'_'6-311_G(dp)'}\n",
      "Parsing fcidumps_catalysts/fcidump.19_I_{'Mo'_'def2-SVP''I'_'def2-SVP''Cl'_'def2-SVP''default'_'6-311_G(dp)'}\n",
      "Current file: fcidump.9_mo_n2-_{'Mo'_'def2-TZVP''default'_'def2-SVP'}\n",
      "Parsing fcidumps_catalysts/fcidump.9_mo_n2-_{'Mo'_'def2-TZVP''default'_'def2-SVP'}\n",
      "Current file: fcidump.15_1_lut_react_{'Mo'_'def2-SVP''default'_'6-311_G(dp)'}\n",
      "Parsing fcidumps_catalysts/fcidump.15_1_lut_react_{'Mo'_'def2-SVP''default'_'6-311_G(dp)'}\n",
      "Current file: fcidump.2_co2_6-311__G__\n",
      "Parsing fcidumps_catalysts/fcidump.2_co2_6-311__G__\n",
      "Current file: fcidump.28_2_{'Mo'_'def2-SVP'_'I'_'def2-SVP'_'Cl'_'def2-SVP'_'default'_'6-311_G(dp)'}\n",
      "Parsing fcidumps_catalysts/fcidump.28_2_{'Mo'_'def2-SVP'_'I'_'def2-SVP'_'Cl'_'def2-SVP'_'default'_'6-311_G(dp)'}\n",
      "Current file: fcidump.17_ts_1over4a_{'Mo'_'def2-SVP''I'_'def2-SVP''Cl'_'def2-SVP''default'_'6-311_G(dp)'}\n",
      "Parsing fcidumps_catalysts/fcidump.17_ts_1over4a_{'Mo'_'def2-SVP''I'_'def2-SVP''Cl'_'def2-SVP''default'_'6-311_G(dp)'}\n",
      "Current file: fcidump.30_4a_{'Mo'_'def2-SVP''I'_'def2-SVP''Cl'_'def2-SVP''default'_'6-311_G(dp)'}\n",
      "Parsing fcidumps_catalysts/fcidump.30_4a_{'Mo'_'def2-SVP''I'_'def2-SVP''Cl'_'def2-SVP''default'_'6-311_G(dp)'}\n",
      "Current file: fcidump.43_1_star_{'default'_'cc-pVTZ''Ru'_'LANL2TZ'}\n",
      "Parsing fcidumps_catalysts/fcidump.43_1_star_{'default'_'cc-pVTZ''Ru'_'LANL2TZ'}\n",
      "Current file: fcidump.25_ts_1over2_{'Mo'_'def2-SVP'_'I'_'def2-SVP'_'Cl'_'def2-SVP'_'default'_'6-311_G(dp)'}\n",
      "Parsing fcidumps_catalysts/fcidump.25_ts_1over2_{'Mo'_'def2-SVP'_'I'_'def2-SVP'_'Cl'_'def2-SVP'_'default'_'6-311_G(dp)'}\n",
      "Current file: fcidump.13_1_lut_ts_{'Mo'_'def2-SVP''default'_'6-311_G(dp)'}\n",
      "Parsing fcidumps_catalysts/fcidump.13_1_lut_ts_{'Mo'_'def2-SVP''default'_'6-311_G(dp)'}\n",
      "Current file: fcidump.16_ts_1over4a_{'Mo'_'def2-SVP''I'_'def2-SVP''Cl'_'def2-SVP''default'_'6-311_G(dp)'}\n",
      "Parsing fcidumps_catalysts/fcidump.16_ts_1over4a_{'Mo'_'def2-SVP''I'_'def2-SVP''Cl'_'def2-SVP''default'_'6-311_G(dp)'}\n",
      "Current file: fcidump.34_3ruo_IV_2pl_{'Ru'_'lanl2tz''default'_'6-31_G(dp)'}\n",
      "Parsing fcidumps_catalysts/fcidump.34_3ruo_IV_2pl_{'Ru'_'lanl2tz''default'_'6-31_G(dp)'}\n",
      "Current file: fcidump.23_pc-_{'Mo'_'def2-SVP''I'_'def2-SVP''Cl'_'def2-SVP''default'_'6-311_G(dp)'}\n",
      "Parsing fcidumps_catalysts/fcidump.23_pc-_{'Mo'_'def2-SVP''I'_'def2-SVP''Cl'_'def2-SVP''default'_'6-311_G(dp)'}\n",
      "Current file: fcidump.12_mo_n2_{'Mo'_'def2-TZVP''default'_'def2-SVP'}\n",
      "Parsing fcidumps_catalysts/fcidump.12_mo_n2_{'Mo'_'def2-TZVP''default'_'def2-SVP'}\n",
      "Current file: fcidump.63_5_15_af_ts_{'default'_'cc-pVTZ''Mn'_'lanl2tz'}\n",
      "Parsing fcidumps_catalysts/fcidump.63_5_15_af_ts_{'default'_'cc-pVTZ''Mn'_'lanl2tz'}\n",
      "Current file: fcidump.29_2_{'Mo'_'def2-SVP'_'I'_'def2-SVP'_'Cl'_'def2-SVP'_'default'_'6-311_G(dp)'}\n",
      "Parsing fcidumps_catalysts/fcidump.29_2_{'Mo'_'def2-SVP'_'I'_'def2-SVP'_'Cl'_'def2-SVP'_'default'_'6-311_G(dp)'}\n",
      "Current file: fcidump.18_I_{'Mo'_'def2-SVP''I'_'def2-SVP''Cl'_'def2-SVP''default'_'6-311_G(dp)'}\n",
      "Parsing fcidumps_catalysts/fcidump.18_I_{'Mo'_'def2-SVP''I'_'def2-SVP''Cl'_'def2-SVP''default'_'6-311_G(dp)'}\n",
      "Current file: fcidump.14_1_lut_prod_{'Mo'_'def2-SVP''default'_'6-311_G(dp)'}\n",
      "Parsing fcidumps_catalysts/fcidump.14_1_lut_prod_{'Mo'_'def2-SVP''default'_'6-311_G(dp)'}\n",
      "Current file: fcidump.32_2ru_III_3pl_{'default'_'6-31_G(dp)''Ru'_'lanl2tz'}\n",
      "Parsing fcidumps_catalysts/fcidump.32_2ru_III_3pl_{'default'_'6-31_G(dp)''Ru'_'lanl2tz'}\n",
      "Current file: fcidump.46_2_{'default'_'cc-pVTZ''Ru'_'LANL2TZ'}\n",
      "Parsing fcidumps_catalysts/fcidump.46_2_{'default'_'cc-pVTZ''Ru'_'LANL2TZ'}\n",
      "Current file: fcidump.7_melact_6-311__G__\n",
      "Parsing fcidumps_catalysts/fcidump.7_melact_6-311__G__\n",
      "Current file: fcidump.0_ru_macho_{'Ru'_'cc-pVTZ-PP''default'_'6-311__G__'}\n",
      "Parsing fcidumps_catalysts/fcidump.0_ru_macho_{'Ru'_'cc-pVTZ-PP''default'_'6-311__G__'}\n",
      "Current file: fcidump.22_pc-_{'Mo'_'def2-SVP''I'_'def2-SVP''Cl'_'def2-SVP''default'_'6-311_G(dp)'}\n",
      "Parsing fcidumps_catalysts/fcidump.22_pc-_{'Mo'_'def2-SVP''I'_'def2-SVP''Cl'_'def2-SVP''default'_'6-311_G(dp)'}\n",
      "Current file: fcidump.31_4a_{'Mo'_'def2-SVP'_'I'_'def2-SVP'_'Cl'_'def2-SVP'_'default'_'6-311_G(dp)'}\n",
      "Parsing fcidumps_catalysts/fcidump.31_4a_{'Mo'_'def2-SVP'_'I'_'def2-SVP'_'Cl'_'def2-SVP'_'default'_'6-311_G(dp)'}\n",
      "Current file: fcidump.11_fecp2_s0_def2-tzvp\n",
      "Parsing fcidumps_catalysts/fcidump.11_fecp2_s0_def2-tzvp\n",
      "Current file: fcidump.61_3_15_af_{'default'_'cc-pVTZ''Mn'_'lanl2tz'}\n",
      "Parsing fcidumps_catalysts/fcidump.61_3_15_af_{'default'_'cc-pVTZ''Mn'_'lanl2tz'}\n",
      "Current file: fcidump.10_fecp2__s0.5_def2-tzvp\n",
      "Parsing fcidumps_catalysts/fcidump.10_fecp2__s0.5_def2-tzvp\n",
      "Current file: fcidump.36_1ru_II_2pl_{'default'_'6-31_G(dp)''Ru'_'lanl2tz'}\n",
      "Parsing fcidumps_catalysts/fcidump.36_1ru_II_2pl_{'default'_'6-31_G(dp)''Ru'_'lanl2tz'}\n",
      "Current file: fcidump.27_pc_{'Mo'_'def2-SVP'_'I'_'def2-SVP'_'Cl'_'def2-SVP'_'default'_'6-311_G(dp)'}\n",
      "Parsing fcidumps_catalysts/fcidump.27_pc_{'Mo'_'def2-SVP'_'I'_'def2-SVP'_'Cl'_'def2-SVP'_'default'_'6-311_G(dp)'}\n",
      "Current file: fcidump.20_rc_{'Mo'_'def2-SVP'_'I'_'def2-SVP'_'Cl'_'def2-SVP'_'default'_'6-311_G(dp)'}\n",
      "Parsing fcidumps_catalysts/fcidump.20_rc_{'Mo'_'def2-SVP'_'I'_'def2-SVP'_'Cl'_'def2-SVP'_'default'_'6-311_G(dp)'}\n"
     ]
    }
   ],
   "execution_count": 4
  },
  {
   "metadata": {},
   "cell_type": "code",
   "outputs": [],
   "execution_count": null,
   "source": "",
   "id": "5aa1ed57f5a9294d"
  }
 ],
 "metadata": {
  "kernelspec": {
   "display_name": "Python 3",
   "language": "python",
   "name": "python3"
  },
  "language_info": {
   "codemirror_mode": {
    "name": "ipython",
    "version": 2
   },
   "file_extension": ".py",
   "mimetype": "text/x-python",
   "name": "python",
   "nbconvert_exporter": "python",
   "pygments_lexer": "ipython2",
   "version": "2.7.6"
  }
 },
 "nbformat": 4,
 "nbformat_minor": 5
}
