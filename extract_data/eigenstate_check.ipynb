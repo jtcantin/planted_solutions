{
 "cells": [
  {
   "cell_type": "code",
   "metadata": {
    "ExecuteTime": {
     "end_time": "2024-07-02T17:53:56.855024Z",
     "start_time": "2024-07-02T17:53:56.815421Z"
    }
   },
   "source": [
    "from pyblock2.driver.core import DMRGDriver, SymmetryTypes\n",
    "from pyblock2 import tools\n",
    "from block2 import SU2 as block2_SU2\n",
    "from block2 import SZ as block2_SZ\n",
    "from pathlib import Path\n",
    "import CAS.dmrghandler.src.dmrghandler.dmrg_calc_prepare\n",
    "import CAS.dmrghandler.src.dmrghandler.qchem_dmrg_calc\n",
    "import CAS.dmrghandler.src.dmrghandler as dmrghandler\n",
    "from DMRG_simulation.dmrg_simulation import get_ground_state_fci\n",
    "import numpy as np\n",
    "import CAS_Cropping.saveload_utils as sl\n",
    "import CAS_Cropping.ferm_utils as feru\n",
    "import CAS_Cropping.var_utils as varu\n",
    "import openfermion as of"
   ],
   "outputs": [],
   "execution_count": 4
  },
  {
   "cell_type": "code",
   "metadata": {
    "ExecuteTime": {
     "end_time": "2024-07-02T17:53:57.215942Z",
     "start_time": "2024-07-02T17:53:57.210184Z"
    }
   },
   "source": [
    "\n",
    "mps_dir = Path(\"test_mps/dmrg_loop_001_ket_optimized\")\n",
    "fcidump = \"fcidumps_test/fcidump.36_1ru_II_2pl_{'default'_'6-31_G(dp)''Ru'_'lanl2tz'}_tbt_1_block_test\"\n",
    "symmetry_type = SymmetryTypes.SU2\n",
    "stack_mem = 10*1024*1024*1024\n",
    "stack_mem_ratio = 0.5\n",
    "num_threads = 3\n",
    "temp_dir = Path(mps_dir)\n",
    "restart_dir=Path(\"./temp\")"
   ],
   "outputs": [],
   "execution_count": 5
  },
  {
   "cell_type": "code",
   "metadata": {
    "ExecuteTime": {
     "end_time": "2024-07-02T17:53:58.042499Z",
     "start_time": "2024-07-02T17:53:57.701321Z"
    }
   },
   "source": [
    "# def loadMPSfromDir(mps_info: MPSInfo,  mpsSaveDir:str, MPI:MPICommunicator=None) -> MPS:\n",
    "#         \"\"\"  Load MPS from directory\n",
    "#         :param mps_info: If None, MPSInfo will be read from mpsSaveDir/mps_info.bin\n",
    "#         :param mpsSaveDir: Directory where the MPS has been saved\n",
    "#         :param MPI: MPI class (or None)\n",
    "#         :return: MPS state\n",
    "#         \"\"\"\n",
    "driver = DMRGDriver(scratch=\"./tmp\", symm_type=SymmetryTypes.SU2, n_threads=4)\n",
    "driver.read_fcidump(filename=fcidump, pg='d2h')\n",
    "driver.initialize_system(n_sites=driver.n_sites, n_elec=driver.n_elec,\n",
    "                         spin=driver.spin, orb_sym=driver.orb_sym)\n",
    "tools.init(block2_SU2)\n",
    "mps = tools.loadMPSfromDir(mps_info=None, mpsSaveDir=mps_dir)\n",
    "csfs, coeffs = driver.get_csf_coefficients(mps, cutoff=1e-10, iprint=1)"
   ],
   "outputs": [
    {
     "name": "stdout",
     "output_type": "stream",
     "text": [
      "symmetrize error =  0.0\n",
      "mps center changed (temporarily)\n",
      "dtrie finished 0.014281165999932455\n",
      "Number of CSF =          6 (cutoff =     1e-10)\n",
      "Sum of weights of included CSF =    1.000000000000000\n",
      "\n",
      "CSF          0 2202222  =   -0.999632357118269\n",
      "CSF          1 2022222  =    0.022422340198507\n",
      "CSF          2 0222222  =    0.012649796455178\n",
      "CSF          3 2+-2222  =    0.008496266234389\n",
      "CSF          4 +-22222  =   -0.000423661442038\n",
      "CSF          5 +2-2222  =   -0.000076700030599\n"
     ]
    }
   ],
   "execution_count": 6
  },
  {
   "metadata": {
    "ExecuteTime": {
     "end_time": "2024-06-20T19:48:55.502439Z",
     "start_time": "2024-06-20T19:48:55.493892Z"
    }
   },
   "cell_type": "code",
   "source": "print(coeffs)",
   "outputs": [
    {
     "name": "stdout",
     "output_type": "stream",
     "text": [
      "[-6.54420995e-02  5.98087691e-03  6.22097954e-02 -5.98087768e-03\n",
      " -9.55066378e-03 -5.98085769e-03 -7.17602636e-02  9.90471942e-01\n",
      " -3.97898091e-03  8.34564188e-09 -3.97889641e-03 -7.17606048e-02\n",
      "  5.98086868e-03 -9.55091271e-03 -8.84026339e-03 -1.15727969e-08\n",
      " -8.84038889e-03 -1.93417094e-07 -1.68314578e-08 -3.68488849e-07]\n"
     ]
    }
   ],
   "execution_count": 166
  },
  {
   "metadata": {
    "ExecuteTime": {
     "end_time": "2024-06-20T18:34:52.852337Z",
     "start_time": "2024-06-20T18:34:52.837057Z"
    }
   },
   "cell_type": "code",
   "source": [
    "cmpct_csfs = []\n",
    "cmpct_coeffs = []"
   ],
   "outputs": [],
   "execution_count": 144
  },
  {
   "metadata": {
    "ExecuteTime": {
     "end_time": "2024-06-20T18:37:03.272395Z",
     "start_time": "2024-06-20T18:37:03.262111Z"
    }
   },
   "cell_type": "code",
   "source": [
    "cmpct_csfs.append(csfs[19])\n",
    "cmpct_coeffs.append(coeffs[19])\n",
    "print(cmpct_csfs)"
   ],
   "outputs": [
    {
     "name": "stdout",
     "output_type": "stream",
     "text": [
      "[array([3, 3, 3, 3, 3, 3, 0], dtype=uint8), array([3, 3, 3, 3, 3, 0, 3], dtype=uint8), array([3, 3, 0, 3, 3, 3, 3], dtype=uint8), array([3, 3, 3, 0, 3, 3, 3], dtype=uint8), array([3, 3, 3, 3, 0, 3, 3], dtype=uint8), array([0, 3, 3, 3, 3, 3, 3], dtype=uint8), array([3, 0, 3, 3, 3, 3, 3], dtype=uint8)]\n"
     ]
    }
   ],
   "execution_count": 151
  },
  {
   "metadata": {
    "ExecuteTime": {
     "end_time": "2024-06-20T18:04:35.309931Z",
     "start_time": "2024-06-20T18:04:35.285095Z"
    }
   },
   "cell_type": "code",
   "source": [
    "cmpct_csfs.pop()\n",
    "cmpct_coeffs.pop()"
   ],
   "outputs": [
    {
     "data": {
      "text/plain": [
       "0.0002510419984715899"
      ]
     },
     "execution_count": 120,
     "metadata": {},
     "output_type": "execute_result"
    }
   ],
   "execution_count": 120
  },
  {
   "metadata": {
    "ExecuteTime": {
     "end_time": "2024-06-20T18:37:06.712426Z",
     "start_time": "2024-06-20T18:37:06.703151Z"
    }
   },
   "cell_type": "code",
   "source": [
    "normalize_constant = 0\n",
    "for coeff in cmpct_coeffs:\n",
    "    normalize_constant += coeff**2\n",
    "print(normalize_constant)"
   ],
   "outputs": [
    {
     "name": "stdout",
     "output_type": "stream",
     "text": [
      "0.999999933078537\n"
     ]
    }
   ],
   "execution_count": 152
  },
  {
   "metadata": {
    "ExecuteTime": {
     "end_time": "2024-06-20T18:37:09.611719Z",
     "start_time": "2024-06-20T18:37:09.586667Z"
    }
   },
   "cell_type": "code",
   "source": [
    "corrected_coeffs = []\n",
    "for coeff in cmpct_coeffs:\n",
    "    corrected_coeffs.append(coeff * normalize_constant)"
   ],
   "outputs": [],
   "execution_count": 153
  },
  {
   "metadata": {
    "ExecuteTime": {
     "end_time": "2024-06-20T18:34:20.904811Z",
     "start_time": "2024-06-20T18:34:20.894362Z"
    }
   },
   "cell_type": "code",
   "source": "print(corrected_coeffs)",
   "outputs": [
    {
     "name": "stdout",
     "output_type": "stream",
     "text": [
      "[-0.9999945240402133, 0.0032387201068204852, 0.00036426867097076284, 0.0003685321186918828, 0.00034842132160782627, 0.0002767238894035529, 0.00025104201527171]\n"
     ]
    }
   ],
   "execution_count": 142
  },
  {
   "metadata": {
    "ExecuteTime": {
     "end_time": "2024-06-20T18:38:28.379360Z",
     "start_time": "2024-06-20T18:38:28.351926Z"
    }
   },
   "cell_type": "code",
   "source": [
    "cmpct_mps = driver.get_mps_from_csf_coefficients(cmpct_csfs, cmpct_coeffs, tag=\"cmpct_csf\", dot=1)\n",
    "csfs, coeffs = driver.get_csf_coefficients(cmpct_mps, cutoff=1e-10, iprint=1)\n"
   ],
   "outputs": [
    {
     "name": "stdout",
     "output_type": "stream",
     "text": [
      "mps center changed (temporarily)\n",
      "dtrie finished 0.0011498329986352473\n",
      "Number of CSF =          7 (cutoff =     1e-10)\n",
      "Sum of weights of included CSF =    0.999999933078537\n",
      "\n",
      "CSF          0 2222220  =   -0.999994457119061\n",
      "CSF          1 2222202  =    0.003238719894037\n",
      "CSF          2 2202222  =    0.000368532093908\n",
      "CSF          3 2220222  =    0.000364268646469\n",
      "CSF          4 2222022  =    0.000348421297868\n",
      "CSF          5 0222222  =    0.000276723871789\n",
      "CSF          6 2022222  =    0.000251041999130\n"
     ]
    }
   ],
   "execution_count": 160
  },
  {
   "metadata": {
    "ExecuteTime": {
     "end_time": "2024-06-20T18:11:07.014071Z",
     "start_time": "2024-06-20T18:11:06.999824Z"
    }
   },
   "cell_type": "code",
   "source": "print(coeffs)",
   "outputs": [
    {
     "name": "stdout",
     "output_type": "stream",
     "text": [
      "[-7.60030895e-05 -2.15013732e-05  3.48421298e-04 -6.71666458e-06\n",
      " -5.36766959e-05  3.23871989e-03  2.51877834e-05 -9.99994457e-01\n",
      " -9.18485211e-06 -5.49749515e-05 -5.76404615e-05  3.64268647e-04\n",
      "  3.25663338e-06  2.34806290e-05 -1.13531264e-04  3.57741564e-05\n",
      "  3.68532094e-04  7.99830264e-06  5.24419465e-05  2.51041998e-04\n",
      "  4.47396794e-05  1.26288860e-05 -1.58405115e-04 -2.35093428e-05\n",
      "  5.61317159e-05  3.61818328e-05  2.76723871e-04 -2.96969325e-05]\n"
     ]
    }
   ],
   "execution_count": 127
  },
  {
   "metadata": {
    "ExecuteTime": {
     "end_time": "2024-06-20T17:55:55.859336Z",
     "start_time": "2024-06-20T17:55:55.847915Z"
    }
   },
   "cell_type": "code",
   "source": "print(csfs)",
   "outputs": [
    {
     "name": "stdout",
     "output_type": "stream",
     "text": [
      "[[3 3 3 1 3 2 3]\n",
      " [3 3 3 1 3 3 2]\n",
      " [3 3 3 3 0 3 3]\n",
      " [3 3 3 3 1 2 3]\n",
      " [3 3 3 3 1 3 2]\n",
      " [3 3 3 3 3 0 3]\n",
      " [3 3 3 3 3 1 2]\n",
      " [3 3 3 3 3 3 0]\n",
      " [3 3 1 3 2 3 3]\n",
      " [3 3 1 3 3 2 3]\n",
      " [3 3 1 3 3 3 2]\n",
      " [3 3 3 0 3 3 3]\n",
      " [3 3 3 1 2 3 3]\n",
      " [3 1 3 3 2 3 3]\n",
      " [3 1 3 3 3 2 3]\n",
      " [3 1 3 3 3 3 2]\n",
      " [3 3 0 3 3 3 3]\n",
      " [3 3 1 2 3 3 3]\n",
      " [3 1 3 2 3 3 3]\n",
      " [3 0 3 3 3 3 3]\n",
      " [3 1 2 3 3 3 3]\n",
      " [1 3 3 3 2 3 3]\n",
      " [1 3 3 3 3 2 3]\n",
      " [1 3 3 3 3 3 2]\n",
      " [1 3 3 2 3 3 3]\n",
      " [1 3 2 3 3 3 3]\n",
      " [0 3 3 3 3 3 3]\n",
      " [1 2 3 3 3 3 3]]\n"
     ]
    }
   ],
   "execution_count": 103
  },
  {
   "metadata": {
    "ExecuteTime": {
     "end_time": "2024-06-20T18:38:32.717208Z",
     "start_time": "2024-06-20T18:38:32.706593Z"
    }
   },
   "cell_type": "code",
   "source": [
    "(\n",
    "    one_body_tensor,\n",
    "    two_body_tensor,\n",
    "    nuc_rep_energy,\n",
    "    num_orbitals,\n",
    "    num_spin_orbitals,\n",
    "    num_electrons,\n",
    "    two_S,\n",
    "    two_Sz,\n",
    "    orb_sym,\n",
    "    extra_attributes,\n",
    "    ) = dmrghandler.dmrg_calc_prepare.load_tensors_from_fcidump(data_file_path=fcidump, molpro_orbsym_convention=True)"
   ],
   "outputs": [
    {
     "name": "stdout",
     "output_type": "stream",
     "text": [
      "Parsing fcidumps_test/fcidump.36_1ru_II_2pl_{'default'_'6-31_G(dp)''Ru'_'lanl2tz'}_tbt_1_test\n"
     ]
    }
   ],
   "execution_count": 161
  },
  {
   "metadata": {
    "ExecuteTime": {
     "end_time": "2024-06-20T18:38:33.350501Z",
     "start_time": "2024-06-20T18:38:33.124616Z"
    }
   },
   "cell_type": "code",
   "source": [
    "bond_dims = [1] * 4 + [10] * 4\n",
    "noises = [1e-4] * 4 + [1e-5] * 4 + [0]\n",
    "thrds = [1e-10] * 8\n",
    "\n",
    "mpo = driver.get_qc_mpo(h1e=one_body_tensor, g2e=two_body_tensor, ecore=nuc_rep_energy, iprint=0)\n",
    "energy = driver.dmrg(mpo, mps, n_sweeps=20, bond_dims=bond_dims, noises=noises,\n",
    "    thrds=thrds, iprint=1)\n",
    "\n",
    "ener = driver.expectation(mps, mpo, mps)\n",
    "print(ener)\n",
    "\n",
    "bra = driver.get_random_mps(tag=\"GS5\", bond_dim=250, nroots=1)\n",
    "applied_mps = driver.multiply(bra ,mpo, cmpct_mps)\n",
    "print(applied_mps)\n",
    "\n",
    "variance = np.sqrt(abs(applied_mps ** 2 - ener ** 2))\n",
    "print(f\"Variance: {variance}\")\n",
    "print(f\"Variance ratio: {variance / ener}\")"
   ],
   "outputs": [
    {
     "name": "stdout",
     "output_type": "stream",
     "text": [
      "\n",
      "Sweep =    0 | Direction =  forward | Bond dimension =    1 | Noise =  1.00e-04 | Dav threshold =  1.00e-10\n",
      "Time elapsed =      0.019 | E =   -3748.2039936058 | DW = 6.05e-05\n",
      "\n",
      "Sweep =    1 | Direction = backward | Bond dimension =    1 | Noise =  1.00e-04 | Dav threshold =  1.00e-10\n",
      "Time elapsed =      0.033 | E =   -3748.2039862955 | DE = 7.31e-06 | DW = 8.34e-05\n",
      "\n",
      "Sweep =    2 | Direction =  forward | Bond dimension =    1 | Noise =  1.00e-04 | Dav threshold =  1.00e-10\n",
      "Time elapsed =      0.047 | E =   -3748.2039862955 | DE = 0.00e+00 | DW = 6.05e-05\n",
      "\n",
      "Sweep =    3 | Direction = backward | Bond dimension =    1 | Noise =  1.00e-04 | Dav threshold =  1.00e-10\n",
      "Time elapsed =      0.062 | E =   -3748.2039862955 | DE = 0.00e+00 | DW = 8.34e-05\n",
      "\n",
      "Sweep =    4 | Direction =  forward | Bond dimension =   10 | Noise =  1.00e-05 | Dav threshold =  1.00e-10\n",
      "Time elapsed =      0.077 | E =   -3748.2039862955 | DE = 0.00e+00 | DW = 0.00e+00\n",
      "\n",
      "Sweep =    5 | Direction = backward | Bond dimension =   10 | Noise =  1.00e-05 | Dav threshold =  1.00e-10\n",
      "Time elapsed =      0.093 | E =   -3748.2039936056 | DE = -7.31e-06 | DW = 8.57e-21\n",
      "\n",
      "Sweep =    6 | Direction =  forward | Bond dimension =   10 | Noise =  1.00e-05 | Dav threshold =  1.00e-10\n",
      "Time elapsed =      0.105 | E =   -3748.2039936058 | DE = -2.31e-10 | DW = 1.99e-21\n",
      "\n",
      "Sweep =    7 | Direction = backward | Bond dimension =   10 | Noise =  1.00e-05 | Dav threshold =  1.00e-10\n",
      "Time elapsed =      0.116 | E =   -3748.2039936058 | DE = -4.55e-13 | DW = 9.76e-23\n",
      "\n",
      "Sweep =    8 | Direction =  forward | Bond dimension =   10 | Noise =  0.00e+00 | Dav threshold =  1.00e-09\n",
      "Time elapsed =      0.125 | E =   -3748.2039936058 | DE = 0.00e+00 | DW = 6.62e-22\n",
      "\n",
      "-3748.203993605788\n",
      "3748.2038675913254\n",
      "Variance: 0.9719340561743257\n",
      "Variance ratio: -0.0002593066059991364\n"
     ]
    }
   ],
   "execution_count": 162
  },
  {
   "metadata": {
    "ExecuteTime": {
     "end_time": "2024-06-20T03:43:28.318681Z",
     "start_time": "2024-06-20T03:43:28.312312Z"
    }
   },
   "cell_type": "code",
   "source": [
    "mol = 'h2'\n",
    "Hf = sl.load_fermionic_hamiltonian(mol, prefix=\"../CAS/\")\n",
    "print(Hf)"
   ],
   "outputs": [
    {
     "name": "stdout",
     "output_type": "stream",
     "text": [
      "0.52917721092 [] +\n",
      "-1.110844179883727 [0^ 0] +\n",
      "0.31320124976475894 [0^ 0^ 0 0] +\n",
      "0.09839529174273512 [0^ 0^ 2 2] +\n",
      "0.31320124976475894 [0^ 1^ 1 0] +\n",
      "0.09839529174273512 [0^ 1^ 3 2] +\n",
      "0.09839529174273512 [0^ 2^ 0 2] +\n",
      "0.3108533815598566 [0^ 2^ 2 0] +\n",
      "0.09839529174273512 [0^ 3^ 1 2] +\n",
      "0.3108533815598566 [0^ 3^ 3 0] +\n",
      "0.31320124976475894 [1^ 0^ 0 1] +\n",
      "0.09839529174273512 [1^ 0^ 2 3] +\n",
      "-1.110844179883727 [1^ 1] +\n",
      "0.31320124976475894 [1^ 1^ 1 1] +\n",
      "0.09839529174273512 [1^ 1^ 3 3] +\n",
      "0.09839529174273512 [1^ 2^ 0 3] +\n",
      "0.3108533815598566 [1^ 2^ 2 1] +\n",
      "0.09839529174273512 [1^ 3^ 1 3] +\n",
      "0.3108533815598566 [1^ 3^ 3 1] +\n",
      "0.31085338155985665 [2^ 0^ 0 2] +\n",
      "0.09839529174273512 [2^ 0^ 2 0] +\n",
      "0.31085338155985665 [2^ 1^ 1 2] +\n",
      "0.09839529174273512 [2^ 1^ 3 0] +\n",
      "-0.5891210037060828 [2^ 2] +\n",
      "0.09839529174273512 [2^ 2^ 0 0] +\n",
      "0.3265353734712869 [2^ 2^ 2 2] +\n",
      "0.09839529174273512 [2^ 3^ 1 0] +\n",
      "0.3265353734712869 [2^ 3^ 3 2] +\n",
      "0.31085338155985665 [3^ 0^ 0 3] +\n",
      "0.09839529174273512 [3^ 0^ 2 1] +\n",
      "0.31085338155985665 [3^ 1^ 1 3] +\n",
      "0.09839529174273512 [3^ 1^ 3 1] +\n",
      "0.09839529174273512 [3^ 2^ 0 1] +\n",
      "0.3265353734712869 [3^ 2^ 2 3] +\n",
      "-0.5891210037060828 [3^ 3] +\n",
      "0.09839529174273512 [3^ 3^ 1 1] +\n",
      "0.3265353734712869 [3^ 3^ 3 3]\n"
     ]
    }
   ],
   "execution_count": 2
  },
  {
   "metadata": {
    "ExecuteTime": {
     "end_time": "2024-06-20T04:06:44.380615Z",
     "start_time": "2024-06-20T04:06:44.271791Z"
    }
   },
   "cell_type": "code",
   "source": [
    "from DMRG_simulation.format_dmrg.format_dmrg_param import get_dmrg_param, get_dmrg_process_param\n",
    "\n",
    "mol = 'h2'\n",
    "Hf = sl.load_fermionic_hamiltonian(mol, prefix=\"../CAS/\")\n",
    "spin_orb = of.count_qubits(Hf)\n",
    "print(\"Spin orb:\", spin_orb)\n",
    "two_body = feru.get_chemist_tbt(Hf, spin_orb, spin_orb=True)\n",
    "one_body = feru.get_obt(Hf, spin_orb, spin_orb=True)\n",
    "print(two_body)\n",
    "spatial_obt, spatial_tbt, spin_symm_broken = dmrghandler.dmrg_calc_prepare.spinorbitals_to_orbitals(one_body, two_body)\n",
    "print(spin_symm_broken)\n",
    "\n",
    "print(spatial_tbt.shape[0])\n",
    "\n",
    "default_final_bond_dim = 1\n",
    "default_sweep_schedule_bond_dims = [default_final_bond_dim] * 4 + [\n",
    "    default_final_bond_dim\n",
    "] * 4\n",
    "default_sweep_schedule_noise = [1e-4] * 4 + [1e-5] * 4 + [0]\n",
    "default_sweep_schedule_davidson_threshold = [1e-10] * 8\n",
    "\n",
    "init_state_bond_dimension = 1\n",
    "max_num_sweeps = 200\n",
    "energy_convergence_threshold = 1e-8\n",
    "sweep_schedule_bond_dims = default_sweep_schedule_bond_dims\n",
    "sweep_schedule_noise = default_sweep_schedule_noise\n",
    "sweep_schedule_davidson_threshold = (\n",
    "    default_sweep_schedule_davidson_threshold\n",
    ")\n",
    "nuc_rep_energy = 0\n",
    "    \n",
    "num_orbitals = 2\n",
    "num_electrons = 2\n",
    "num_unpaired = 0\n",
    "multiplicity = 1\n",
    "dmrg_process_param = get_dmrg_process_param(\n",
    "    init_state_bond_dimension, max_num_sweeps, energy_convergence_threshold,\n",
    "    sweep_schedule_bond_dims, sweep_schedule_noise,\n",
    "    sweep_schedule_davidson_threshold)\n",
    "dmrg_param = get_dmrg_param(\n",
    "    num_orbitals, num_electrons, num_unpaired,\n",
    "    multiplicity, dmrg_process_param)\n",
    "    \n",
    "result = dmrghandler.qchem_dmrg_calc.single_qchem_dmrg_calc(spatial_obt, spatial_tbt, dmrg_param)\n",
    "mps = result['ket_optimized']\n",
    "print(result)"
   ],
   "outputs": [
    {
     "name": "stdout",
     "output_type": "stream",
     "text": [
      "Spin orb: 4\n",
      "[[[[0.31320125 0.         0.         0.        ]\n",
      "   [0.         0.31320125 0.         0.        ]\n",
      "   [0.         0.         0.31085338 0.        ]\n",
      "   [0.         0.         0.         0.31085338]]\n",
      "\n",
      "  [[0.         0.         0.         0.        ]\n",
      "   [0.         0.         0.         0.        ]\n",
      "   [0.         0.         0.         0.        ]\n",
      "   [0.         0.         0.         0.        ]]\n",
      "\n",
      "  [[0.         0.         0.09839529 0.        ]\n",
      "   [0.         0.         0.         0.09839529]\n",
      "   [0.09839529 0.         0.         0.        ]\n",
      "   [0.         0.09839529 0.         0.        ]]\n",
      "\n",
      "  [[0.         0.         0.         0.        ]\n",
      "   [0.         0.         0.         0.        ]\n",
      "   [0.         0.         0.         0.        ]\n",
      "   [0.         0.         0.         0.        ]]]\n",
      "\n",
      "\n",
      " [[[0.         0.         0.         0.        ]\n",
      "   [0.         0.         0.         0.        ]\n",
      "   [0.         0.         0.         0.        ]\n",
      "   [0.         0.         0.         0.        ]]\n",
      "\n",
      "  [[0.31320125 0.         0.         0.        ]\n",
      "   [0.         0.31320125 0.         0.        ]\n",
      "   [0.         0.         0.31085338 0.        ]\n",
      "   [0.         0.         0.         0.31085338]]\n",
      "\n",
      "  [[0.         0.         0.         0.        ]\n",
      "   [0.         0.         0.         0.        ]\n",
      "   [0.         0.         0.         0.        ]\n",
      "   [0.         0.         0.         0.        ]]\n",
      "\n",
      "  [[0.         0.         0.09839529 0.        ]\n",
      "   [0.         0.         0.         0.09839529]\n",
      "   [0.09839529 0.         0.         0.        ]\n",
      "   [0.         0.09839529 0.         0.        ]]]\n",
      "\n",
      "\n",
      " [[[0.         0.         0.09839529 0.        ]\n",
      "   [0.         0.         0.         0.09839529]\n",
      "   [0.09839529 0.         0.         0.        ]\n",
      "   [0.         0.09839529 0.         0.        ]]\n",
      "\n",
      "  [[0.         0.         0.         0.        ]\n",
      "   [0.         0.         0.         0.        ]\n",
      "   [0.         0.         0.         0.        ]\n",
      "   [0.         0.         0.         0.        ]]\n",
      "\n",
      "  [[0.31085338 0.         0.         0.        ]\n",
      "   [0.         0.31085338 0.         0.        ]\n",
      "   [0.         0.         0.32653537 0.        ]\n",
      "   [0.         0.         0.         0.32653537]]\n",
      "\n",
      "  [[0.         0.         0.         0.        ]\n",
      "   [0.         0.         0.         0.        ]\n",
      "   [0.         0.         0.         0.        ]\n",
      "   [0.         0.         0.         0.        ]]]\n",
      "\n",
      "\n",
      " [[[0.         0.         0.         0.        ]\n",
      "   [0.         0.         0.         0.        ]\n",
      "   [0.         0.         0.         0.        ]\n",
      "   [0.         0.         0.         0.        ]]\n",
      "\n",
      "  [[0.         0.         0.09839529 0.        ]\n",
      "   [0.         0.         0.         0.09839529]\n",
      "   [0.09839529 0.         0.         0.        ]\n",
      "   [0.         0.09839529 0.         0.        ]]\n",
      "\n",
      "  [[0.         0.         0.         0.        ]\n",
      "   [0.         0.         0.         0.        ]\n",
      "   [0.         0.         0.         0.        ]\n",
      "   [0.         0.         0.         0.        ]]\n",
      "\n",
      "  [[0.31085338 0.         0.         0.        ]\n",
      "   [0.         0.31085338 0.         0.        ]\n",
      "   [0.         0.         0.32653537 0.        ]\n",
      "   [0.         0.         0.         0.32653537]]]]\n",
      "False\n",
      "2\n",
      "{'dmrg_driver': <pyblock2.driver.core.DMRGDriver object at 0x300b37760>, 'dmrg_ground_state_energy': -1.9175704779130445, 'initial_ket': <block2.su2.MPS object at 0x300112eb0>, 'initial_bond_dims': 1, 'ket_optimized': <block2.su2.MPS object at 0x300703470>, 'dmrg_discarded_weight': 0.008450059509844746, 'sweep_bond_dims': array([1, 1, 1, 1, 1, 1, 1, 1, 1]), 'sweep_max_discarded_weight': array([0.00847509, 0.00848379, 0.0084501 , 0.00848379, 0.00845006,\n",
      "       0.00845343, 0.00845006, 0.00845343, 0.00845006]), 'sweep_energies': array([[-1.91757048],\n",
      "       [-1.91757048],\n",
      "       [-1.91757048],\n",
      "       [-1.91757048],\n",
      "       [-1.91757048],\n",
      "       [-1.91757048],\n",
      "       [-1.91757048],\n",
      "       [-1.91757048],\n",
      "       [-1.91757048]]), 'wall_make_driver_time_s': 0.001287125, 'cpu_make_driver_time_s': 0.000942, 'wall_driver_initialize_system_time_s': 0.001135583, 'cpu_driver_initialize_system_time_s': 0.000743, 'wall_reorder_integrals_time_s': 4.6167e-05, 'cpu_reorder_integrals_time_s': 2.6e-05, 'wall_get_qchem_hami_mpo_time_s': 0.008029917, 'cpu_get_qchem_hami_mpo_time_s': 0.00393, 'wall_generate_initial_mps_time_s': 0.004165625, 'cpu_generate_initial_mps_time_s': 0.002593, 'wall_copy_mps_time_s': 0.001569458, 'cpu_copy_mps_time_s': 0.000962, 'wall_dmrg_optimization_time_s': 0.031564291, 'cpu_dmrg_optimization_time_s': 0.013647, 'wall_single_qchem_dmrg_calc_time_s': 0.053170542, 'cpu_single_qchem_dmrg_calc_time_s': 0.025923}\n"
     ]
    }
   ],
   "execution_count": 35
  },
  {
   "metadata": {
    "ExecuteTime": {
     "end_time": "2024-06-20T14:32:48.666689Z",
     "start_time": "2024-06-20T14:32:48.637690Z"
    }
   },
   "cell_type": "code",
   "source": [
    "from openfermion.linalg import expectation, get_number_preserving_sparse_operator\n",
    "\n",
    "state1 = np.array([1, 0, 0, 1])\n",
    "state2 = np.array([1, 1, 0, 1])\n",
    "mol = 'h2'\n",
    "Hf = sl.load_fermionic_hamiltonian(mol, prefix=\"../CAS/\")\n",
    "sparse = get_number_preserving_sparse_operator(\n",
    "    Hf,\n",
    "    4,\n",
    "    2,\n",
    "    spin_preserving=True,\n",
    "    reference_determinant=None,\n",
    "    excitation_level=None\n",
    ")\n",
    "result = np.dot(np.conjugate(state2), sparse * state1)\n",
    "print(result)\n",
    "print(sparse)\n",
    "result2 =  np.dot(np.conjugate(state1), sparse * sparse * state1)\n",
    "print(result2)"
   ],
   "outputs": [
    {
     "name": "stdout",
     "output_type": "stream",
     "text": [
      "-0.6685215318965874\n",
      "  (0, 0)\t-1.0661086493179361\n",
      "  (3, 0)\t0.19679058348547024\n",
      "  (1, 1)\t-0.5490812095500965\n",
      "  (2, 1)\t-0.19679058348547024\n",
      "  (1, 2)\t-0.19679058348547024\n",
      "  (2, 2)\t-0.5490812095500965\n",
      "  (0, 3)\t0.19679058348547024\n",
      "  (3, 3)\t0.004005950450408302\n",
      "0.7960331476233619\n"
     ]
    }
   ],
   "execution_count": 49
  },
  {
   "metadata": {
    "ExecuteTime": {
     "end_time": "2024-06-19T20:12:29.207475Z",
     "start_time": "2024-06-19T20:12:29.204632Z"
    }
   },
   "cell_type": "code",
   "source": "print(gs)",
   "outputs": [
    {
     "name": "stdout",
     "output_type": "stream",
     "text": [
      "[-2.05916709e-16-2.06042220e-16j  3.90120943e-18+1.81811978e-17j\n",
      "  1.25533354e-19+2.34518980e-18j  1.30037065e-01+1.17572708e-01j\n",
      " -1.03852866e-16+9.80231344e-17j  1.65068906e-16+2.12994444e-16j\n",
      "  1.59503781e-17+1.22779328e-16j -8.13957203e-17+8.46570692e-18j\n",
      "  8.76483431e-17-3.77119759e-18j  8.67597385e-17+2.82796205e-16j\n",
      " -4.16277114e-17-1.66028970e-16j -6.95148222e-17-3.20427425e-17j\n",
      " -7.30275181e-01-6.60276594e-01j  7.90996627e-17-2.71820843e-17j\n",
      " -1.25434559e-16+1.94747454e-16j  6.42926034e-17-1.71832276e-16j]\n"
     ]
    }
   ],
   "execution_count": 79
  },
  {
   "metadata": {
    "ExecuteTime": {
     "end_time": "2024-06-19T19:22:55.639021Z",
     "start_time": "2024-06-19T19:22:55.539352Z"
    }
   },
   "cell_type": "code",
   "source": [
    "mol = 'h2'\n",
    "Hf = sl.load_fermionic_hamiltonian(mol, prefix=\"../CAS/\")\n",
    "ground_energy, ground_state = get_ground_state_fci(mol, path=\"../CAS/\")"
   ],
   "outputs": [
    {
     "name": "stdout",
     "output_type": "stream",
     "text": [
      "<class 'openfermion.ops.operators.fermion_operator.FermionOperator'>\n",
      "<class 'openfermion.ops.operators.fermion_operator.FermionOperator'>\n"
     ]
    }
   ],
   "execution_count": 26
  },
  {
   "metadata": {
    "ExecuteTime": {
     "end_time": "2024-06-19T19:22:56.250637Z",
     "start_time": "2024-06-19T19:22:56.246121Z"
    }
   },
   "cell_type": "code",
   "source": [
    "print(ground_state)\n",
    "print(ground_energy)"
   ],
   "outputs": [
    {
     "name": "stdout",
     "output_type": "stream",
     "text": [
      "[-3.45875348e-18+5.43180044e-17j -5.06623854e-17+3.03262077e-17j\n",
      "  7.44937116e-17-1.14496158e-16j -1.31260206e-01-1.16205586e-01j\n",
      "  5.59967899e-18+1.81510941e-16j  1.96307051e-16-2.92076209e-16j\n",
      "  9.18412486e-17+4.32681988e-16j -8.75560026e-17-1.05668652e-16j\n",
      "  3.15028986e-16+1.08544494e-16j -2.30507331e-16+3.14855764e-16j\n",
      " -2.46627595e-16-5.02624687e-17j -1.53619265e-16-3.46519576e-17j\n",
      "  7.37144219e-01+6.52598973e-01j -4.07008212e-16+4.54092407e-16j\n",
      " -6.35019038e-17-3.44911793e-16j  7.78062542e-17+4.75163862e-17j]\n",
      "-1.6303275411526181\n"
     ]
    }
   ],
   "execution_count": 27
  },
  {
   "metadata": {
    "ExecuteTime": {
     "end_time": "2024-06-19T16:58:33.081917Z",
     "start_time": "2024-06-19T16:58:33.079567Z"
    }
   },
   "cell_type": "code",
   "source": "print(result.keys())",
   "outputs": [
    {
     "name": "stdout",
     "output_type": "stream",
     "text": [
      "dict_keys(['dmrg_driver', 'dmrg_ground_state_energy', 'initial_ket', 'initial_bond_dims', 'ket_optimized', 'dmrg_discarded_weight', 'sweep_bond_dims', 'sweep_max_discarded_weight', 'sweep_energies', 'wall_make_driver_time_s', 'cpu_make_driver_time_s', 'wall_driver_initialize_system_time_s', 'cpu_driver_initialize_system_time_s', 'wall_reorder_integrals_time_s', 'cpu_reorder_integrals_time_s', 'wall_get_qchem_hami_mpo_time_s', 'cpu_get_qchem_hami_mpo_time_s', 'wall_generate_initial_mps_time_s', 'cpu_generate_initial_mps_time_s', 'wall_copy_mps_time_s', 'cpu_copy_mps_time_s', 'wall_dmrg_optimization_time_s', 'cpu_dmrg_optimization_time_s', 'wall_single_qchem_dmrg_calc_time_s', 'cpu_single_qchem_dmrg_calc_time_s'])\n"
     ]
    }
   ],
   "execution_count": 66
  },
  {
   "metadata": {
    "ExecuteTime": {
     "end_time": "2024-06-19T16:58:33.373903Z",
     "start_time": "2024-06-19T16:58:33.371179Z"
    }
   },
   "cell_type": "code",
   "source": "",
   "outputs": [],
   "execution_count": 66
  },
  {
   "cell_type": "code",
   "metadata": {
    "ExecuteTime": {
     "end_time": "2024-06-20T16:52:44.233796Z",
     "start_time": "2024-06-20T16:52:44.226181Z"
    }
   },
   "source": [
    "driver = DMRGDriver(\n",
    "        stack_mem=stack_mem,\n",
    "        scratch=str(temp_dir),\n",
    "        clean_scratch=True,  # Default value\n",
    "        restart_dir=str(restart_dir),\n",
    "        n_threads=num_threads,\n",
    "        # n_mkl_threads=n_mkl_threads,  # Default value is 1\n",
    "        symm_type=symmetry_type,\n",
    "        mpi=None,  # Default value\n",
    "        stack_mem_ratio=stack_mem_ratio,  # Default value 0.4\n",
    "        fp_codec_cutoff=1e-16,  # Default value 1e-16,\n",
    "        \n",
    "    )"
   ],
   "outputs": [],
   "execution_count": 79
  },
  {
   "metadata": {
    "ExecuteTime": {
     "end_time": "2024-06-20T16:52:44.655398Z",
     "start_time": "2024-06-20T16:52:44.651261Z"
    }
   },
   "cell_type": "code",
   "source": "driver.initialize_system(n_sites=num_orbitals, n_elec=num_electrons, spin=num_electrons, orb_sym=None)",
   "outputs": [],
   "execution_count": 80
  },
  {
   "metadata": {
    "ExecuteTime": {
     "end_time": "2024-06-20T16:52:45.274694Z",
     "start_time": "2024-06-20T16:52:45.209610Z"
    }
   },
   "cell_type": "code",
   "source": "mpo = driver.get_qc_mpo(h1e=one_body_tensor, g2e=two_body_tensor, ecore=nuc_rep_energy, iprint=0)",
   "outputs": [],
   "execution_count": 81
  },
  {
   "metadata": {
    "ExecuteTime": {
     "end_time": "2024-06-20T16:09:43.776085Z",
     "start_time": "2024-06-20T16:09:43.451820Z"
    }
   },
   "cell_type": "code",
   "source": [
    "\n",
    "energy = driver.dmrg(mpo, mps, n_sweeps=20, bond_dims=bond_dims, noises=noises,\n",
    "    thrds=thrds, iprint=1)"
   ],
   "outputs": [
    {
     "name": "stdout",
     "output_type": "stream",
     "text": [
      "\n",
      "Sweep =    0 | Direction = backward | Bond dimension =    1 | Noise =  1.00e-04 | Dav threshold =  1.00e-10\n",
      "Time elapsed =      0.063 | E =   -3570.4283181384 | DW = 8.22e-05\n",
      "\n",
      "Sweep =    1 | Direction =  forward | Bond dimension =    1 | Noise =  1.00e-04 | Dav threshold =  1.00e-10\n",
      "Time elapsed =      0.083 | E =   -3570.4283108291 | DE = 7.31e-06 | DW = 6.05e-05\n",
      "\n",
      "Sweep =    2 | Direction = backward | Bond dimension =    1 | Noise =  1.00e-04 | Dav threshold =  1.00e-10\n",
      "Time elapsed =      0.097 | E =   -3570.4283108291 | DE = 0.00e+00 | DW = 8.16e-05\n",
      "\n",
      "Sweep =    3 | Direction =  forward | Bond dimension =    1 | Noise =  1.00e-04 | Dav threshold =  1.00e-10\n",
      "Time elapsed =      0.112 | E =   -3570.4283108291 | DE = 0.00e+00 | DW = 6.05e-05\n",
      "\n",
      "Sweep =    4 | Direction = backward | Bond dimension =    3 | Noise =  1.00e-05 | Dav threshold =  1.00e-10\n",
      "Time elapsed =      0.136 | E =   -3570.4283176063 | DE = -6.78e-06 | DW = 2.01e-09\n",
      "\n",
      "Sweep =    5 | Direction =  forward | Bond dimension =    3 | Noise =  1.00e-05 | Dav threshold =  1.00e-10\n",
      "Time elapsed =      0.147 | E =   -3570.4283180168 | DE = -4.10e-07 | DW = 1.05e-06\n",
      "\n",
      "Sweep =    6 | Direction = backward | Bond dimension =    3 | Noise =  1.00e-05 | Dav threshold =  1.00e-10\n",
      "Time elapsed =      0.157 | E =   -3570.4283180168 | DE = -4.55e-13 | DW = 4.02e-08\n",
      "\n",
      "Sweep =    7 | Direction =  forward | Bond dimension =    3 | Noise =  1.00e-05 | Dav threshold =  1.00e-10\n",
      "Time elapsed =      0.182 | E =   -3570.4283180171 | DE = -3.02e-10 | DW = 1.06e-06\n",
      "\n",
      "Sweep =    8 | Direction = backward | Bond dimension =    3 | Noise =  0.00e+00 | Dav threshold =  1.00e-09\n",
      "Time elapsed =      0.211 | E =   -3570.4283180786 | DE = -6.15e-08 | DW = 2.65e-09\n",
      "\n",
      "Sweep =    9 | Direction =  forward | Bond dimension =    3 | Noise =  0.00e+00 | Dav threshold =  1.00e-09\n",
      "Time elapsed =      0.243 | E =   -3570.4283180956 | DE = -1.70e-08 | DW = 2.79e-09\n",
      "\n",
      "Sweep =   10 | Direction = backward | Bond dimension =    3 | Noise =  0.00e+00 | Dav threshold =  1.00e-09\n",
      "Time elapsed =      0.259 | E =   -3570.4283180956 | DE = 4.55e-13 | DW = 2.79e-09\n",
      "\n"
     ]
    }
   ],
   "execution_count": 57
  },
  {
   "metadata": {
    "ExecuteTime": {
     "end_time": "2024-06-20T16:09:52.130863Z",
     "start_time": "2024-06-20T16:09:52.086413Z"
    }
   },
   "cell_type": "code",
   "source": "mps.info.bond_dim",
   "outputs": [
    {
     "data": {
      "text/plain": [
       "36"
      ]
     },
     "execution_count": 58,
     "metadata": {},
     "output_type": "execute_result"
    }
   ],
   "execution_count": 58
  },
  {
   "metadata": {
    "ExecuteTime": {
     "end_time": "2024-06-20T16:53:41.019183Z",
     "start_time": "2024-06-20T16:53:40.993159Z"
    }
   },
   "cell_type": "code",
   "source": "csfs, coeffs = driver.get_csf_coefficients(mps, cutoff=1e-10, iprint=1)",
   "outputs": [
    {
     "name": "stdout",
     "output_type": "stream",
     "text": [
      "dtrie finished 0.0029057499996270053\n",
      "Number of CSF =         54 (cutoff =     1e-10)\n",
      "Sum of weights of included CSF =    1.000000000000000\n",
      "\n",
      "CSF          0 2222200  =   -0.999980504521635\n",
      "CSF          1 2222+-0  =   -0.003440485114342\n",
      "CSF          2 +2222-0  =   -0.002926072873364\n",
      "CSF          3 2222020  =    0.002133508140008\n",
      "CSF          4 0222220  =    0.001830590034143\n",
      "CSF          5 2220220  =    0.001820324356732\n",
      "CSF          6 2022220  =    0.001806748030014\n",
      "CSF          7 2202220  =    0.001660122416371\n",
      "CSF          8 2222+0-  =    0.000802282635776\n",
      "CSF          9 +22220-  =   -0.000499831097528\n",
      "CSF         10 2222002  =    0.000343756742188\n",
      "CSF         11 0222202  =    0.000294949737767\n",
      "CSF         12 2220202  =    0.000293295703383\n",
      "CSF         13 2022202  =    0.000291108248010\n",
      "CSF         14 2202202  =    0.000267483522928\n",
      "CSF         15 +222-20  =   -0.000093079613559\n",
      "CSF         16 22220+-  =    0.000036459302765\n",
      "CSF         17 02222+-  =    0.000031282766183\n",
      "CSF         18 22202+-  =    0.000031107337070\n",
      "CSF         19 20222+-  =    0.000030875332609\n",
      "CSF         20 22022+-  =    0.000028369662469\n",
      "CSF         21 +222-02  =   -0.000014997245204\n",
      "CSF         22 +222-+-  =   -0.000001590628012\n",
      "CSF         23 222+2-0  =    0.000001471346242\n",
      "CSF         24 +-22220  =   -0.000000321062004\n",
      "CSF         25 222+20-  =   -0.000000285937907\n",
      "CSF         26 2+222-0  =    0.000000251919821\n",
      "CSF         27 2+-2220  =   -0.000000207524767\n",
      "CSF         28 22+22-0  =   -0.000000132499167\n",
      "CSF         29 222+-20  =    0.000000127070332\n",
      "CSF         30 22+-220  =   -0.000000116055464\n",
      "CSF         31 +-22202  =   -0.000000051730400\n",
      "CSF         32 2+2220-  =    0.000000045453198\n",
      "CSF         33 2+-2202  =   -0.000000033436965\n",
      "CSF         34 2+2-220  =   -0.000000031194389\n",
      "CSF         35 +22-220  =    0.000000027337003\n",
      "CSF         36 222+-02  =    0.000000020473924\n",
      "CSF         37 22+-202  =   -0.000000018699178\n",
      "CSF         38 22+220-  =   -0.000000013628184\n",
      "CSF         39 2+22-20  =    0.000000007652092\n",
      "CSF         40 22+2-20  =   -0.000000005560205\n",
      "CSF         41 +-222+-  =   -0.000000005486596\n",
      "CSF         42 2+2-202  =   -0.000000005026126\n",
      "CSF         43 +2-2220  =   -0.000000004459321\n",
      "CSF         44 +22-202  =    0.000000004404614\n",
      "CSF         45 2+-22+-  =   -0.000000003546370\n",
      "CSF         46 222+-+-  =    0.000000002171492\n",
      "CSF         47 22+-2+-  =   -0.000000001983260\n",
      "CSF         48 2+22-02  =    0.000000001232926\n",
      "CSF         49 22+2-02  =   -0.000000000895876\n",
      "CSF         50 +2-2202  =   -0.000000000718498\n",
      "CSF         51 2+2-2+-  =   -0.000000000533078\n",
      "CSF         52 +22-2+-  =    0.000000000467159\n",
      "CSF         53 2+22-+-  =    0.000000000130766\n"
     ]
    }
   ],
   "execution_count": 86
  },
  {
   "metadata": {
    "ExecuteTime": {
     "end_time": "2024-06-19T17:14:09.703059Z",
     "start_time": "2024-06-19T17:14:09.678115Z"
    }
   },
   "cell_type": "code",
   "source": [
    "ener = driver.expectation(mps, mpo, mps)\n",
    "print(ener)"
   ],
   "outputs": [
    {
     "name": "stdout",
     "output_type": "stream",
     "text": [
      "-3865.717206234868\n"
     ]
    }
   ],
   "execution_count": 93
  },
  {
   "metadata": {
    "ExecuteTime": {
     "end_time": "2024-06-19T17:14:13.150125Z",
     "start_time": "2024-06-19T17:14:12.976608Z"
    }
   },
   "cell_type": "code",
   "source": [
    "bra = driver.get_random_mps(tag=\"GS4\", bond_dim=250, nroots=1)\n",
    "applied_mps = driver.multiply(bra ,mpo, mps)"
   ],
   "outputs": [],
   "execution_count": 94
  },
  {
   "metadata": {
    "ExecuteTime": {
     "end_time": "2024-06-19T17:14:20.759202Z",
     "start_time": "2024-06-19T17:14:20.754381Z"
    }
   },
   "cell_type": "code",
   "source": [
    "variance = np.sqrt(abs(applied_mps ** 2 - ener ** 2))\n",
    "print(f\"Variance: {variance}\")\n",
    "print(f\"Variance ratio: {variance / ener}\")"
   ],
   "outputs": [
    {
     "name": "stdout",
     "output_type": "stream",
     "text": [
      "Variance: 0.01169066242027463\n",
      "Variance ratio: -3.0241897677924307e-06\n"
     ]
    }
   ],
   "execution_count": 97
  },
  {
   "metadata": {
    "ExecuteTime": {
     "end_time": "2024-06-11T04:20:38.930335Z",
     "start_time": "2024-06-11T04:20:38.914431Z"
    }
   },
   "cell_type": "code",
   "source": "csfs, coeffs = driver.get_csf_coefficients(mps, cutoff=0.05, iprint=1)",
   "outputs": [
    {
     "name": "stdout",
     "output_type": "stream",
     "text": [
      "dtrie finished 0.005632624999634572\n",
      "Number of CSF =         12 (cutoff =      0.05)\n",
      "Sum of weights of included CSF =    0.996244379611767\n",
      "\n",
      "CSF          0 22+22+22222--0  =    0.614561088123480\n",
      "CSF          1 22+22+2222-2-0  =   -0.560569826498747\n",
      "CSF          2 22++2222222--0  =    0.330779569868118\n",
      "CSF          3 22++222222-2-0  =   -0.301719470486626\n",
      "CSF          4 22+22+222-22-0  =   -0.177664504444928\n",
      "CSF          5 22+22+22222-0-  =    0.153776143303813\n",
      "CSF          6 22+22+2222-20-  =   -0.140266391148645\n",
      "CSF          7 22++22222-22-0  =   -0.095625625339491\n",
      "CSF          8 22++2222222-0-  =    0.082768023425188\n",
      "CSF          9 22++222222-20-  =   -0.075496573778813\n",
      "CSF         10 22+2+222222--0  =   -0.063080199355577\n",
      "CSF         11 22+2+22222-2-0  =    0.057538391368438\n"
     ]
    }
   ],
   "execution_count": 300
  },
  {
   "metadata": {
    "ExecuteTime": {
     "end_time": "2024-06-08T00:32:03.122822Z",
     "start_time": "2024-06-08T00:32:03.116457Z"
    }
   },
   "cell_type": "code",
   "source": "print(ener)",
   "outputs": [
    {
     "name": "stdout",
     "output_type": "stream",
     "text": [
      "-5843.712701827251\n"
     ]
    }
   ],
   "execution_count": 22
  },
  {
   "metadata": {},
   "cell_type": "code",
   "outputs": [],
   "execution_count": null,
   "source": [
    "ordm1 = driver.get_orbital_entropies(mps, orb_type=1)\n",
    "ordm2 = driver.get_orbital_entropies(mps, orb_type=2)\n",
    "minfo = 0.5 * (ordm1[:, None] + ordm1[None, :] - ordm2) * (1 - np.identity(len(ordm1)))"
   ]
  },
  {
   "cell_type": "code",
   "metadata": {
    "ExecuteTime": {
     "end_time": "2024-06-08T00:14:38.032988Z",
     "start_time": "2024-06-08T00:14:37.871474Z"
    }
   },
   "source": [
    "mps_to_use = driver.load_mps(tag=\"ket_optimized\", nroots=1)"
   ],
   "outputs": [
    {
     "ename": "AttributeError",
     "evalue": "'NoneType' object has no attribute 'opf'",
     "output_type": "error",
     "traceback": [
      "\u001B[0;31m---------------------------------------------------------------------------\u001B[0m",
      "\u001B[0;31mAttributeError\u001B[0m                            Traceback (most recent call last)",
      "Cell \u001B[0;32mIn[8], line 1\u001B[0m\n\u001B[0;32m----> 1\u001B[0m mps_to_use \u001B[38;5;241m=\u001B[39m \u001B[43mdriver\u001B[49m\u001B[38;5;241;43m.\u001B[39;49m\u001B[43mload_mps\u001B[49m\u001B[43m(\u001B[49m\u001B[43mtag\u001B[49m\u001B[38;5;241;43m=\u001B[39;49m\u001B[38;5;124;43m\"\u001B[39;49m\u001B[38;5;124;43mket_optimized\u001B[39;49m\u001B[38;5;124;43m\"\u001B[39;49m\u001B[43m,\u001B[49m\u001B[43m \u001B[49m\u001B[43mnroots\u001B[49m\u001B[38;5;241;43m=\u001B[39;49m\u001B[38;5;241;43m1\u001B[39;49m\u001B[43m)\u001B[49m\n",
      "File \u001B[0;32m~/planted_solutions/planted_solutions/venv/lib/python3.9/site-packages/pyblock2/driver/core.py:4112\u001B[0m, in \u001B[0;36mDMRGDriver.load_mps\u001B[0;34m(self, tag, nroots)\u001B[0m\n\u001B[1;32m   4110\u001B[0m mps\u001B[38;5;241m.\u001B[39mload_data()\n\u001B[1;32m   4111\u001B[0m mps\u001B[38;5;241m.\u001B[39mload_mutable()\n\u001B[0;32m-> 4112\u001B[0m \u001B[38;5;28;43mself\u001B[39;49m\u001B[38;5;241;43m.\u001B[39;49m\u001B[43mfix_restarting_mps\u001B[49m\u001B[43m(\u001B[49m\u001B[43mmps\u001B[49m\u001B[43m)\u001B[49m\n\u001B[1;32m   4113\u001B[0m \u001B[38;5;28;01mreturn\u001B[39;00m mps\n",
      "File \u001B[0;32m~/planted_solutions/planted_solutions/venv/lib/python3.9/site-packages/pyblock2/driver/core.py:4032\u001B[0m, in \u001B[0;36mDMRGDriver.fix_restarting_mps\u001B[0;34m(self, mps)\u001B[0m\n\u001B[1;32m   4031\u001B[0m \u001B[38;5;28;01mdef\u001B[39;00m \u001B[38;5;21mfix_restarting_mps\u001B[39m(\u001B[38;5;28mself\u001B[39m, mps):\n\u001B[0;32m-> 4032\u001B[0m     cg \u001B[38;5;241m=\u001B[39m \u001B[38;5;28;43mself\u001B[39;49m\u001B[38;5;241;43m.\u001B[39;49m\u001B[43mghamil\u001B[49m\u001B[38;5;241;43m.\u001B[39;49m\u001B[43mopf\u001B[49m\u001B[38;5;241m.\u001B[39mcg\n\u001B[1;32m   4033\u001B[0m     \u001B[38;5;28;01mif\u001B[39;00m (\n\u001B[1;32m   4034\u001B[0m         mps\u001B[38;5;241m.\u001B[39mcanonical_form[mps\u001B[38;5;241m.\u001B[39mcenter] \u001B[38;5;241m==\u001B[39m \u001B[38;5;124m\"\u001B[39m\u001B[38;5;124mL\u001B[39m\u001B[38;5;124m\"\u001B[39m\n\u001B[1;32m   4035\u001B[0m         \u001B[38;5;129;01mand\u001B[39;00m mps\u001B[38;5;241m.\u001B[39mcenter \u001B[38;5;241m!=\u001B[39m mps\u001B[38;5;241m.\u001B[39mn_sites \u001B[38;5;241m-\u001B[39m mps\u001B[38;5;241m.\u001B[39mdot\n\u001B[1;32m   4036\u001B[0m     ):\n\u001B[1;32m   4037\u001B[0m         mps\u001B[38;5;241m.\u001B[39mcenter \u001B[38;5;241m+\u001B[39m\u001B[38;5;241m=\u001B[39m \u001B[38;5;241m1\u001B[39m\n",
      "\u001B[0;31mAttributeError\u001B[0m: 'NoneType' object has no attribute 'opf'"
     ]
    }
   ],
   "execution_count": 8
  },
  {
   "cell_type": "code",
   "execution_count": null,
   "metadata": {},
   "outputs": [],
   "source": []
  }
 ],
 "metadata": {
  "kernelspec": {
   "display_name": "env_dmrghandler",
   "language": "python",
   "name": "python3"
  },
  "language_info": {
   "codemirror_mode": {
    "name": "ipython",
    "version": 3
   },
   "file_extension": ".py",
   "mimetype": "text/x-python",
   "name": "python",
   "nbconvert_exporter": "python",
   "pygments_lexer": "ipython3",
   "version": "3.9.17"
  }
 },
 "nbformat": 4,
 "nbformat_minor": 2
}
